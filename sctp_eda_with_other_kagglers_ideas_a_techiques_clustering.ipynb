{
 "cells": [
  {
   "cell_type": "code",
   "execution_count": 69,
   "metadata": {},
   "outputs": [],
   "source": [
    "import os\n",
    "import gc\n",
    "import logging\n",
    "import time\n",
    "\n",
    "import numpy as np\n",
    "import pandas as pd\n",
    "import matplotlib.pyplot as plt\n",
    "import seaborn as sns\n",
    "import lightgbm as lgb\n",
    "from sklearn.metrics import mean_squared_error, roc_auc_score, roc_curve, accuracy_score, auc\n",
    "from sklearn.model_selection import StratifiedKFold\n",
    "from sklearn.preprocessing import MinMaxScaler, StandardScaler\n",
    "from sklearn.linear_model import LogisticRegression, LogisticRegressionCV\n",
    "from sklearn import svm\n",
    "from sklearn.model_selection import cross_val_score, train_test_split\n",
    "from sklearn.base import clone\n",
    "\n",
    "from sklearn.feature_selection import SelectKBest\n",
    "from sklearn.feature_selection import chi2\n",
    "from sklearn import cluster"
   ]
  },
  {
   "cell_type": "code",
   "execution_count": 2,
   "metadata": {},
   "outputs": [],
   "source": [
    "%matplotlib inline"
   ]
  },
  {
   "cell_type": "code",
   "execution_count": 3,
   "metadata": {},
   "outputs": [],
   "source": [
    "start_time = time.time()"
   ]
  },
  {
   "cell_type": "code",
   "execution_count": 4,
   "metadata": {},
   "outputs": [],
   "source": [
    "train_df = pd.read_csv('../input/train.csv')"
   ]
  },
  {
   "cell_type": "code",
   "execution_count": 5,
   "metadata": {},
   "outputs": [],
   "source": [
    "test_df = pd.read_csv('../input/test.csv')"
   ]
  },
  {
   "cell_type": "code",
   "execution_count": 6,
   "metadata": {},
   "outputs": [
    {
     "name": "stdout",
     "output_type": "stream",
     "text": [
      "<class 'pandas.core.frame.DataFrame'>\n",
      "RangeIndex: 200000 entries, 0 to 199999\n",
      "Columns: 202 entries, ID_code to var_199\n",
      "dtypes: float64(200), int64(1), object(1)\n",
      "memory usage: 308.2+ MB\n"
     ]
    }
   ],
   "source": [
    "train_df.info()"
   ]
  },
  {
   "cell_type": "code",
   "execution_count": 7,
   "metadata": {},
   "outputs": [
    {
     "data": {
      "text/html": [
       "<div>\n",
       "<style scoped>\n",
       "    .dataframe tbody tr th:only-of-type {\n",
       "        vertical-align: middle;\n",
       "    }\n",
       "\n",
       "    .dataframe tbody tr th {\n",
       "        vertical-align: top;\n",
       "    }\n",
       "\n",
       "    .dataframe thead th {\n",
       "        text-align: right;\n",
       "    }\n",
       "</style>\n",
       "<table border=\"1\" class=\"dataframe\">\n",
       "  <thead>\n",
       "    <tr style=\"text-align: right;\">\n",
       "      <th></th>\n",
       "      <th>target</th>\n",
       "      <th>var_0</th>\n",
       "      <th>var_1</th>\n",
       "      <th>var_2</th>\n",
       "      <th>var_3</th>\n",
       "      <th>var_4</th>\n",
       "      <th>var_5</th>\n",
       "      <th>var_6</th>\n",
       "      <th>var_7</th>\n",
       "      <th>var_8</th>\n",
       "      <th>...</th>\n",
       "      <th>var_190</th>\n",
       "      <th>var_191</th>\n",
       "      <th>var_192</th>\n",
       "      <th>var_193</th>\n",
       "      <th>var_194</th>\n",
       "      <th>var_195</th>\n",
       "      <th>var_196</th>\n",
       "      <th>var_197</th>\n",
       "      <th>var_198</th>\n",
       "      <th>var_199</th>\n",
       "    </tr>\n",
       "  </thead>\n",
       "  <tbody>\n",
       "    <tr>\n",
       "      <th>count</th>\n",
       "      <td>200000.000000</td>\n",
       "      <td>200000.000000</td>\n",
       "      <td>200000.000000</td>\n",
       "      <td>200000.000000</td>\n",
       "      <td>200000.000000</td>\n",
       "      <td>200000.000000</td>\n",
       "      <td>200000.000000</td>\n",
       "      <td>200000.000000</td>\n",
       "      <td>200000.000000</td>\n",
       "      <td>200000.000000</td>\n",
       "      <td>...</td>\n",
       "      <td>200000.000000</td>\n",
       "      <td>200000.000000</td>\n",
       "      <td>200000.000000</td>\n",
       "      <td>200000.000000</td>\n",
       "      <td>200000.000000</td>\n",
       "      <td>200000.000000</td>\n",
       "      <td>200000.000000</td>\n",
       "      <td>200000.000000</td>\n",
       "      <td>200000.000000</td>\n",
       "      <td>200000.000000</td>\n",
       "    </tr>\n",
       "    <tr>\n",
       "      <th>mean</th>\n",
       "      <td>0.100490</td>\n",
       "      <td>10.679914</td>\n",
       "      <td>-1.627622</td>\n",
       "      <td>10.715192</td>\n",
       "      <td>6.796529</td>\n",
       "      <td>11.078333</td>\n",
       "      <td>-5.065317</td>\n",
       "      <td>5.408949</td>\n",
       "      <td>16.545850</td>\n",
       "      <td>0.284162</td>\n",
       "      <td>...</td>\n",
       "      <td>3.234440</td>\n",
       "      <td>7.438408</td>\n",
       "      <td>1.927839</td>\n",
       "      <td>3.331774</td>\n",
       "      <td>17.993784</td>\n",
       "      <td>-0.142088</td>\n",
       "      <td>2.303335</td>\n",
       "      <td>8.908158</td>\n",
       "      <td>15.870720</td>\n",
       "      <td>-3.326537</td>\n",
       "    </tr>\n",
       "    <tr>\n",
       "      <th>std</th>\n",
       "      <td>0.300653</td>\n",
       "      <td>3.040051</td>\n",
       "      <td>4.050044</td>\n",
       "      <td>2.640894</td>\n",
       "      <td>2.043319</td>\n",
       "      <td>1.623150</td>\n",
       "      <td>7.863267</td>\n",
       "      <td>0.866607</td>\n",
       "      <td>3.418076</td>\n",
       "      <td>3.332634</td>\n",
       "      <td>...</td>\n",
       "      <td>4.559922</td>\n",
       "      <td>3.023272</td>\n",
       "      <td>1.478423</td>\n",
       "      <td>3.992030</td>\n",
       "      <td>3.135162</td>\n",
       "      <td>1.429372</td>\n",
       "      <td>5.454369</td>\n",
       "      <td>0.921625</td>\n",
       "      <td>3.010945</td>\n",
       "      <td>10.438015</td>\n",
       "    </tr>\n",
       "    <tr>\n",
       "      <th>min</th>\n",
       "      <td>0.000000</td>\n",
       "      <td>0.408400</td>\n",
       "      <td>-15.043400</td>\n",
       "      <td>2.117100</td>\n",
       "      <td>-0.040200</td>\n",
       "      <td>5.074800</td>\n",
       "      <td>-32.562600</td>\n",
       "      <td>2.347300</td>\n",
       "      <td>5.349700</td>\n",
       "      <td>-10.505500</td>\n",
       "      <td>...</td>\n",
       "      <td>-14.093300</td>\n",
       "      <td>-2.691700</td>\n",
       "      <td>-3.814500</td>\n",
       "      <td>-11.783400</td>\n",
       "      <td>8.694400</td>\n",
       "      <td>-5.261000</td>\n",
       "      <td>-14.209600</td>\n",
       "      <td>5.960600</td>\n",
       "      <td>6.299300</td>\n",
       "      <td>-38.852800</td>\n",
       "    </tr>\n",
       "    <tr>\n",
       "      <th>25%</th>\n",
       "      <td>0.000000</td>\n",
       "      <td>8.453850</td>\n",
       "      <td>-4.740025</td>\n",
       "      <td>8.722475</td>\n",
       "      <td>5.254075</td>\n",
       "      <td>9.883175</td>\n",
       "      <td>-11.200350</td>\n",
       "      <td>4.767700</td>\n",
       "      <td>13.943800</td>\n",
       "      <td>-2.317800</td>\n",
       "      <td>...</td>\n",
       "      <td>-0.058825</td>\n",
       "      <td>5.157400</td>\n",
       "      <td>0.889775</td>\n",
       "      <td>0.584600</td>\n",
       "      <td>15.629800</td>\n",
       "      <td>-1.170700</td>\n",
       "      <td>-1.946925</td>\n",
       "      <td>8.252800</td>\n",
       "      <td>13.829700</td>\n",
       "      <td>-11.208475</td>\n",
       "    </tr>\n",
       "    <tr>\n",
       "      <th>50%</th>\n",
       "      <td>0.000000</td>\n",
       "      <td>10.524750</td>\n",
       "      <td>-1.608050</td>\n",
       "      <td>10.580000</td>\n",
       "      <td>6.825000</td>\n",
       "      <td>11.108250</td>\n",
       "      <td>-4.833150</td>\n",
       "      <td>5.385100</td>\n",
       "      <td>16.456800</td>\n",
       "      <td>0.393700</td>\n",
       "      <td>...</td>\n",
       "      <td>3.203600</td>\n",
       "      <td>7.347750</td>\n",
       "      <td>1.901300</td>\n",
       "      <td>3.396350</td>\n",
       "      <td>17.957950</td>\n",
       "      <td>-0.172700</td>\n",
       "      <td>2.408900</td>\n",
       "      <td>8.888200</td>\n",
       "      <td>15.934050</td>\n",
       "      <td>-2.819550</td>\n",
       "    </tr>\n",
       "    <tr>\n",
       "      <th>75%</th>\n",
       "      <td>0.000000</td>\n",
       "      <td>12.758200</td>\n",
       "      <td>1.358625</td>\n",
       "      <td>12.516700</td>\n",
       "      <td>8.324100</td>\n",
       "      <td>12.261125</td>\n",
       "      <td>0.924800</td>\n",
       "      <td>6.003000</td>\n",
       "      <td>19.102900</td>\n",
       "      <td>2.937900</td>\n",
       "      <td>...</td>\n",
       "      <td>6.406200</td>\n",
       "      <td>9.512525</td>\n",
       "      <td>2.949500</td>\n",
       "      <td>6.205800</td>\n",
       "      <td>20.396525</td>\n",
       "      <td>0.829600</td>\n",
       "      <td>6.556725</td>\n",
       "      <td>9.593300</td>\n",
       "      <td>18.064725</td>\n",
       "      <td>4.836800</td>\n",
       "    </tr>\n",
       "    <tr>\n",
       "      <th>max</th>\n",
       "      <td>1.000000</td>\n",
       "      <td>20.315000</td>\n",
       "      <td>10.376800</td>\n",
       "      <td>19.353000</td>\n",
       "      <td>13.188300</td>\n",
       "      <td>16.671400</td>\n",
       "      <td>17.251600</td>\n",
       "      <td>8.447700</td>\n",
       "      <td>27.691800</td>\n",
       "      <td>10.151300</td>\n",
       "      <td>...</td>\n",
       "      <td>18.440900</td>\n",
       "      <td>16.716500</td>\n",
       "      <td>8.402400</td>\n",
       "      <td>18.281800</td>\n",
       "      <td>27.928800</td>\n",
       "      <td>4.272900</td>\n",
       "      <td>18.321500</td>\n",
       "      <td>12.000400</td>\n",
       "      <td>26.079100</td>\n",
       "      <td>28.500700</td>\n",
       "    </tr>\n",
       "  </tbody>\n",
       "</table>\n",
       "<p>8 rows × 201 columns</p>\n",
       "</div>"
      ],
      "text/plain": [
       "              target          var_0          var_1          var_2  \\\n",
       "count  200000.000000  200000.000000  200000.000000  200000.000000   \n",
       "mean        0.100490      10.679914      -1.627622      10.715192   \n",
       "std         0.300653       3.040051       4.050044       2.640894   \n",
       "min         0.000000       0.408400     -15.043400       2.117100   \n",
       "25%         0.000000       8.453850      -4.740025       8.722475   \n",
       "50%         0.000000      10.524750      -1.608050      10.580000   \n",
       "75%         0.000000      12.758200       1.358625      12.516700   \n",
       "max         1.000000      20.315000      10.376800      19.353000   \n",
       "\n",
       "               var_3          var_4          var_5          var_6  \\\n",
       "count  200000.000000  200000.000000  200000.000000  200000.000000   \n",
       "mean        6.796529      11.078333      -5.065317       5.408949   \n",
       "std         2.043319       1.623150       7.863267       0.866607   \n",
       "min        -0.040200       5.074800     -32.562600       2.347300   \n",
       "25%         5.254075       9.883175     -11.200350       4.767700   \n",
       "50%         6.825000      11.108250      -4.833150       5.385100   \n",
       "75%         8.324100      12.261125       0.924800       6.003000   \n",
       "max        13.188300      16.671400      17.251600       8.447700   \n",
       "\n",
       "               var_7          var_8      ...              var_190  \\\n",
       "count  200000.000000  200000.000000      ...        200000.000000   \n",
       "mean       16.545850       0.284162      ...             3.234440   \n",
       "std         3.418076       3.332634      ...             4.559922   \n",
       "min         5.349700     -10.505500      ...           -14.093300   \n",
       "25%        13.943800      -2.317800      ...            -0.058825   \n",
       "50%        16.456800       0.393700      ...             3.203600   \n",
       "75%        19.102900       2.937900      ...             6.406200   \n",
       "max        27.691800      10.151300      ...            18.440900   \n",
       "\n",
       "             var_191        var_192        var_193        var_194  \\\n",
       "count  200000.000000  200000.000000  200000.000000  200000.000000   \n",
       "mean        7.438408       1.927839       3.331774      17.993784   \n",
       "std         3.023272       1.478423       3.992030       3.135162   \n",
       "min        -2.691700      -3.814500     -11.783400       8.694400   \n",
       "25%         5.157400       0.889775       0.584600      15.629800   \n",
       "50%         7.347750       1.901300       3.396350      17.957950   \n",
       "75%         9.512525       2.949500       6.205800      20.396525   \n",
       "max        16.716500       8.402400      18.281800      27.928800   \n",
       "\n",
       "             var_195        var_196        var_197        var_198  \\\n",
       "count  200000.000000  200000.000000  200000.000000  200000.000000   \n",
       "mean       -0.142088       2.303335       8.908158      15.870720   \n",
       "std         1.429372       5.454369       0.921625       3.010945   \n",
       "min        -5.261000     -14.209600       5.960600       6.299300   \n",
       "25%        -1.170700      -1.946925       8.252800      13.829700   \n",
       "50%        -0.172700       2.408900       8.888200      15.934050   \n",
       "75%         0.829600       6.556725       9.593300      18.064725   \n",
       "max         4.272900      18.321500      12.000400      26.079100   \n",
       "\n",
       "             var_199  \n",
       "count  200000.000000  \n",
       "mean       -3.326537  \n",
       "std        10.438015  \n",
       "min       -38.852800  \n",
       "25%       -11.208475  \n",
       "50%        -2.819550  \n",
       "75%         4.836800  \n",
       "max        28.500700  \n",
       "\n",
       "[8 rows x 201 columns]"
      ]
     },
     "execution_count": 7,
     "metadata": {},
     "output_type": "execute_result"
    }
   ],
   "source": [
    "train_df.describe()"
   ]
  },
  {
   "cell_type": "code",
   "execution_count": 8,
   "metadata": {},
   "outputs": [
    {
     "data": {
      "text/plain": [
       "(200000, 202)"
      ]
     },
     "execution_count": 8,
     "metadata": {},
     "output_type": "execute_result"
    }
   ],
   "source": [
    "train_df.shape"
   ]
  },
  {
   "cell_type": "code",
   "execution_count": 9,
   "metadata": {},
   "outputs": [
    {
     "data": {
      "text/html": [
       "<div>\n",
       "<style scoped>\n",
       "    .dataframe tbody tr th:only-of-type {\n",
       "        vertical-align: middle;\n",
       "    }\n",
       "\n",
       "    .dataframe tbody tr th {\n",
       "        vertical-align: top;\n",
       "    }\n",
       "\n",
       "    .dataframe thead th {\n",
       "        text-align: right;\n",
       "    }\n",
       "</style>\n",
       "<table border=\"1\" class=\"dataframe\">\n",
       "  <thead>\n",
       "    <tr style=\"text-align: right;\">\n",
       "      <th></th>\n",
       "      <th>ID_code</th>\n",
       "      <th>target</th>\n",
       "      <th>var_0</th>\n",
       "      <th>var_1</th>\n",
       "      <th>var_2</th>\n",
       "      <th>var_3</th>\n",
       "      <th>var_4</th>\n",
       "      <th>var_5</th>\n",
       "      <th>var_6</th>\n",
       "      <th>var_7</th>\n",
       "      <th>...</th>\n",
       "      <th>var_190</th>\n",
       "      <th>var_191</th>\n",
       "      <th>var_192</th>\n",
       "      <th>var_193</th>\n",
       "      <th>var_194</th>\n",
       "      <th>var_195</th>\n",
       "      <th>var_196</th>\n",
       "      <th>var_197</th>\n",
       "      <th>var_198</th>\n",
       "      <th>var_199</th>\n",
       "    </tr>\n",
       "  </thead>\n",
       "  <tbody>\n",
       "    <tr>\n",
       "      <th>0</th>\n",
       "      <td>train_0</td>\n",
       "      <td>0</td>\n",
       "      <td>8.9255</td>\n",
       "      <td>-6.7863</td>\n",
       "      <td>11.9081</td>\n",
       "      <td>5.0930</td>\n",
       "      <td>11.4607</td>\n",
       "      <td>-9.2834</td>\n",
       "      <td>5.1187</td>\n",
       "      <td>18.6266</td>\n",
       "      <td>...</td>\n",
       "      <td>4.4354</td>\n",
       "      <td>3.9642</td>\n",
       "      <td>3.1364</td>\n",
       "      <td>1.6910</td>\n",
       "      <td>18.5227</td>\n",
       "      <td>-2.3978</td>\n",
       "      <td>7.8784</td>\n",
       "      <td>8.5635</td>\n",
       "      <td>12.7803</td>\n",
       "      <td>-1.0914</td>\n",
       "    </tr>\n",
       "    <tr>\n",
       "      <th>1</th>\n",
       "      <td>train_1</td>\n",
       "      <td>0</td>\n",
       "      <td>11.5006</td>\n",
       "      <td>-4.1473</td>\n",
       "      <td>13.8588</td>\n",
       "      <td>5.3890</td>\n",
       "      <td>12.3622</td>\n",
       "      <td>7.0433</td>\n",
       "      <td>5.6208</td>\n",
       "      <td>16.5338</td>\n",
       "      <td>...</td>\n",
       "      <td>7.6421</td>\n",
       "      <td>7.7214</td>\n",
       "      <td>2.5837</td>\n",
       "      <td>10.9516</td>\n",
       "      <td>15.4305</td>\n",
       "      <td>2.0339</td>\n",
       "      <td>8.1267</td>\n",
       "      <td>8.7889</td>\n",
       "      <td>18.3560</td>\n",
       "      <td>1.9518</td>\n",
       "    </tr>\n",
       "    <tr>\n",
       "      <th>2</th>\n",
       "      <td>train_2</td>\n",
       "      <td>0</td>\n",
       "      <td>8.6093</td>\n",
       "      <td>-2.7457</td>\n",
       "      <td>12.0805</td>\n",
       "      <td>7.8928</td>\n",
       "      <td>10.5825</td>\n",
       "      <td>-9.0837</td>\n",
       "      <td>6.9427</td>\n",
       "      <td>14.6155</td>\n",
       "      <td>...</td>\n",
       "      <td>2.9057</td>\n",
       "      <td>9.7905</td>\n",
       "      <td>1.6704</td>\n",
       "      <td>1.6858</td>\n",
       "      <td>21.6042</td>\n",
       "      <td>3.1417</td>\n",
       "      <td>-6.5213</td>\n",
       "      <td>8.2675</td>\n",
       "      <td>14.7222</td>\n",
       "      <td>0.3965</td>\n",
       "    </tr>\n",
       "    <tr>\n",
       "      <th>3</th>\n",
       "      <td>train_3</td>\n",
       "      <td>0</td>\n",
       "      <td>11.0604</td>\n",
       "      <td>-2.1518</td>\n",
       "      <td>8.9522</td>\n",
       "      <td>7.1957</td>\n",
       "      <td>12.5846</td>\n",
       "      <td>-1.8361</td>\n",
       "      <td>5.8428</td>\n",
       "      <td>14.9250</td>\n",
       "      <td>...</td>\n",
       "      <td>4.4666</td>\n",
       "      <td>4.7433</td>\n",
       "      <td>0.7178</td>\n",
       "      <td>1.4214</td>\n",
       "      <td>23.0347</td>\n",
       "      <td>-1.2706</td>\n",
       "      <td>-2.9275</td>\n",
       "      <td>10.2922</td>\n",
       "      <td>17.9697</td>\n",
       "      <td>-8.9996</td>\n",
       "    </tr>\n",
       "    <tr>\n",
       "      <th>4</th>\n",
       "      <td>train_4</td>\n",
       "      <td>0</td>\n",
       "      <td>9.8369</td>\n",
       "      <td>-1.4834</td>\n",
       "      <td>12.8746</td>\n",
       "      <td>6.6375</td>\n",
       "      <td>12.2772</td>\n",
       "      <td>2.4486</td>\n",
       "      <td>5.9405</td>\n",
       "      <td>19.2514</td>\n",
       "      <td>...</td>\n",
       "      <td>-1.4905</td>\n",
       "      <td>9.5214</td>\n",
       "      <td>-0.1508</td>\n",
       "      <td>9.1942</td>\n",
       "      <td>13.2876</td>\n",
       "      <td>-1.5121</td>\n",
       "      <td>3.9267</td>\n",
       "      <td>9.5031</td>\n",
       "      <td>17.9974</td>\n",
       "      <td>-8.8104</td>\n",
       "    </tr>\n",
       "  </tbody>\n",
       "</table>\n",
       "<p>5 rows × 202 columns</p>\n",
       "</div>"
      ],
      "text/plain": [
       "   ID_code  target    var_0   var_1    var_2   var_3    var_4   var_5   var_6  \\\n",
       "0  train_0       0   8.9255 -6.7863  11.9081  5.0930  11.4607 -9.2834  5.1187   \n",
       "1  train_1       0  11.5006 -4.1473  13.8588  5.3890  12.3622  7.0433  5.6208   \n",
       "2  train_2       0   8.6093 -2.7457  12.0805  7.8928  10.5825 -9.0837  6.9427   \n",
       "3  train_3       0  11.0604 -2.1518   8.9522  7.1957  12.5846 -1.8361  5.8428   \n",
       "4  train_4       0   9.8369 -1.4834  12.8746  6.6375  12.2772  2.4486  5.9405   \n",
       "\n",
       "     var_7   ...     var_190  var_191  var_192  var_193  var_194  var_195  \\\n",
       "0  18.6266   ...      4.4354   3.9642   3.1364   1.6910  18.5227  -2.3978   \n",
       "1  16.5338   ...      7.6421   7.7214   2.5837  10.9516  15.4305   2.0339   \n",
       "2  14.6155   ...      2.9057   9.7905   1.6704   1.6858  21.6042   3.1417   \n",
       "3  14.9250   ...      4.4666   4.7433   0.7178   1.4214  23.0347  -1.2706   \n",
       "4  19.2514   ...     -1.4905   9.5214  -0.1508   9.1942  13.2876  -1.5121   \n",
       "\n",
       "   var_196  var_197  var_198  var_199  \n",
       "0   7.8784   8.5635  12.7803  -1.0914  \n",
       "1   8.1267   8.7889  18.3560   1.9518  \n",
       "2  -6.5213   8.2675  14.7222   0.3965  \n",
       "3  -2.9275  10.2922  17.9697  -8.9996  \n",
       "4   3.9267   9.5031  17.9974  -8.8104  \n",
       "\n",
       "[5 rows x 202 columns]"
      ]
     },
     "execution_count": 9,
     "metadata": {},
     "output_type": "execute_result"
    }
   ],
   "source": [
    "train_df.head()"
   ]
  },
  {
   "cell_type": "code",
   "execution_count": 10,
   "metadata": {},
   "outputs": [
    {
     "data": {
      "text/plain": [
       "'\\nobject_type_columns = []\\nint_type_columns = []\\nfloat_type_columns = []\\nfor column_name in train_df.columns.tolist():\\n    is isinstance(train_df[column_name], pd)\\n'"
      ]
     },
     "execution_count": 10,
     "metadata": {},
     "output_type": "execute_result"
    }
   ],
   "source": [
    "'''\n",
    "object_type_columns = []\n",
    "int_type_columns = []\n",
    "float_type_columns = []\n",
    "for column_name in train_df.columns.tolist():\n",
    "    is isinstance(train_df[column_name], pd)\n",
    "'''"
   ]
  },
  {
   "cell_type": "code",
   "execution_count": 11,
   "metadata": {},
   "outputs": [
    {
     "data": {
      "text/plain": [
       "ID_code     object\n",
       "target       int64\n",
       "var_0      float64\n",
       "var_1      float64\n",
       "var_2      float64\n",
       "var_3      float64\n",
       "var_4      float64\n",
       "var_5      float64\n",
       "var_6      float64\n",
       "var_7      float64\n",
       "var_8      float64\n",
       "var_9      float64\n",
       "var_10     float64\n",
       "var_11     float64\n",
       "var_12     float64\n",
       "var_13     float64\n",
       "var_14     float64\n",
       "var_15     float64\n",
       "var_16     float64\n",
       "var_17     float64\n",
       "var_18     float64\n",
       "var_19     float64\n",
       "var_20     float64\n",
       "var_21     float64\n",
       "var_22     float64\n",
       "var_23     float64\n",
       "var_24     float64\n",
       "var_25     float64\n",
       "var_26     float64\n",
       "var_27     float64\n",
       "            ...   \n",
       "var_170    float64\n",
       "var_171    float64\n",
       "var_172    float64\n",
       "var_173    float64\n",
       "var_174    float64\n",
       "var_175    float64\n",
       "var_176    float64\n",
       "var_177    float64\n",
       "var_178    float64\n",
       "var_179    float64\n",
       "var_180    float64\n",
       "var_181    float64\n",
       "var_182    float64\n",
       "var_183    float64\n",
       "var_184    float64\n",
       "var_185    float64\n",
       "var_186    float64\n",
       "var_187    float64\n",
       "var_188    float64\n",
       "var_189    float64\n",
       "var_190    float64\n",
       "var_191    float64\n",
       "var_192    float64\n",
       "var_193    float64\n",
       "var_194    float64\n",
       "var_195    float64\n",
       "var_196    float64\n",
       "var_197    float64\n",
       "var_198    float64\n",
       "var_199    float64\n",
       "Length: 202, dtype: object"
      ]
     },
     "execution_count": 11,
     "metadata": {},
     "output_type": "execute_result"
    }
   ],
   "source": [
    "train_df.dtypes"
   ]
  },
  {
   "cell_type": "code",
   "execution_count": 12,
   "metadata": {},
   "outputs": [],
   "source": [
    "train_df_id_droped = train_df[train_df.columns.drop('ID_code')]"
   ]
  },
  {
   "cell_type": "code",
   "execution_count": 13,
   "metadata": {},
   "outputs": [],
   "source": [
    "train_df_cross_corelation_matrix = train_df_id_droped.corr()"
   ]
  },
  {
   "cell_type": "code",
   "execution_count": 14,
   "metadata": {},
   "outputs": [],
   "source": [
    "#train_df_cross_corelation_matrix.corr?"
   ]
  },
  {
   "cell_type": "code",
   "execution_count": 15,
   "metadata": {},
   "outputs": [
    {
     "data": {
      "text/plain": [
       "(201, 201)"
      ]
     },
     "execution_count": 15,
     "metadata": {},
     "output_type": "execute_result"
    }
   ],
   "source": [
    "train_df_cross_corelation_matrix.shape"
   ]
  },
  {
   "cell_type": "code",
   "execution_count": 16,
   "metadata": {},
   "outputs": [
    {
     "data": {
      "text/plain": [
       "target     1.0\n",
       "var_0      1.0\n",
       "var_1      1.0\n",
       "var_2      1.0\n",
       "var_3      1.0\n",
       "var_4      1.0\n",
       "var_5      1.0\n",
       "var_6      1.0\n",
       "var_7      1.0\n",
       "var_8      1.0\n",
       "var_9      1.0\n",
       "var_10     1.0\n",
       "var_11     1.0\n",
       "var_12     1.0\n",
       "var_13     1.0\n",
       "var_14     1.0\n",
       "var_15     1.0\n",
       "var_16     1.0\n",
       "var_17     1.0\n",
       "var_18     1.0\n",
       "var_19     1.0\n",
       "var_20     1.0\n",
       "var_21     1.0\n",
       "var_22     1.0\n",
       "var_23     1.0\n",
       "var_24     1.0\n",
       "var_25     1.0\n",
       "var_26     1.0\n",
       "var_27     1.0\n",
       "var_28     1.0\n",
       "          ... \n",
       "var_170    1.0\n",
       "var_171    1.0\n",
       "var_172    1.0\n",
       "var_173    1.0\n",
       "var_174    1.0\n",
       "var_175    1.0\n",
       "var_176    1.0\n",
       "var_177    1.0\n",
       "var_178    1.0\n",
       "var_179    1.0\n",
       "var_180    1.0\n",
       "var_181    1.0\n",
       "var_182    1.0\n",
       "var_183    1.0\n",
       "var_184    1.0\n",
       "var_185    1.0\n",
       "var_186    1.0\n",
       "var_187    1.0\n",
       "var_188    1.0\n",
       "var_189    1.0\n",
       "var_190    1.0\n",
       "var_191    1.0\n",
       "var_192    1.0\n",
       "var_193    1.0\n",
       "var_194    1.0\n",
       "var_195    1.0\n",
       "var_196    1.0\n",
       "var_197    1.0\n",
       "var_198    1.0\n",
       "var_199    1.0\n",
       "Length: 201, dtype: float64"
      ]
     },
     "execution_count": 16,
     "metadata": {},
     "output_type": "execute_result"
    }
   ],
   "source": [
    "train_df_cross_corelation_matrix.max()"
   ]
  },
  {
   "cell_type": "code",
   "execution_count": 17,
   "metadata": {},
   "outputs": [],
   "source": [
    "#train_df_cross_corelation_matrix.head()[:5]"
   ]
  },
  {
   "cell_type": "code",
   "execution_count": 18,
   "metadata": {},
   "outputs": [
    {
     "data": {
      "text/plain": [
       "1.0"
      ]
     },
     "execution_count": 18,
     "metadata": {},
     "output_type": "execute_result"
    }
   ],
   "source": [
    "train_df_cross_corelation_matrix.iloc[0, 0]"
   ]
  },
  {
   "cell_type": "code",
   "execution_count": 19,
   "metadata": {},
   "outputs": [],
   "source": [
    "for i in range(201):\n",
    "    train_df_cross_corelation_matrix.iloc[i, i] = 0"
   ]
  },
  {
   "cell_type": "code",
   "execution_count": 20,
   "metadata": {},
   "outputs": [],
   "source": [
    "#train_df_cross_corelation_matrix.head()"
   ]
  },
  {
   "cell_type": "code",
   "execution_count": 21,
   "metadata": {},
   "outputs": [
    {
     "data": {
      "text/plain": [
       "(201, 201)"
      ]
     },
     "execution_count": 21,
     "metadata": {},
     "output_type": "execute_result"
    }
   ],
   "source": [
    "train_df_cross_corelation_matrix.shape"
   ]
  },
  {
   "cell_type": "code",
   "execution_count": 22,
   "metadata": {},
   "outputs": [],
   "source": [
    "max_corr_all_features = train_df_cross_corelation_matrix.max()"
   ]
  },
  {
   "cell_type": "code",
   "execution_count": 23,
   "metadata": {},
   "outputs": [
    {
     "data": {
      "text/plain": [
       "target     0.066731\n",
       "var_0      0.052390\n",
       "var_1      0.050343\n",
       "var_2      0.055870\n",
       "var_3      0.011055\n",
       "var_4      0.010915\n",
       "var_5      0.030979\n",
       "var_6      0.066731\n",
       "var_7      0.005093\n",
       "var_8      0.019584\n",
       "var_9      0.005951\n",
       "var_10     0.005590\n",
       "var_11     0.022993\n",
       "var_12     0.008591\n",
       "var_13     0.007843\n",
       "var_14     0.005557\n",
       "var_15     0.017283\n",
       "var_16     0.008117\n",
       "var_17     0.004278\n",
       "var_18     0.043479\n",
       "var_19     0.011291\n",
       "var_20     0.006123\n",
       "var_21     0.007166\n",
       "var_22     0.060558\n",
       "var_23     0.007298\n",
       "var_24     0.028477\n",
       "var_25     0.013328\n",
       "var_26     0.062422\n",
       "var_27     0.005218\n",
       "var_28     0.005621\n",
       "             ...   \n",
       "var_170    0.047973\n",
       "var_171    0.014873\n",
       "var_172    0.008936\n",
       "var_173    0.042022\n",
       "var_174    0.009490\n",
       "var_175    0.021692\n",
       "var_176    0.007469\n",
       "var_177    0.006667\n",
       "var_178    0.005664\n",
       "var_179    0.050002\n",
       "var_180    0.031190\n",
       "var_181    0.013714\n",
       "var_182    0.006446\n",
       "var_183    0.009359\n",
       "var_184    0.048315\n",
       "var_185    0.005879\n",
       "var_186    0.006822\n",
       "var_187    0.014873\n",
       "var_188    0.007765\n",
       "var_189    0.009359\n",
       "var_190    0.055973\n",
       "var_191    0.047114\n",
       "var_192    0.006646\n",
       "var_193    0.008163\n",
       "var_194    0.005413\n",
       "var_195    0.028285\n",
       "var_196    0.023608\n",
       "var_197    0.005171\n",
       "var_198    0.007545\n",
       "var_199    0.025434\n",
       "Length: 201, dtype: float64"
      ]
     },
     "execution_count": 23,
     "metadata": {},
     "output_type": "execute_result"
    }
   ],
   "source": [
    "max_corr_all_features"
   ]
  },
  {
   "cell_type": "code",
   "execution_count": 24,
   "metadata": {},
   "outputs": [],
   "source": [
    "min_corr_all_features = train_df_cross_corelation_matrix.min()"
   ]
  },
  {
   "cell_type": "code",
   "execution_count": 25,
   "metadata": {},
   "outputs": [
    {
     "data": {
      "text/plain": [
       "target    -0.080917\n",
       "var_0     -0.007402\n",
       "var_1     -0.008855\n",
       "var_2     -0.008795\n",
       "var_3     -0.007140\n",
       "var_4     -0.007080\n",
       "var_5     -0.005686\n",
       "var_6     -0.008958\n",
       "var_7     -0.005396\n",
       "var_8     -0.005311\n",
       "var_9     -0.042805\n",
       "var_10    -0.008002\n",
       "var_11    -0.006064\n",
       "var_12    -0.069489\n",
       "var_13    -0.055156\n",
       "var_14    -0.006332\n",
       "var_15    -0.006735\n",
       "var_16    -0.006676\n",
       "var_17    -0.004846\n",
       "var_18    -0.007355\n",
       "var_19    -0.006815\n",
       "var_20    -0.018329\n",
       "var_21    -0.058483\n",
       "var_22    -0.007158\n",
       "var_23    -0.025473\n",
       "var_24    -0.006770\n",
       "var_25    -0.005232\n",
       "var_26    -0.009844\n",
       "var_27    -0.005143\n",
       "var_28    -0.023942\n",
       "             ...   \n",
       "var_170   -0.007749\n",
       "var_171   -0.007080\n",
       "var_172   -0.037976\n",
       "var_173   -0.005893\n",
       "var_174   -0.061669\n",
       "var_175   -0.006886\n",
       "var_176   -0.006647\n",
       "var_177   -0.036863\n",
       "var_178   -0.019681\n",
       "var_179   -0.008394\n",
       "var_180   -0.005537\n",
       "var_181   -0.006153\n",
       "var_182   -0.007198\n",
       "var_183   -0.005467\n",
       "var_184   -0.005032\n",
       "var_185   -0.005858\n",
       "var_186   -0.030421\n",
       "var_187   -0.005331\n",
       "var_188   -0.034015\n",
       "var_189   -0.004493\n",
       "var_190   -0.007029\n",
       "var_191   -0.007798\n",
       "var_192   -0.042858\n",
       "var_193   -0.017709\n",
       "var_194   -0.022838\n",
       "var_195   -0.007932\n",
       "var_196   -0.006192\n",
       "var_197   -0.035303\n",
       "var_198   -0.053000\n",
       "var_199   -0.005923\n",
       "Length: 201, dtype: float64"
      ]
     },
     "execution_count": 25,
     "metadata": {},
     "output_type": "execute_result"
    }
   ],
   "source": [
    "min_corr_all_features"
   ]
  },
  {
   "cell_type": "code",
   "execution_count": 26,
   "metadata": {},
   "outputs": [],
   "source": [
    "unstacked_corelations = train_df_cross_corelation_matrix.unstack().sort_values().drop_duplicates()"
   ]
  },
  {
   "cell_type": "code",
   "execution_count": 27,
   "metadata": {},
   "outputs": [
    {
     "data": {
      "text/plain": [
       "target   var_81    -0.080917\n",
       "         var_139   -0.074080\n",
       "var_12   target    -0.069489\n",
       "var_146  target    -0.063644\n",
       "var_76   target    -0.061917\n",
       "target   var_174   -0.061669\n",
       "var_21   target    -0.058483\n",
       "var_166  target    -0.057773\n",
       "var_80   target    -0.057609\n",
       "target   var_165   -0.055734\n",
       "         var_13    -0.055156\n",
       "         var_148   -0.055011\n",
       "var_198  target    -0.053000\n",
       "var_34   target    -0.052692\n",
       "target   var_115   -0.050174\n",
       "         var_109   -0.049926\n",
       "         var_44    -0.049039\n",
       "var_169  target    -0.048382\n",
       "target   var_149   -0.047319\n",
       "var_92   target    -0.046295\n",
       "var_154  target    -0.046106\n",
       "var_108  target    -0.044791\n",
       "target   var_33    -0.044334\n",
       "         var_192   -0.042858\n",
       "         var_9     -0.042805\n",
       "         var_122   -0.042461\n",
       "         var_123   -0.040291\n",
       "         var_107   -0.039997\n",
       "         var_121   -0.039788\n",
       "var_86   target    -0.039126\n",
       "                      ...   \n",
       "target   var_71     0.033607\n",
       "         var_35     0.036567\n",
       "         var_155    0.037240\n",
       "var_95   target     0.038531\n",
       "target   var_89     0.039369\n",
       "var_91   target     0.040127\n",
       "target   var_147    0.040280\n",
       "         var_118    0.040358\n",
       "var_164  target     0.040997\n",
       "var_173  target     0.042022\n",
       "target   var_18     0.043479\n",
       "var_67   target     0.044673\n",
       "var_94   target     0.046296\n",
       "target   var_191    0.047114\n",
       "         var_170    0.047973\n",
       "         var_78     0.048245\n",
       "         var_184    0.048315\n",
       "         var_40     0.049530\n",
       "         var_179    0.050002\n",
       "var_1    target     0.050343\n",
       "target   var_0      0.052390\n",
       "         var_133    0.054548\n",
       "         var_2      0.055870\n",
       "var_190  target     0.055973\n",
       "target   var_99     0.058367\n",
       "var_22   target     0.060558\n",
       "var_26   target     0.062422\n",
       "target   var_53     0.063399\n",
       "var_110  target     0.064275\n",
       "var_6    target     0.066731\n",
       "Length: 20101, dtype: float64"
      ]
     },
     "execution_count": 27,
     "metadata": {},
     "output_type": "execute_result"
    }
   ],
   "source": [
    "unstacked_corelations"
   ]
  },
  {
   "cell_type": "code",
   "execution_count": 28,
   "metadata": {},
   "outputs": [
    {
     "data": {
      "text/plain": [
       "pandas.core.series.Series"
      ]
     },
     "execution_count": 28,
     "metadata": {},
     "output_type": "execute_result"
    }
   ],
   "source": [
    "type(unstacked_corelations)"
   ]
  },
  {
   "cell_type": "code",
   "execution_count": 29,
   "metadata": {},
   "outputs": [],
   "source": [
    "#unstacked_corelations.index"
   ]
  },
  {
   "cell_type": "code",
   "execution_count": 30,
   "metadata": {},
   "outputs": [],
   "source": [
    "var_0 = train_df.loc[:, 'var_0']"
   ]
  },
  {
   "cell_type": "code",
   "execution_count": 31,
   "metadata": {},
   "outputs": [
    {
     "data": {
      "text/plain": [
       "(20101,)"
      ]
     },
     "execution_count": 31,
     "metadata": {},
     "output_type": "execute_result"
    }
   ],
   "source": [
    "unstacked_corelations.shape"
   ]
  },
  {
   "cell_type": "code",
   "execution_count": 32,
   "metadata": {},
   "outputs": [
    {
     "data": {
      "text/plain": [
       "'\\nfor column_name in train_df.columns.drop([\\'ID_code\\', \\'target\\']):\\n    column = train_df.loc[:, column_name]\\n    print(\"{}: max {}, min {}, mean {}, median {}, mode {}, shape[0] {}, uniques.shape[0] {}, isnan {} \\n\".format(\\n        column_name,\\n        column.max(),\\n        column.min(),\\n        column.mean(),\\n        column.median(),\\n        column.mode()[0],\\n        column.shape[0],\\n        column.unique().shape[0],\\n        any(column.isna())\\n    ))\\n'"
      ]
     },
     "execution_count": 32,
     "metadata": {},
     "output_type": "execute_result"
    }
   ],
   "source": [
    "'''\n",
    "for column_name in train_df.columns.drop(['ID_code', 'target']):\n",
    "    column = train_df.loc[:, column_name]\n",
    "    print(\"{}: max {}, min {}, mean {}, median {}, mode {}, shape[0] {}, uniques.shape[0] {}, isnan {} \\n\".format(\n",
    "        column_name,\n",
    "        column.max(),\n",
    "        column.min(),\n",
    "        column.mean(),\n",
    "        column.median(),\n",
    "        column.mode()[0],\n",
    "        column.shape[0],\n",
    "        column.unique().shape[0],\n",
    "        any(column.isna())\n",
    "    ))\n",
    "'''"
   ]
  },
  {
   "cell_type": "code",
   "execution_count": 33,
   "metadata": {},
   "outputs": [
    {
     "data": {
      "text/plain": [
       "\"\\nfor column_name in train_df.columns.drop(['ID_code', 'target']):\\n    column = train_df.loc[:, column_name]\\n    fig = plt.figure(figsize=(18, 16))\\n    ax = fig.add_subplot(111)\\n    #column.hist()\\n    ax.hist(column, bins=200)\\n    #ax.bar(column)\\n    ax.set_title(column_name)\\n    plt.show()\\n\""
      ]
     },
     "execution_count": 33,
     "metadata": {},
     "output_type": "execute_result"
    }
   ],
   "source": [
    "'''\n",
    "for column_name in train_df.columns.drop(['ID_code', 'target']):\n",
    "    column = train_df.loc[:, column_name]\n",
    "    fig = plt.figure(figsize=(18, 16))\n",
    "    ax = fig.add_subplot(111)\n",
    "    #column.hist()\n",
    "    ax.hist(column, bins=200)\n",
    "    #ax.bar(column)\n",
    "    ax.set_title(column_name)\n",
    "    plt.show()\n",
    "'''"
   ]
  },
  {
   "cell_type": "code",
   "execution_count": 34,
   "metadata": {},
   "outputs": [
    {
     "data": {
      "text/plain": [
       "True"
      ]
     },
     "execution_count": 34,
     "metadata": {},
     "output_type": "execute_result"
    }
   ],
   "source": [
    "any(train_df_id_droped.isna())"
   ]
  },
  {
   "cell_type": "code",
   "execution_count": 35,
   "metadata": {},
   "outputs": [
    {
     "data": {
      "text/plain": [
       "'\\ncolumns_with_nan = []\\ncolumns_without_nan = []\\nfor column_name in train_df_id_droped.columns.tolist():\\n    print(column_name, )\\n    if any(train_df_id_droped[column_name].isna()):\\n        columns_with_nan.append(column_name)\\n    else:\\n        columns_without_nan.append(column_name)\\n'"
      ]
     },
     "execution_count": 35,
     "metadata": {},
     "output_type": "execute_result"
    }
   ],
   "source": [
    "'''\n",
    "columns_with_nan = []\n",
    "columns_without_nan = []\n",
    "for column_name in train_df_id_droped.columns.tolist():\n",
    "    print(column_name, )\n",
    "    if any(train_df_id_droped[column_name].isna()):\n",
    "        columns_with_nan.append(column_name)\n",
    "    else:\n",
    "        columns_without_nan.append(column_name)\n",
    "'''"
   ]
  },
  {
   "cell_type": "code",
   "execution_count": 37,
   "metadata": {},
   "outputs": [],
   "source": [
    "for i in range(201):\n",
    "    train_df_cross_corelation_matrix.iloc[i, i] = 1"
   ]
  },
  {
   "cell_type": "code",
   "execution_count": 38,
   "metadata": {},
   "outputs": [],
   "source": [
    "features_min_correlation = {}\n",
    "for column_name in train_df_cross_corelation_matrix.columns.tolist():\n",
    "    idxmin = train_df_cross_corelation_matrix.loc[:, column_name].abs().idxmin()\n",
    "    features_min_correlation.update({(column_name, idxmin): train_df_cross_corelation_matrix.abs().loc[column_name, idxmin]})\n"
   ]
  },
  {
   "cell_type": "code",
   "execution_count": null,
   "metadata": {},
   "outputs": [],
   "source": [
    "#train_df_cross_corelation_matrix.idxmin?"
   ]
  },
  {
   "cell_type": "code",
   "execution_count": 39,
   "metadata": {},
   "outputs": [],
   "source": [
    "features_min_correlation_reverse = {}\n",
    "for key, value in features_min_correlation.items():\n",
    "    #print(key, value)\n",
    "    features_min_correlation_reverse.update({value: key})"
   ]
  },
  {
   "cell_type": "code",
   "execution_count": 40,
   "metadata": {},
   "outputs": [],
   "source": [
    "sorted_min_correlations_values = sorted(features_min_correlation_reverse.keys())\n",
    "#print(sorted_min_correlations_values)"
   ]
  },
  {
   "cell_type": "code",
   "execution_count": 41,
   "metadata": {},
   "outputs": [],
   "source": [
    "min_of_min_correlated_features_10 = []\n",
    "for value in sorted_min_correlations_values[:10]:\n",
    "    #print(value)\n",
    "    min_of_min_correlated_features_10.append(features_min_correlation_reverse[value])"
   ]
  },
  {
   "cell_type": "code",
   "execution_count": 42,
   "metadata": {},
   "outputs": [
    {
     "name": "stdout",
     "output_type": "stream",
     "text": [
      "[('var_191', 'var_75'), ('var_173', 'var_6'), ('var_126', 'var_109'), ('var_144', 'var_27'), ('var_177', 'var_100'), ('var_181', 'var_12'), ('var_150', 'var_116'), ('var_142', 'var_44'), ('var_171', 'var_13'), ('var_69', 'var_126')]\n"
     ]
    }
   ],
   "source": [
    "print(min_of_min_correlated_features_10)"
   ]
  },
  {
   "cell_type": "code",
   "execution_count": 43,
   "metadata": {},
   "outputs": [],
   "source": [
    "min_of_min_correlated_features_10_names = set()\n",
    "for names_pairs in min_of_min_correlated_features_10:\n",
    "    min_of_min_correlated_features_10_names.add(names_pairs[0])\n",
    "    min_of_min_correlated_features_10_names.add(names_pairs[1])"
   ]
  },
  {
   "cell_type": "code",
   "execution_count": 44,
   "metadata": {},
   "outputs": [
    {
     "data": {
      "text/plain": [
       "19"
      ]
     },
     "execution_count": 44,
     "metadata": {},
     "output_type": "execute_result"
    }
   ],
   "source": [
    "min_of_min_correlated_features_10_names\n",
    "len(min_of_min_correlated_features_10_names)"
   ]
  },
  {
   "cell_type": "code",
   "execution_count": 45,
   "metadata": {},
   "outputs": [
    {
     "data": {
      "text/plain": [
       "(94672,)"
      ]
     },
     "execution_count": 45,
     "metadata": {},
     "output_type": "execute_result"
    }
   ],
   "source": [
    "train_df['var_0'].unique().shape"
   ]
  },
  {
   "cell_type": "code",
   "execution_count": null,
   "metadata": {},
   "outputs": [],
   "source": [
    "#train_df.apply(pd.unique, axis=0)"
   ]
  },
  {
   "cell_type": "code",
   "execution_count": 46,
   "metadata": {},
   "outputs": [],
   "source": [
    "uniques_dict = {column_name: train_df_id_droped[column_name].unique() for column_name in train_df_id_droped.columns.drop('target').tolist()}"
   ]
  },
  {
   "cell_type": "code",
   "execution_count": 47,
   "metadata": {},
   "outputs": [],
   "source": [
    "uniques_dict_counts = {column_name: uniques.shape[0] for column_name, uniques in uniques_dict.items()}"
   ]
  },
  {
   "cell_type": "code",
   "execution_count": 48,
   "metadata": {},
   "outputs": [],
   "source": [
    "uniques_counts_series = pd.Series(uniques_dict_counts)"
   ]
  },
  {
   "cell_type": "code",
   "execution_count": 49,
   "metadata": {},
   "outputs": [
    {
     "data": {
      "text/plain": [
       "var_0     94672\n",
       "var_1    108932\n",
       "var_2     86555\n",
       "var_3     74597\n",
       "var_4     63515\n",
       "dtype: int64"
      ]
     },
     "execution_count": 49,
     "metadata": {},
     "output_type": "execute_result"
    }
   ],
   "source": [
    "uniques_counts_series[:5]"
   ]
  },
  {
   "cell_type": "code",
   "execution_count": 50,
   "metadata": {},
   "outputs": [
    {
     "data": {
      "text/plain": [
       "(200,)"
      ]
     },
     "execution_count": 50,
     "metadata": {},
     "output_type": "execute_result"
    }
   ],
   "source": [
    "uniques_counts_series.unique().shape"
   ]
  },
  {
   "cell_type": "code",
   "execution_count": 51,
   "metadata": {},
   "outputs": [
    {
     "data": {
      "text/plain": [
       "169968"
      ]
     },
     "execution_count": 51,
     "metadata": {},
     "output_type": "execute_result"
    }
   ],
   "source": [
    "uniques_counts_series.max()"
   ]
  },
  {
   "cell_type": "code",
   "execution_count": null,
   "metadata": {},
   "outputs": [],
   "source": [
    "uniques_counts_series.min()"
   ]
  },
  {
   "cell_type": "code",
   "execution_count": 52,
   "metadata": {},
   "outputs": [
    {
     "data": {
      "image/png": "[encoded data removed]",
      "text/plain": [
       "<Figure size 1728x1296 with 1 Axes>"
      ]
     },
     "metadata": {
      "needs_background": "light"
     },
     "output_type": "display_data"
    }
   ],
   "source": [
    "fig = plt.figure(figsize=(24, 18))\n",
    "ax = fig.add_subplot(111)\n",
    "ax.bar(np.arange(200), uniques_counts_series.values.astype(np.int64))\n",
    "#ax.bar(uniques_counts_series)\n",
    "ax.set_title('Features uniques values num')\n",
    "plt.show()"
   ]
  },
  {
   "cell_type": "code",
   "execution_count": 53,
   "metadata": {},
   "outputs": [
    {
     "name": "stdout",
     "output_type": "stream",
     "text": [
      "all cells execution time: 11.535152316093445 min\n"
     ]
    }
   ],
   "source": [
    "all_cells_execution_time = time.time() - start_time\n",
    "print(\"all cells execution time: {} min\".format(all_cells_execution_time / 60))"
   ]
  },
  {
   "cell_type": "code",
   "execution_count": 54,
   "metadata": {},
   "outputs": [
    {
     "data": {
      "text/plain": [
       "(200000, 201)"
      ]
     },
     "execution_count": 54,
     "metadata": {},
     "output_type": "execute_result"
    }
   ],
   "source": [
    "train_df_id_droped.shape"
   ]
  },
  {
   "cell_type": "code",
   "execution_count": 55,
   "metadata": {},
   "outputs": [
    {
     "data": {
      "image/png": "[encoded data removed]",
      "text/plain": [
       "<Figure size 1728x1296 with 1 Axes>"
      ]
     },
     "metadata": {
      "needs_background": "light"
     },
     "output_type": "display_data"
    }
   ],
   "source": [
    "plt.figure(figsize=(24, 18))\n",
    "plt.title(\"Distributon of unqie values per column in the train dataset\")\n",
    "#sns.distplot(train_df_id_droped[train_df_id_droped.columns.drop('target').tolist()].unique(), color='green', kde=True, bins=200, label=\"train\")\n",
    "sns.distplot(uniques_counts_series.values.astype(np.int64), color='green', kde=True, bins=200, label=\"train\")\n",
    "plt.legend()\n",
    "plt.show()"
   ]
  },
  {
   "cell_type": "code",
   "execution_count": 56,
   "metadata": {},
   "outputs": [
    {
     "data": {
      "image/png": "[encoded data removed]",
      "text/plain": [
       "<Figure size 1728x1296 with 1 Axes>"
      ]
     },
     "metadata": {
      "needs_background": "light"
     },
     "output_type": "display_data"
    }
   ],
   "source": [
    "features = train_df.columns.values[2:202]\n",
    "plt.figure(figsize=(24, 18))\n",
    "plt.title(\"Distribution of mean values per column in the train and test set\")\n",
    "sns.distplot(train_df[features].mean(axis=0), color=\"magenta\", kde=True,bins=120, label='train')\n",
    "#sns.distplot(test_df[features].mean(axis=0),color=\"darkblue\", kde=True,bins=120, label='test')\n",
    "plt.legend()\n",
    "plt.show()"
   ]
  },
  {
   "cell_type": "code",
   "execution_count": 57,
   "metadata": {},
   "outputs": [
    {
     "data": {
      "image/png": "[encoded data removed]",
      "text/plain": [
       "<Figure size 1728x1296 with 1 Axes>"
      ]
     },
     "metadata": {
      "needs_background": "light"
     },
     "output_type": "display_data"
    }
   ],
   "source": [
    "plt.figure(figsize=(24, 18))\n",
    "features = train_df.columns.values[2:202]\n",
    "#plt.title(\"Distribution of mean values per row in the train and test set\")\n",
    "plt.title(\"Distribution of mean values per row in the train set\")\n",
    "sns.distplot(train_df[features].mean(axis=1), color=\"blue\", kde=True, bins=120, label='train')\n",
    "#sns.distplot(test_df[features].mean(axis=1),color=\"blue\", kde=True,bins=120, label='test')\n",
    "plt.legend()\n",
    "plt.show()"
   ]
  },
  {
   "cell_type": "code",
   "execution_count": 58,
   "metadata": {},
   "outputs": [],
   "source": [
    "features = [c for c in train_df.columns if c not in ['ID_code', 'target']]\n",
    "target = train_df['target']"
   ]
  },
  {
   "cell_type": "code",
   "execution_count": 59,
   "metadata": {},
   "outputs": [],
   "source": [
    "param = {\n",
    "    'bagging_freq': 5,\n",
    "    'bagging_fraction': 0.4,\n",
    "    'boost_from_average':'false',\n",
    "    'boost': 'gbdt',\n",
    "    'feature_fraction': 0.05,\n",
    "    'learning_rate': 0.01,\n",
    "    'max_depth': -1,  \n",
    "    'metric':'auc',\n",
    "    'min_data_in_leaf': 80,\n",
    "    'min_sum_hessian_in_leaf': 10.0,\n",
    "    'num_leaves': 13,\n",
    "    'num_threads': 8,\n",
    "    'tree_learner': 'serial',\n",
    "    'objective': 'binary', \n",
    "    'verbosity': 1\n",
    "}"
   ]
  },
  {
   "cell_type": "code",
   "execution_count": 60,
   "metadata": {},
   "outputs": [
    {
     "name": "stdout",
     "output_type": "stream",
     "text": [
      "Fold 0\n",
      "Training until validation scores don't improve for 3000 rounds.\n",
      "[1000]\ttraining's auc: 0.89904\tvalid_1's auc: 0.880364\n",
      "[2000]\ttraining's auc: 0.911204\tvalid_1's auc: 0.888868\n",
      "[3000]\ttraining's auc: 0.91903\tvalid_1's auc: 0.893151\n",
      "[4000]\ttraining's auc: 0.924854\tvalid_1's auc: 0.896012\n",
      "[5000]\ttraining's auc: 0.929701\tvalid_1's auc: 0.897714\n",
      "[6000]\ttraining's auc: 0.933934\tvalid_1's auc: 0.898494\n",
      "[7000]\ttraining's auc: 0.93786\tvalid_1's auc: 0.898994\n",
      "[8000]\ttraining's auc: 0.941613\tvalid_1's auc: 0.89928\n",
      "[9000]\ttraining's auc: 0.945152\tvalid_1's auc: 0.899671\n",
      "[10000]\ttraining's auc: 0.948466\tvalid_1's auc: 0.899878\n",
      "[11000]\ttraining's auc: 0.951758\tvalid_1's auc: 0.900177\n",
      "[12000]\ttraining's auc: 0.954863\tvalid_1's auc: 0.899992\n",
      "[13000]\ttraining's auc: 0.957793\tvalid_1's auc: 0.899881\n",
      "[14000]\ttraining's auc: 0.96065\tvalid_1's auc: 0.899628\n",
      "Early stopping, best iteration is:\n",
      "[11045]\ttraining's auc: 0.951908\tvalid_1's auc: 0.900223\n",
      "Fold 1\n",
      "Training until validation scores don't improve for 3000 rounds.\n",
      "[1000]\ttraining's auc: 0.898872\tvalid_1's auc: 0.881324\n",
      "[2000]\ttraining's auc: 0.911092\tvalid_1's auc: 0.890141\n",
      "[3000]\ttraining's auc: 0.918887\tvalid_1's auc: 0.894037\n",
      "[4000]\ttraining's auc: 0.924725\tvalid_1's auc: 0.896563\n",
      "[5000]\ttraining's auc: 0.929615\tvalid_1's auc: 0.898167\n",
      "[6000]\ttraining's auc: 0.933852\tvalid_1's auc: 0.898875\n",
      "[7000]\ttraining's auc: 0.937735\tvalid_1's auc: 0.89924\n",
      "[8000]\ttraining's auc: 0.941427\tvalid_1's auc: 0.899545\n",
      "[9000]\ttraining's auc: 0.945019\tvalid_1's auc: 0.899597\n",
      "[10000]\ttraining's auc: 0.948402\tvalid_1's auc: 0.899566\n",
      "[11000]\ttraining's auc: 0.951631\tvalid_1's auc: 0.899664\n",
      "[12000]\ttraining's auc: 0.954666\tvalid_1's auc: 0.899486\n",
      "[13000]\ttraining's auc: 0.957626\tvalid_1's auc: 0.89939\n",
      "Early stopping, best iteration is:\n",
      "[10577]\ttraining's auc: 0.950291\tvalid_1's auc: 0.899729\n",
      "Fold 2\n",
      "Training until validation scores don't improve for 3000 rounds.\n",
      "[1000]\ttraining's auc: 0.899456\tvalid_1's auc: 0.875464\n",
      "[2000]\ttraining's auc: 0.911636\tvalid_1's auc: 0.88445\n",
      "[3000]\ttraining's auc: 0.919401\tvalid_1's auc: 0.889283\n",
      "[4000]\ttraining's auc: 0.925163\tvalid_1's auc: 0.891698\n",
      "[5000]\ttraining's auc: 0.930008\tvalid_1's auc: 0.893217\n",
      "[6000]\ttraining's auc: 0.934161\tvalid_1's auc: 0.894368\n",
      "[7000]\ttraining's auc: 0.938011\tvalid_1's auc: 0.894915\n",
      "[8000]\ttraining's auc: 0.941698\tvalid_1's auc: 0.895107\n",
      "[9000]\ttraining's auc: 0.945271\tvalid_1's auc: 0.89496\n",
      "[10000]\ttraining's auc: 0.948626\tvalid_1's auc: 0.894985\n",
      "Early stopping, best iteration is:\n",
      "[7863]\ttraining's auc: 0.941219\tvalid_1's auc: 0.895159\n",
      "Fold 3\n",
      "Training until validation scores don't improve for 3000 rounds.\n",
      "[1000]\ttraining's auc: 0.898755\tvalid_1's auc: 0.880937\n",
      "[2000]\ttraining's auc: 0.910972\tvalid_1's auc: 0.890718\n",
      "[3000]\ttraining's auc: 0.918966\tvalid_1's auc: 0.894582\n",
      "[4000]\ttraining's auc: 0.924802\tvalid_1's auc: 0.896677\n",
      "[5000]\ttraining's auc: 0.929742\tvalid_1's auc: 0.897598\n",
      "[6000]\ttraining's auc: 0.933987\tvalid_1's auc: 0.898084\n",
      "[7000]\ttraining's auc: 0.937911\tvalid_1's auc: 0.898305\n",
      "[8000]\ttraining's auc: 0.941628\tvalid_1's auc: 0.898558\n",
      "[9000]\ttraining's auc: 0.945165\tvalid_1's auc: 0.898465\n",
      "[10000]\ttraining's auc: 0.948493\tvalid_1's auc: 0.898567\n",
      "[11000]\ttraining's auc: 0.951717\tvalid_1's auc: 0.898491\n",
      "[12000]\ttraining's auc: 0.954791\tvalid_1's auc: 0.898268\n",
      "Early stopping, best iteration is:\n",
      "[9716]\ttraining's auc: 0.947579\tvalid_1's auc: 0.898615\n",
      "Fold 4\n",
      "Training until validation scores don't improve for 3000 rounds.\n",
      "[1000]\ttraining's auc: 0.898756\tvalid_1's auc: 0.880866\n",
      "[2000]\ttraining's auc: 0.910845\tvalid_1's auc: 0.890799\n",
      "[3000]\ttraining's auc: 0.918796\tvalid_1's auc: 0.895208\n",
      "[4000]\ttraining's auc: 0.924658\tvalid_1's auc: 0.897531\n",
      "[5000]\ttraining's auc: 0.929576\tvalid_1's auc: 0.898924\n",
      "[6000]\ttraining's auc: 0.933837\tvalid_1's auc: 0.899703\n",
      "[7000]\ttraining's auc: 0.937772\tvalid_1's auc: 0.900308\n",
      "[8000]\ttraining's auc: 0.941416\tvalid_1's auc: 0.900431\n",
      "[9000]\ttraining's auc: 0.944971\tvalid_1's auc: 0.900233\n",
      "[10000]\ttraining's auc: 0.948268\tvalid_1's auc: 0.900028\n",
      "[11000]\ttraining's auc: 0.951548\tvalid_1's auc: 0.900111\n",
      "Early stopping, best iteration is:\n",
      "[8031]\ttraining's auc: 0.941528\tvalid_1's auc: 0.900462\n",
      "Fold 5\n",
      "Training until validation scores don't improve for 3000 rounds.\n",
      "[1000]\ttraining's auc: 0.898106\tvalid_1's auc: 0.886226\n",
      "[2000]\ttraining's auc: 0.910525\tvalid_1's auc: 0.894652\n",
      "[3000]\ttraining's auc: 0.918514\tvalid_1's auc: 0.898661\n",
      "[4000]\ttraining's auc: 0.924481\tvalid_1's auc: 0.900751\n",
      "[5000]\ttraining's auc: 0.929454\tvalid_1's auc: 0.902105\n",
      "[6000]\ttraining's auc: 0.933804\tvalid_1's auc: 0.902821\n",
      "[7000]\ttraining's auc: 0.937765\tvalid_1's auc: 0.902995\n",
      "[8000]\ttraining's auc: 0.941446\tvalid_1's auc: 0.903154\n",
      "[9000]\ttraining's auc: 0.944993\tvalid_1's auc: 0.903363\n",
      "[10000]\ttraining's auc: 0.948314\tvalid_1's auc: 0.9034\n",
      "[11000]\ttraining's auc: 0.951562\tvalid_1's auc: 0.903391\n",
      "[12000]\ttraining's auc: 0.954655\tvalid_1's auc: 0.903289\n",
      "[13000]\ttraining's auc: 0.957648\tvalid_1's auc: 0.903262\n",
      "Early stopping, best iteration is:\n",
      "[10229]\ttraining's auc: 0.949078\tvalid_1's auc: 0.903449\n",
      "Fold 6\n",
      "Training until validation scores don't improve for 3000 rounds.\n",
      "[1000]\ttraining's auc: 0.898631\tvalid_1's auc: 0.883448\n",
      "[2000]\ttraining's auc: 0.91088\tvalid_1's auc: 0.892046\n",
      "[3000]\ttraining's auc: 0.918802\tvalid_1's auc: 0.896592\n",
      "[4000]\ttraining's auc: 0.924723\tvalid_1's auc: 0.898649\n",
      "[5000]\ttraining's auc: 0.929617\tvalid_1's auc: 0.899721\n",
      "[6000]\ttraining's auc: 0.933906\tvalid_1's auc: 0.900308\n",
      "[7000]\ttraining's auc: 0.937832\tvalid_1's auc: 0.900717\n",
      "[8000]\ttraining's auc: 0.941555\tvalid_1's auc: 0.900916\n",
      "[9000]\ttraining's auc: 0.94506\tvalid_1's auc: 0.900607\n",
      "[10000]\ttraining's auc: 0.948425\tvalid_1's auc: 0.900518\n",
      "Early stopping, best iteration is:\n",
      "[7475]\ttraining's auc: 0.939642\tvalid_1's auc: 0.900965\n",
      "Fold 7\n",
      "Training until validation scores don't improve for 3000 rounds.\n",
      "[1000]\ttraining's auc: 0.898676\tvalid_1's auc: 0.880199\n",
      "[2000]\ttraining's auc: 0.911049\tvalid_1's auc: 0.889752\n",
      "[3000]\ttraining's auc: 0.918968\tvalid_1's auc: 0.894568\n",
      "[4000]\ttraining's auc: 0.924842\tvalid_1's auc: 0.897449\n",
      "[5000]\ttraining's auc: 0.929663\tvalid_1's auc: 0.89896\n",
      "[6000]\ttraining's auc: 0.933875\tvalid_1's auc: 0.899934\n",
      "[7000]\ttraining's auc: 0.937866\tvalid_1's auc: 0.90027\n",
      "[8000]\ttraining's auc: 0.941586\tvalid_1's auc: 0.900556\n",
      "[9000]\ttraining's auc: 0.945083\tvalid_1's auc: 0.900757\n",
      "[10000]\ttraining's auc: 0.948416\tvalid_1's auc: 0.900799\n",
      "[11000]\ttraining's auc: 0.951675\tvalid_1's auc: 0.900676\n",
      "[12000]\ttraining's auc: 0.954768\tvalid_1's auc: 0.900403\n",
      "[13000]\ttraining's auc: 0.95775\tvalid_1's auc: 0.900246\n",
      "Early stopping, best iteration is:\n",
      "[10038]\ttraining's auc: 0.948551\tvalid_1's auc: 0.900819\n",
      "Fold 8\n",
      "Training until validation scores don't improve for 3000 rounds.\n",
      "[1000]\ttraining's auc: 0.89779\tvalid_1's auc: 0.888166\n",
      "[2000]\ttraining's auc: 0.910458\tvalid_1's auc: 0.896618\n",
      "[3000]\ttraining's auc: 0.918615\tvalid_1's auc: 0.900943\n",
      "[4000]\ttraining's auc: 0.924387\tvalid_1's auc: 0.903001\n",
      "[5000]\ttraining's auc: 0.9293\tvalid_1's auc: 0.904178\n",
      "[6000]\ttraining's auc: 0.933534\tvalid_1's auc: 0.904738\n",
      "[7000]\ttraining's auc: 0.937463\tvalid_1's auc: 0.905103\n",
      "[8000]\ttraining's auc: 0.94117\tvalid_1's auc: 0.905392\n",
      "[9000]\ttraining's auc: 0.944675\tvalid_1's auc: 0.905481\n",
      "[10000]\ttraining's auc: 0.948106\tvalid_1's auc: 0.905589\n",
      "[11000]\ttraining's auc: 0.951319\tvalid_1's auc: 0.90545\n",
      "[12000]\ttraining's auc: 0.954441\tvalid_1's auc: 0.905497\n",
      "[13000]\ttraining's auc: 0.957453\tvalid_1's auc: 0.905272\n",
      "Early stopping, best iteration is:\n",
      "[10232]\ttraining's auc: 0.948883\tvalid_1's auc: 0.905628\n",
      "Fold 9\n",
      "Training until validation scores don't improve for 3000 rounds.\n",
      "[1000]\ttraining's auc: 0.898783\tvalid_1's auc: 0.883983\n",
      "[2000]\ttraining's auc: 0.911112\tvalid_1's auc: 0.891819\n",
      "[3000]\ttraining's auc: 0.919056\tvalid_1's auc: 0.896176\n",
      "[4000]\ttraining's auc: 0.924853\tvalid_1's auc: 0.89825\n",
      "[5000]\ttraining's auc: 0.929797\tvalid_1's auc: 0.899577\n",
      "[6000]\ttraining's auc: 0.934085\tvalid_1's auc: 0.900182\n",
      "[7000]\ttraining's auc: 0.937978\tvalid_1's auc: 0.900687\n",
      "[8000]\ttraining's auc: 0.941648\tvalid_1's auc: 0.900745\n",
      "[9000]\ttraining's auc: 0.945235\tvalid_1's auc: 0.900773\n",
      "[10000]\ttraining's auc: 0.94862\tvalid_1's auc: 0.900838\n"
     ]
    },
    {
     "name": "stdout",
     "output_type": "stream",
     "text": [
      "[11000]\ttraining's auc: 0.951843\tvalid_1's auc: 0.900587\n",
      "[12000]\ttraining's auc: 0.954894\tvalid_1's auc: 0.900639\n",
      "Early stopping, best iteration is:\n",
      "[9691]\ttraining's auc: 0.947612\tvalid_1's auc: 0.900898\n",
      "CV score: 0.90053 \n"
     ]
    }
   ],
   "source": [
    "folds = StratifiedKFold(n_splits=10, shuffle=False, random_state=44000)\n",
    "oof = np.zeros(len(train_df))\n",
    "predictions = np.zeros(len(test_df))\n",
    "feature_importance_df = pd.DataFrame()\n",
    "for fold_, (trn_idx, val_idx) in enumerate(folds.split(train_df.values, target.values)):\n",
    "    print(\"Fold {}\".format(fold_))\n",
    "    trn_data = lgb.Dataset(train_df.iloc[trn_idx][features], label=target.iloc[trn_idx])\n",
    "    val_data = lgb.Dataset(train_df.iloc[val_idx][features], label=target.iloc[val_idx])\n",
    "    num_round = 1000000\n",
    "    clf = lgb.train(param, trn_data, num_round, valid_sets=[trn_data, val_data], verbose_eval=1000, early_stopping_rounds=3000)\n",
    "    oof[val_idx] = clf.predict(train_df.iloc[val_idx][features], num_iteration=clf.best_iteration)\n",
    "    fold_importance_df = pd.DataFrame()\n",
    "    fold_importance_df['Feature'] = features\n",
    "    fold_importance_df['importance'] = clf.feature_importance()\n",
    "    fold_importance_df['fold'] = fold_ + 1\n",
    "    feature_importance_df = pd.concat([feature_importance_df, fold_importance_df], axis=0)\n",
    "    predictions += clf.predict(test_df[features], num_iteration=clf.best_iteration) / folds.n_splits\n",
    "print(\"CV score: {:<8.5f}\".format(roc_auc_score(target, oof)))"
   ]
  },
  {
   "cell_type": "code",
   "execution_count": 61,
   "metadata": {},
   "outputs": [
    {
     "data": {
      "image/png": "[encoded data removed]",
      "text/plain": [
       "<Figure size 1008x2016 with 1 Axes>"
      ]
     },
     "metadata": {
      "needs_background": "light"
     },
     "output_type": "display_data"
    }
   ],
   "source": [
    "cols = (feature_importance_df[[\"Feature\", \"importance\"]]\n",
    "        .groupby(\"Feature\")\n",
    "        .mean()\n",
    "        .sort_values(by=\"importance\", ascending=False)[:150].index)\n",
    "best_features = feature_importance_df.loc[feature_importance_df.Feature.isin(cols)]\n",
    "\n",
    "plt.figure(figsize=(14,28))\n",
    "sns.barplot(x=\"importance\", y=\"Feature\", data=best_features.sort_values(by=\"importance\",ascending=False))\n",
    "plt.title('Features importance (averaged/folds)')\n",
    "plt.tight_layout()\n",
    "plt.savefig('FI.png')"
   ]
  },
  {
   "cell_type": "code",
   "execution_count": 66,
   "metadata": {},
   "outputs": [],
   "source": [
    "min_max_scaler = MinMaxScaler()"
   ]
  },
  {
   "cell_type": "code",
   "execution_count": 67,
   "metadata": {},
   "outputs": [],
   "source": [
    "#scaled_train_values = min_max_scaler.fit_transform(train_df[train_df.columns.drop(['ID_code', 'target'])])"
   ]
  },
  {
   "cell_type": "code",
   "execution_count": 86,
   "metadata": {},
   "outputs": [],
   "source": [
    "importnant_features = train_df[\n",
    "    ['var_184', 'var_34', 'var_2', 'var_108', 'var_1', 'var_22', 'var_13', 'var_53', 'var_94', 'var_9', 'var_80', 'var_6', 'var_146', 'var_133', 'var_148', 'var_166', 'var_99']]"
   ]
  },
  {
   "cell_type": "code",
   "execution_count": 83,
   "metadata": {},
   "outputs": [
    {
     "data": {
      "text/html": [
       "<div>\n",
       "<style scoped>\n",
       "    .dataframe tbody tr th:only-of-type {\n",
       "        vertical-align: middle;\n",
       "    }\n",
       "\n",
       "    .dataframe tbody tr th {\n",
       "        vertical-align: top;\n",
       "    }\n",
       "\n",
       "    .dataframe thead th {\n",
       "        text-align: right;\n",
       "    }\n",
       "</style>\n",
       "<table border=\"1\" class=\"dataframe\">\n",
       "  <thead>\n",
       "    <tr style=\"text-align: right;\">\n",
       "      <th></th>\n",
       "      <th>var_184</th>\n",
       "      <th>var_34</th>\n",
       "      <th>var_2</th>\n",
       "      <th>var_108</th>\n",
       "      <th>var_1</th>\n",
       "      <th>var_22</th>\n",
       "      <th>var_13</th>\n",
       "      <th>var_53</th>\n",
       "      <th>var_94</th>\n",
       "      <th>var_9</th>\n",
       "      <th>var_80</th>\n",
       "      <th>var_6</th>\n",
       "      <th>var_146</th>\n",
       "      <th>var_133</th>\n",
       "    </tr>\n",
       "  </thead>\n",
       "  <tbody>\n",
       "    <tr>\n",
       "      <th>0</th>\n",
       "      <td>25.8398</td>\n",
       "      <td>11.1920</td>\n",
       "      <td>11.9081</td>\n",
       "      <td>14.1104</td>\n",
       "      <td>-6.7863</td>\n",
       "      <td>2.5791</td>\n",
       "      <td>0.5745</td>\n",
       "      <td>5.1736</td>\n",
       "      <td>14.8421</td>\n",
       "      <td>5.7470</td>\n",
       "      <td>13.6468</td>\n",
       "      <td>5.1187</td>\n",
       "      <td>11.5659</td>\n",
       "      <td>6.5674</td>\n",
       "    </tr>\n",
       "    <tr>\n",
       "      <th>1</th>\n",
       "      <td>22.5441</td>\n",
       "      <td>11.3702</td>\n",
       "      <td>13.8588</td>\n",
       "      <td>13.9550</td>\n",
       "      <td>-4.1473</td>\n",
       "      <td>8.5524</td>\n",
       "      <td>8.4135</td>\n",
       "      <td>6.6885</td>\n",
       "      <td>11.7569</td>\n",
       "      <td>8.0851</td>\n",
       "      <td>2.5462</td>\n",
       "      <td>5.6208</td>\n",
       "      <td>8.9231</td>\n",
       "      <td>7.0513</td>\n",
       "    </tr>\n",
       "    <tr>\n",
       "      <th>2</th>\n",
       "      <td>23.0866</td>\n",
       "      <td>11.0449</td>\n",
       "      <td>12.0805</td>\n",
       "      <td>14.1963</td>\n",
       "      <td>-2.7457</td>\n",
       "      <td>1.2145</td>\n",
       "      <td>7.3124</td>\n",
       "      <td>6.4059</td>\n",
       "      <td>14.2621</td>\n",
       "      <td>5.9525</td>\n",
       "      <td>7.4729</td>\n",
       "      <td>6.9427</td>\n",
       "      <td>11.4934</td>\n",
       "      <td>6.6231</td>\n",
       "    </tr>\n",
       "    <tr>\n",
       "      <th>3</th>\n",
       "      <td>-0.4639</td>\n",
       "      <td>10.6093</td>\n",
       "      <td>8.9522</td>\n",
       "      <td>14.3256</td>\n",
       "      <td>-2.1518</td>\n",
       "      <td>6.8202</td>\n",
       "      <td>11.9704</td>\n",
       "      <td>5.2091</td>\n",
       "      <td>7.2887</td>\n",
       "      <td>8.2450</td>\n",
       "      <td>0.7839</td>\n",
       "      <td>5.8428</td>\n",
       "      <td>10.4994</td>\n",
       "      <td>7.1954</td>\n",
       "    </tr>\n",
       "    <tr>\n",
       "      <th>4</th>\n",
       "      <td>11.8503</td>\n",
       "      <td>12.4057</td>\n",
       "      <td>12.8746</td>\n",
       "      <td>14.0837</td>\n",
       "      <td>-1.4834</td>\n",
       "      <td>10.1102</td>\n",
       "      <td>7.8895</td>\n",
       "      <td>5.7555</td>\n",
       "      <td>14.0553</td>\n",
       "      <td>7.6784</td>\n",
       "      <td>2.9598</td>\n",
       "      <td>5.9405</td>\n",
       "      <td>11.5670</td>\n",
       "      <td>6.6173</td>\n",
       "    </tr>\n",
       "  </tbody>\n",
       "</table>\n",
       "</div>"
      ],
      "text/plain": [
       "   var_184   var_34    var_2  var_108   var_1   var_22   var_13  var_53  \\\n",
       "0  25.8398  11.1920  11.9081  14.1104 -6.7863   2.5791   0.5745  5.1736   \n",
       "1  22.5441  11.3702  13.8588  13.9550 -4.1473   8.5524   8.4135  6.6885   \n",
       "2  23.0866  11.0449  12.0805  14.1963 -2.7457   1.2145   7.3124  6.4059   \n",
       "3  -0.4639  10.6093   8.9522  14.3256 -2.1518   6.8202  11.9704  5.2091   \n",
       "4  11.8503  12.4057  12.8746  14.0837 -1.4834  10.1102   7.8895  5.7555   \n",
       "\n",
       "    var_94   var_9   var_80   var_6  var_146  var_133  \n",
       "0  14.8421  5.7470  13.6468  5.1187  11.5659   6.5674  \n",
       "1  11.7569  8.0851   2.5462  5.6208   8.9231   7.0513  \n",
       "2  14.2621  5.9525   7.4729  6.9427  11.4934   6.6231  \n",
       "3   7.2887  8.2450   0.7839  5.8428  10.4994   7.1954  \n",
       "4  14.0553  7.6784   2.9598  5.9405  11.5670   6.6173  "
      ]
     },
     "execution_count": 83,
     "metadata": {},
     "output_type": "execute_result"
    }
   ],
   "source": [
    "importnant_features.head()"
   ]
  },
  {
   "cell_type": "code",
   "execution_count": 87,
   "metadata": {},
   "outputs": [],
   "source": [
    "scaled_important_features_values = min_max_scaler.fit_transform(importnant_features)"
   ]
  },
  {
   "cell_type": "code",
   "execution_count": 71,
   "metadata": {},
   "outputs": [],
   "source": [
    "bandwidth = cluster.estimate_bandwidth(\n",
    "    scaled_important_features_values,\n",
    "    quantile=0.1,\n",
    "    n_samples=scaled_important_features_values.shape[0]\n",
    ")"
   ]
  },
  {
   "cell_type": "code",
   "execution_count": 72,
   "metadata": {},
   "outputs": [
    {
     "data": {
      "text/plain": [
       "0.4840789109560282"
      ]
     },
     "execution_count": 72,
     "metadata": {},
     "output_type": "execute_result"
    }
   ],
   "source": [
    "bandwidth"
   ]
  },
  {
   "cell_type": "code",
   "execution_count": null,
   "metadata": {},
   "outputs": [],
   "source": [
    "start_time = time.time()\n",
    "ms = cluster.MeanShift(bandwidth=0.4, bin_seeding=True, n_jobs=10)\n",
    "ms.fit(scaled_important_features_values)\n",
    "print(\"Clustering time: {} min\".format((time.time() - start_time) / 60))\n",
    "labels = ms.labels_\n",
    "cluster_centres = ms.cluster_centers_\n",
    "labels_unique = np.unique(labels)\n",
    "n_clusters_ = len(labels_unique)\n",
    "print(\"Количество кластеров: %d\" % n_clusters_)"
   ]
  },
  {
   "cell_type": "code",
   "execution_count": 90,
   "metadata": {},
   "outputs": [
    {
     "data": {
      "text/plain": [
       "array([[0.48645646, 0.47211457, 0.48578737, 0.5113574 , 0.52191852,\n",
       "        0.47565844, 0.53006853, 0.54258419, 0.49837396, 0.5216777 ,\n",
       "        0.50632781, 0.49584103, 0.50145414, 0.4875746 , 0.47558533,\n",
       "        0.47273967, 0.51917697],\n",
       "       [0.40106693, 0.09072575, 0.28086726, 0.04220907, 0.63116734,\n",
       "        0.85371793, 0.39618101, 0.3284083 , 0.40765041, 0.5133494 ,\n",
       "        0.07509414, 0.59933775, 0.40529438, 0.53474812, 0.33791803,\n",
       "        0.44892791, 0.6501659 ],\n",
       "       [0.39018441, 0.46238728, 0.50278198, 0.0709073 , 0.79651616,\n",
       "        0.86847417, 0.09594039, 0.37829984, 0.88862961, 0.35988357,\n",
       "        0.42711015, 0.42836535, 0.3709164 , 0.82653061, 0.42721497,\n",
       "        0.41254432, 0.56436837],\n",
       "       [0.87660593, 0.57123513, 0.43206331, 0.4357002 , 0.54844179,\n",
       "        0.26319727, 0.07883186, 0.91419392, 0.83489106, 0.66117464,\n",
       "        0.46648227, 0.83873189, 0.61770923, 0.42413045, 0.52782238,\n",
       "        0.41604761, 0.51815165],\n",
       "       [0.3931612 , 0.42098591, 0.75895079, 0.09270217, 0.91251446,\n",
       "        0.84712557, 0.44975408, 0.45342365, 0.59646571, 0.61671843,\n",
       "        0.41177804, 0.41164514, 0.46495984, 0.47603227, 0.17845423,\n",
       "        0.62054702, 0.84269645]])"
      ]
     },
     "execution_count": 90,
     "metadata": {},
     "output_type": "execute_result"
    }
   ],
   "source": [
    "cluster_centres"
   ]
  },
  {
   "cell_type": "code",
   "execution_count": 91,
   "metadata": {},
   "outputs": [
    {
     "data": {
      "text/plain": [
       "numpy.ndarray"
      ]
     },
     "execution_count": 91,
     "metadata": {},
     "output_type": "execute_result"
    }
   ],
   "source": [
    "type(labels)"
   ]
  },
  {
   "cell_type": "code",
   "execution_count": 92,
   "metadata": {},
   "outputs": [
    {
     "data": {
      "text/plain": [
       "(200000,)"
      ]
     },
     "execution_count": 92,
     "metadata": {},
     "output_type": "execute_result"
    }
   ],
   "source": [
    "labels.shape"
   ]
  },
  {
   "cell_type": "code",
   "execution_count": 93,
   "metadata": {},
   "outputs": [],
   "source": [
    "train_df_copy = train_df.copy()"
   ]
  },
  {
   "cell_type": "code",
   "execution_count": 94,
   "metadata": {},
   "outputs": [
    {
     "data": {
      "text/plain": [
       "False"
      ]
     },
     "execution_count": 94,
     "metadata": {},
     "output_type": "execute_result"
    }
   ],
   "source": [
    "train_df_copy is train_df"
   ]
  },
  {
   "cell_type": "code",
   "execution_count": 95,
   "metadata": {},
   "outputs": [],
   "source": [
    "train_df_copy['cluster_labels'] = labels"
   ]
  },
  {
   "cell_type": "code",
   "execution_count": 96,
   "metadata": {},
   "outputs": [
    {
     "data": {
      "text/plain": [
       "0    0\n",
       "1    0\n",
       "2    0\n",
       "3    0\n",
       "4    0\n",
       "Name: cluster_labels, dtype: int64"
      ]
     },
     "execution_count": 96,
     "metadata": {},
     "output_type": "execute_result"
    }
   ],
   "source": [
    "train_df_copy['cluster_labels'].head()"
   ]
  },
  {
   "cell_type": "code",
   "execution_count": 97,
   "metadata": {},
   "outputs": [
    {
     "data": {
      "text/plain": [
       "array([0, 4, 1, 2, 3])"
      ]
     },
     "execution_count": 97,
     "metadata": {},
     "output_type": "execute_result"
    }
   ],
   "source": [
    "train_df_copy['cluster_labels'].unique()"
   ]
  },
  {
   "cell_type": "code",
   "execution_count": 100,
   "metadata": {},
   "outputs": [],
   "source": [
    "cluster_0 = train_df_copy[train_df_copy['cluster_labels'] == 0]"
   ]
  },
  {
   "cell_type": "code",
   "execution_count": 101,
   "metadata": {},
   "outputs": [],
   "source": [
    "cluster_0 = train_df_copy[train_df_copy['cluster_labels'] == 1]"
   ]
  },
  {
   "cell_type": "code",
   "execution_count": 102,
   "metadata": {},
   "outputs": [],
   "source": [
    "cluster_2 = train_df_copy[train_df_copy['cluster_labels'] == 2]"
   ]
  },
  {
   "cell_type": "code",
   "execution_count": 103,
   "metadata": {},
   "outputs": [],
   "source": [
    "cluster_3 = train_df_copy[train_df_copy['cluster_labels'] == 3]"
   ]
  },
  {
   "cell_type": "code",
   "execution_count": 104,
   "metadata": {},
   "outputs": [],
   "source": [
    "cluster_4 = train_df_copy[train_df_copy['cluster_labels'] == 4]"
   ]
  },
  {
   "cell_type": "code",
   "execution_count": 105,
   "metadata": {},
   "outputs": [],
   "source": [
    "clusters = [train_df_copy[train_df_copy['cluster_labels'] == cluster_num] for cluster_num in range(0, 5)]    "
   ]
  },
  {
   "cell_type": "code",
   "execution_count": 109,
   "metadata": {},
   "outputs": [
    {
     "name": "stdout",
     "output_type": "stream",
     "text": [
      "(198065, 203)\n",
      "0 (19470, 203)\n",
      "(471, 203)\n",
      "1 (144, 203)\n",
      "(340, 203)\n",
      "2 (143, 203)\n",
      "(490, 203)\n",
      "3 (132, 203)\n",
      "(634, 203)\n",
      "4 (209, 203)\n"
     ]
    }
   ],
   "source": [
    "for i, data_cluster in enumerate(clusters):\n",
    "    print(data_cluster.shape)\n",
    "    print(i, data_cluster[data_cluster['target'] == 1].shape)"
   ]
  },
  {
   "cell_type": "code",
   "execution_count": null,
   "metadata": {},
   "outputs": [],
   "source": []
  }
 ],
 "metadata": {
  "kernelspec": {
   "display_name": "Python 3",
   "language": "python",
   "name": "python3"
  },
  "language_info": {
   "codemirror_mode": {
    "name": "ipython",
    "version": 3
   },
   "file_extension": ".py",
   "mimetype": "text/x-python",
   "name": "python",
   "nbconvert_exporter": "python",
   "pygments_lexer": "ipython3",
   "version": "3.6.6"
  }
 },
 "nbformat": 4,
 "nbformat_minor": 2
}
