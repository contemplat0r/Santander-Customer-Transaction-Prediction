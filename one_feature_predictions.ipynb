{
 "cells": [
  {
   "cell_type": "code",
   "execution_count": 6,
   "metadata": {},
   "outputs": [],
   "source": [
    "import pandas as pd\n",
    "import numpy as np\n",
    "\n",
    "import lightgbm as lgb\n",
    "from sklearn.model_selection import train_test_split\n",
    "from sklearn.metrics import roc_auc_score, roc_curve, auc, accuracy_score, mean_squared_error"
   ]
  },
  {
   "cell_type": "code",
   "execution_count": 2,
   "metadata": {},
   "outputs": [],
   "source": [
    "num_submission = 1 \n",
    "# Load data\n",
    "train_df = pd.read_csv('../input/train.csv')\n",
    "test_df = pd.read_csv('../input/test.csv')"
   ]
  },
  {
   "cell_type": "code",
   "execution_count": 7,
   "metadata": {},
   "outputs": [],
   "source": [
    "#features = [c for c in train_df.columns if c not in ['ID_code', 'target']]\n",
    "features = train_df.columns.drop(['ID_code', 'target']).tolist()"
   ]
  },
  {
   "cell_type": "code",
   "execution_count": 8,
   "metadata": {},
   "outputs": [],
   "source": [
    "train_features_df = train_df[features]\n",
    "target_series = train_df['target']"
   ]
  },
  {
   "cell_type": "code",
   "execution_count": 9,
   "metadata": {},
   "outputs": [],
   "source": [
    "train_values_df, holdout_test_df, train_target_series, holdout_test_target_series = train_test_split(\n",
    "    train_features_df,\n",
    "    target_series,\n",
    "    test_size=0.2,\n",
    "    random_state=0\n",
    ")"
   ]
  },
  {
   "cell_type": "code",
   "execution_count": 4,
   "metadata": {},
   "outputs": [],
   "source": [
    "params = {\n",
    "    'task': 'train', 'max_depth': -1, 'boosting_type': 'gbdt',\n",
    "    'objective': 'binary', 'num_leaves': 3, 'learning_rate': 0.01,\n",
    "}"
   ]
  },
  {
   "cell_type": "code",
   "execution_count": 13,
   "metadata": {},
   "outputs": [],
   "source": [
    "y_hat = 0.0\n",
    "predictions = {}\n",
    "scores = {}\n",
    "for feature in features: # loop over all features\n",
    "    lgb_train = lgb.Dataset(train_values_df[feature].values.reshape(-1,1), train_target_series)\n",
    "    gbm = lgb.train(params, lgb_train, 110, verbose_eval=5)\n",
    "    prediction = gbm.predict(holdout_test_df[feature].values.reshape(-1,1), num_iteration=gbm.best_iteration)\n",
    "    scores[feature] = roc_auc_score(holdout_test_target_series, prediction)\n",
    "    predictions[feature] = prediction\n",
    "    y_hat += prediction"
   ]
  },
  {
   "cell_type": "code",
   "execution_count": null,
   "metadata": {},
   "outputs": [],
   "source": [
    "#y_hat /= len(features)"
   ]
  },
  {
   "cell_type": "code",
   "execution_count": 10,
   "metadata": {},
   "outputs": [],
   "source": [
    "#sub = pd.DataFrame({\"ID_code\": test_df.ID_code.values})\n",
    "#sub[\"target\"] = y_hat\n",
    "#sub.to_csv('submission{}.csv'.format(num_submission), index=False)"
   ]
  },
  {
   "cell_type": "code",
   "execution_count": 12,
   "metadata": {},
   "outputs": [],
   "source": [
    "#auc?"
   ]
  },
  {
   "cell_type": "code",
   "execution_count": 15,
   "metadata": {},
   "outputs": [],
   "source": [
    "scores_features= {score: feature for feature, score in scores.items()}"
   ]
  },
  {
   "cell_type": "code",
   "execution_count": 16,
   "metadata": {},
   "outputs": [],
   "source": [
    "score_values = scores.values()"
   ]
  },
  {
   "cell_type": "code",
   "execution_count": 17,
   "metadata": {},
   "outputs": [
    {
     "data": {
      "text/plain": [
       "dict_values([0.5416000162937749, 0.5359879372067158, 0.5516876428249474, 0.5015102548737951, 0.5015708996171379, 0.5246125167814942, 0.5636000219151827, 0.5025022221867769, 0.5187715487872698, 0.5386222624748245, 0.49919053113469275, 0.5201803933274056, 0.5607572649564129, 0.5436760949304567, 0.5005892647561467, 0.5197826614241917, 0.508340178712582, 0.5052786956871977, 0.53111869738082, 0.5168183969068855, 0.5184804955567203, 0.5495067097039426, 0.5485330119660385, 0.5234201864363407, 0.5333483401381443, 0.5023154730687356, 0.5503479236001401, 0.5002309069371522, 0.5188978573879877, 0.49753465964771615, 0.49952051884430176, 0.5228981120405265, 0.5194974061357139, 0.5396996412628052, 0.5454472052756165, 0.5304077969921924, 0.5419818877966466, 0.498946681806253, 0.5068256247080087, 0.5048468718846012, 0.5442805866401402, 0.5034919810895845, 0.5087008349396576, 0.521920506316593, 0.5399086129409071, 0.522198776382921, 0.5003470111598235, 0.5089428843099615, 0.53371077209315, 0.5241317652707271, 0.5094372081973637, 0.5268581341672733, 0.5256791304352402, 0.5508025064887798, 0.5110270904499179, 0.5126585309666598, 0.5226452213839126, 0.5123680869527099, 0.529526219034801, 0.5020761824804204, 0.5055325693978705, 0.5112510571638735, 0.5112021017640392, 0.5116428699739872, 0.5105655500307917, 0.5092849455849118, 0.5217696386716963, 0.5390052520286152, 0.5076243872838662, 0.5066652345922823, 0.5302235193551299, 0.5373263168472953, 0.5184259810554129, 0.5011361370367389, 0.5151643046092969, 0.5361820592301978, 0.5574129981235298, 0.5176455122848388, 0.5462791493874147, 0.5070011794710289, 0.5470021406486734, 0.5631469655295002, 0.524488326593044, 0.5185370177036406, 0.5016779902032986, 0.5210626843451354, 0.5320741532353098, 0.5278855225794918, 0.5216255035625187, 0.5347978845008956, 0.5227720595876971, 0.5344044067295062, 0.5408170795036802, 0.5315683165387547, 0.538448736126165, 0.5284316541080819, 0.49939818399731434, 0.5150166872734182, 0.5115570915844453, 0.5505050980214279, 0.5006587916005978, 0.5125872214713628, 0.5138594803421173, 0.49969465094810295, 0.5270316016711476, 0.5176245289267258, 0.5288185828010235, 0.5363426812636072, 0.5414374004605843, 0.5419520188759671, 0.5507570956218899, 0.527135158108738, 0.5240507083098335, 0.5029612461259709, 0.5193484803687289, 0.5410433169340532, 0.5190122793420937, 0.5090285069338957, 0.5411105072943858, 0.5241267773098164, 0.5058209746130858, 0.5315376964816994, 0.5397162147234859, 0.539121750857493, 0.5043678303340632, 0.52669824596295, 0.5019241379398195, 0.534164669613115, 0.5304596565552495, 0.503964691633526, 0.5250476151233147, 0.5266311732921879, 0.5177467703143483, 0.5442935082626801, 0.5146589455939393, 0.5283927230904805, 0.5045911393710076, 0.529536904555503, 0.5224181324348829, 0.566440646615853, 0.5101246329781517, 0.5332282102398732, 0.5096886900405907, 0.5025342614415932, 0.5151205448578505, 0.5210170796366002, 0.5523729076559725, 0.5358440478610529, 0.5545082118382361, 0.550615944289468, 0.5163496739625062, 0.5235107416378584, 0.504093945934962, 0.4989393019778965, 0.5407474349696586, 0.531217615464753, 0.5162772914152437, 0.5316425509660223, 0.4980874371755766, 0.5152964769197876, 0.5046827849317805, 0.5031059558371688, 0.5375663862636499, 0.5295180361481993, 0.530564247968768, 0.5488716394746992, 0.5480082930163479, 0.5235250755352432, 0.5182970348237348, 0.5507175969251841, 0.5314825173804649, 0.512223460316503, 0.5303762492644055, 0.5367022748230911, 0.5511306596256735, 0.5200079019546743, 0.5033287768085418, 0.5316463274166494, 0.5206021546717319, 0.5422986423525, 0.5262832725376705, 0.5069395447507115, 0.5038434748374575, 0.5027459122881508, 0.5414482832843897, 0.4955334904226028, 0.531392723699697, 0.5190179076727258, 0.5285100630536412, 0.5135796491582523, 0.5488162976849409, 0.5401575471510803, 0.5398069914583126, 0.5164747398998188, 0.513011876594538, 0.5285270588121921, 0.5145156273888387, 0.535651403880117, 0.5408889670624553, 0.5321607035299755])"
      ]
     },
     "execution_count": 17,
     "metadata": {},
     "output_type": "execute_result"
    }
   ],
   "source": [
    "score_values"
   ]
  },
  {
   "cell_type": "code",
   "execution_count": 18,
   "metadata": {},
   "outputs": [],
   "source": [
    "max_score = max(score_values)"
   ]
  },
  {
   "cell_type": "code",
   "execution_count": 19,
   "metadata": {},
   "outputs": [
    {
     "data": {
      "text/plain": [
       "0.566440646615853"
      ]
     },
     "execution_count": 19,
     "metadata": {},
     "output_type": "execute_result"
    }
   ],
   "source": [
    "max_score"
   ]
  },
  {
   "cell_type": "code",
   "execution_count": 20,
   "metadata": {},
   "outputs": [],
   "source": [
    "min_score = min(score_values)"
   ]
  },
  {
   "cell_type": "code",
   "execution_count": 21,
   "metadata": {},
   "outputs": [
    {
     "data": {
      "text/plain": [
       "0.4955334904226028"
      ]
     },
     "execution_count": 21,
     "metadata": {},
     "output_type": "execute_result"
    }
   ],
   "source": [
    "min_score"
   ]
  },
  {
   "cell_type": "code",
   "execution_count": 22,
   "metadata": {},
   "outputs": [],
   "source": [
    "scores_more_05 = {feature: score for feature, score in scores.items() if score > 0.5}"
   ]
  },
  {
   "cell_type": "code",
   "execution_count": 23,
   "metadata": {},
   "outputs": [
    {
     "data": {
      "text/plain": [
       "191"
      ]
     },
     "execution_count": 23,
     "metadata": {},
     "output_type": "execute_result"
    }
   ],
   "source": [
    "len(scores_more_05)"
   ]
  },
  {
   "cell_type": "code",
   "execution_count": 24,
   "metadata": {},
   "outputs": [],
   "source": [
    "scores_more_055 = {feature: score for feature, score in scores.items() if score > 0.55}"
   ]
  },
  {
   "cell_type": "code",
   "execution_count": 25,
   "metadata": {},
   "outputs": [
    {
     "data": {
      "text/plain": [
       "15"
      ]
     },
     "execution_count": 25,
     "metadata": {},
     "output_type": "execute_result"
    }
   ],
   "source": [
    "len(scores_more_055)"
   ]
  },
  {
   "cell_type": "code",
   "execution_count": 26,
   "metadata": {},
   "outputs": [
    {
     "name": "stdout",
     "output_type": "stream",
     "text": [
      "{'var_2': 0.5516876428249474, 'var_6': 0.5636000219151827, 'var_12': 0.5607572649564129, 'var_26': 0.5503479236001401, 'var_53': 0.5508025064887798, 'var_76': 0.5574129981235298, 'var_81': 0.5631469655295002, 'var_99': 0.5505050980214279, 'var_110': 0.5507570956218899, 'var_139': 0.566440646615853, 'var_146': 0.5523729076559725, 'var_148': 0.5545082118382361, 'var_149': 0.550615944289468, 'var_169': 0.5507175969251841, 'var_174': 0.5511306596256735}\n"
     ]
    }
   ],
   "source": [
    "print(scores_more_055)"
   ]
  },
  {
   "cell_type": "code",
   "execution_count": null,
   "metadata": {},
   "outputs": [],
   "source": []
  }
 ],
 "metadata": {
  "kernelspec": {
   "display_name": "Python 3",
   "language": "python",
   "name": "python3"
  },
  "language_info": {
   "codemirror_mode": {
    "name": "ipython",
    "version": 3
   },
   "file_extension": ".py",
   "mimetype": "text/x-python",
   "name": "python",
   "nbconvert_exporter": "python",
   "pygments_lexer": "ipython3",
   "version": "3.6.6"
  }
 },
 "nbformat": 4,
 "nbformat_minor": 2
}
