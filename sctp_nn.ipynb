{
 "cells": [
  {
   "cell_type": "code",
   "execution_count": 1,
   "metadata": {},
   "outputs": [
    {
     "name": "stderr",
     "output_type": "stream",
     "text": [
      "Using TensorFlow backend.\n"
     ]
    }
   ],
   "source": [
    "import os\n",
    "import gc\n",
    "import logging\n",
    "import time\n",
    "\n",
    "import numpy as np\n",
    "import pandas as pd\n",
    "import matplotlib.pyplot as plt\n",
    "import seaborn as sns\n",
    "import lightgbm as lgb\n",
    "from sklearn.metrics import mean_squared_error, roc_auc_score, roc_curve, accuracy_score, auc\n",
    "from sklearn.model_selection import StratifiedKFold\n",
    "from sklearn.preprocessing import MinMaxScaler, StandardScaler, RobustScaler\n",
    "from sklearn.linear_model import LogisticRegression, LogisticRegressionCV\n",
    "from sklearn import svm\n",
    "from sklearn.model_selection import cross_val_score, train_test_split\n",
    "from sklearn.base import clone\n",
    "from sklearn.pipeline import Pipeline\n",
    "\n",
    "from keras.layers import Activation, Dropout, Flatten, Dense, GlobalMaxPooling2D, BatchNormalization, Input, Conv2D\n",
    "from keras.callbacks import ModelCheckpoint\n",
    "from keras import metrics\n",
    "from keras.optimizers import Adam\n",
    "from keras import backend as K\n",
    "import keras\n",
    "from keras.models import Model, Sequential\n",
    "from keras.models import model_from_json\n",
    "from keras import regularizers\n",
    "from keras.losses import binary_crossentropy\n",
    "from keras.callbacks import ModelCheckpoint, LearningRateScheduler, EarlyStopping, ReduceLROnPlateau\n",
    "from keras.wrappers.scikit_learn import KerasClassifier\n",
    "\n",
    "import tensorflow as tf"
   ]
  },
  {
   "cell_type": "code",
   "execution_count": 2,
   "metadata": {},
   "outputs": [],
   "source": [
    "%matplotlib inline"
   ]
  },
  {
   "cell_type": "code",
   "execution_count": 3,
   "metadata": {},
   "outputs": [],
   "source": [
    "start_time = time.time()"
   ]
  },
  {
   "cell_type": "code",
   "execution_count": 4,
   "metadata": {},
   "outputs": [],
   "source": [
    "train_df = pd.read_csv('../input/train.csv')"
   ]
  },
  {
   "cell_type": "code",
   "execution_count": 5,
   "metadata": {},
   "outputs": [],
   "source": [
    "test_df = pd.read_csv('../input/test.csv')"
   ]
  },
  {
   "cell_type": "code",
   "execution_count": 6,
   "metadata": {},
   "outputs": [
    {
     "name": "stdout",
     "output_type": "stream",
     "text": [
      "<class 'pandas.core.frame.DataFrame'>\n",
      "RangeIndex: 200000 entries, 0 to 199999\n",
      "Columns: 202 entries, ID_code to var_199\n",
      "dtypes: float64(200), int64(1), object(1)\n",
      "memory usage: 308.2+ MB\n"
     ]
    }
   ],
   "source": [
    "train_df.info()"
   ]
  },
  {
   "cell_type": "code",
   "execution_count": 7,
   "metadata": {},
   "outputs": [
    {
     "data": {
      "text/html": [
       "<div>\n",
       "<style scoped>\n",
       "    .dataframe tbody tr th:only-of-type {\n",
       "        vertical-align: middle;\n",
       "    }\n",
       "\n",
       "    .dataframe tbody tr th {\n",
       "        vertical-align: top;\n",
       "    }\n",
       "\n",
       "    .dataframe thead th {\n",
       "        text-align: right;\n",
       "    }\n",
       "</style>\n",
       "<table border=\"1\" class=\"dataframe\">\n",
       "  <thead>\n",
       "    <tr style=\"text-align: right;\">\n",
       "      <th></th>\n",
       "      <th>target</th>\n",
       "      <th>var_0</th>\n",
       "      <th>var_1</th>\n",
       "      <th>var_2</th>\n",
       "      <th>var_3</th>\n",
       "      <th>var_4</th>\n",
       "      <th>var_5</th>\n",
       "      <th>var_6</th>\n",
       "      <th>var_7</th>\n",
       "      <th>var_8</th>\n",
       "      <th>...</th>\n",
       "      <th>var_190</th>\n",
       "      <th>var_191</th>\n",
       "      <th>var_192</th>\n",
       "      <th>var_193</th>\n",
       "      <th>var_194</th>\n",
       "      <th>var_195</th>\n",
       "      <th>var_196</th>\n",
       "      <th>var_197</th>\n",
       "      <th>var_198</th>\n",
       "      <th>var_199</th>\n",
       "    </tr>\n",
       "  </thead>\n",
       "  <tbody>\n",
       "    <tr>\n",
       "      <th>count</th>\n",
       "      <td>200000.000000</td>\n",
       "      <td>200000.000000</td>\n",
       "      <td>200000.000000</td>\n",
       "      <td>200000.000000</td>\n",
       "      <td>200000.000000</td>\n",
       "      <td>200000.000000</td>\n",
       "      <td>200000.000000</td>\n",
       "      <td>200000.000000</td>\n",
       "      <td>200000.000000</td>\n",
       "      <td>200000.000000</td>\n",
       "      <td>...</td>\n",
       "      <td>200000.000000</td>\n",
       "      <td>200000.000000</td>\n",
       "      <td>200000.000000</td>\n",
       "      <td>200000.000000</td>\n",
       "      <td>200000.000000</td>\n",
       "      <td>200000.000000</td>\n",
       "      <td>200000.000000</td>\n",
       "      <td>200000.000000</td>\n",
       "      <td>200000.000000</td>\n",
       "      <td>200000.000000</td>\n",
       "    </tr>\n",
       "    <tr>\n",
       "      <th>mean</th>\n",
       "      <td>0.100490</td>\n",
       "      <td>10.679914</td>\n",
       "      <td>-1.627622</td>\n",
       "      <td>10.715192</td>\n",
       "      <td>6.796529</td>\n",
       "      <td>11.078333</td>\n",
       "      <td>-5.065317</td>\n",
       "      <td>5.408949</td>\n",
       "      <td>16.545850</td>\n",
       "      <td>0.284162</td>\n",
       "      <td>...</td>\n",
       "      <td>3.234440</td>\n",
       "      <td>7.438408</td>\n",
       "      <td>1.927839</td>\n",
       "      <td>3.331774</td>\n",
       "      <td>17.993784</td>\n",
       "      <td>-0.142088</td>\n",
       "      <td>2.303335</td>\n",
       "      <td>8.908158</td>\n",
       "      <td>15.870720</td>\n",
       "      <td>-3.326537</td>\n",
       "    </tr>\n",
       "    <tr>\n",
       "      <th>std</th>\n",
       "      <td>0.300653</td>\n",
       "      <td>3.040051</td>\n",
       "      <td>4.050044</td>\n",
       "      <td>2.640894</td>\n",
       "      <td>2.043319</td>\n",
       "      <td>1.623150</td>\n",
       "      <td>7.863267</td>\n",
       "      <td>0.866607</td>\n",
       "      <td>3.418076</td>\n",
       "      <td>3.332634</td>\n",
       "      <td>...</td>\n",
       "      <td>4.559922</td>\n",
       "      <td>3.023272</td>\n",
       "      <td>1.478423</td>\n",
       "      <td>3.992030</td>\n",
       "      <td>3.135162</td>\n",
       "      <td>1.429372</td>\n",
       "      <td>5.454369</td>\n",
       "      <td>0.921625</td>\n",
       "      <td>3.010945</td>\n",
       "      <td>10.438015</td>\n",
       "    </tr>\n",
       "    <tr>\n",
       "      <th>min</th>\n",
       "      <td>0.000000</td>\n",
       "      <td>0.408400</td>\n",
       "      <td>-15.043400</td>\n",
       "      <td>2.117100</td>\n",
       "      <td>-0.040200</td>\n",
       "      <td>5.074800</td>\n",
       "      <td>-32.562600</td>\n",
       "      <td>2.347300</td>\n",
       "      <td>5.349700</td>\n",
       "      <td>-10.505500</td>\n",
       "      <td>...</td>\n",
       "      <td>-14.093300</td>\n",
       "      <td>-2.691700</td>\n",
       "      <td>-3.814500</td>\n",
       "      <td>-11.783400</td>\n",
       "      <td>8.694400</td>\n",
       "      <td>-5.261000</td>\n",
       "      <td>-14.209600</td>\n",
       "      <td>5.960600</td>\n",
       "      <td>6.299300</td>\n",
       "      <td>-38.852800</td>\n",
       "    </tr>\n",
       "    <tr>\n",
       "      <th>25%</th>\n",
       "      <td>0.000000</td>\n",
       "      <td>8.453850</td>\n",
       "      <td>-4.740025</td>\n",
       "      <td>8.722475</td>\n",
       "      <td>5.254075</td>\n",
       "      <td>9.883175</td>\n",
       "      <td>-11.200350</td>\n",
       "      <td>4.767700</td>\n",
       "      <td>13.943800</td>\n",
       "      <td>-2.317800</td>\n",
       "      <td>...</td>\n",
       "      <td>-0.058825</td>\n",
       "      <td>5.157400</td>\n",
       "      <td>0.889775</td>\n",
       "      <td>0.584600</td>\n",
       "      <td>15.629800</td>\n",
       "      <td>-1.170700</td>\n",
       "      <td>-1.946925</td>\n",
       "      <td>8.252800</td>\n",
       "      <td>13.829700</td>\n",
       "      <td>-11.208475</td>\n",
       "    </tr>\n",
       "    <tr>\n",
       "      <th>50%</th>\n",
       "      <td>0.000000</td>\n",
       "      <td>10.524750</td>\n",
       "      <td>-1.608050</td>\n",
       "      <td>10.580000</td>\n",
       "      <td>6.825000</td>\n",
       "      <td>11.108250</td>\n",
       "      <td>-4.833150</td>\n",
       "      <td>5.385100</td>\n",
       "      <td>16.456800</td>\n",
       "      <td>0.393700</td>\n",
       "      <td>...</td>\n",
       "      <td>3.203600</td>\n",
       "      <td>7.347750</td>\n",
       "      <td>1.901300</td>\n",
       "      <td>3.396350</td>\n",
       "      <td>17.957950</td>\n",
       "      <td>-0.172700</td>\n",
       "      <td>2.408900</td>\n",
       "      <td>8.888200</td>\n",
       "      <td>15.934050</td>\n",
       "      <td>-2.819550</td>\n",
       "    </tr>\n",
       "    <tr>\n",
       "      <th>75%</th>\n",
       "      <td>0.000000</td>\n",
       "      <td>12.758200</td>\n",
       "      <td>1.358625</td>\n",
       "      <td>12.516700</td>\n",
       "      <td>8.324100</td>\n",
       "      <td>12.261125</td>\n",
       "      <td>0.924800</td>\n",
       "      <td>6.003000</td>\n",
       "      <td>19.102900</td>\n",
       "      <td>2.937900</td>\n",
       "      <td>...</td>\n",
       "      <td>6.406200</td>\n",
       "      <td>9.512525</td>\n",
       "      <td>2.949500</td>\n",
       "      <td>6.205800</td>\n",
       "      <td>20.396525</td>\n",
       "      <td>0.829600</td>\n",
       "      <td>6.556725</td>\n",
       "      <td>9.593300</td>\n",
       "      <td>18.064725</td>\n",
       "      <td>4.836800</td>\n",
       "    </tr>\n",
       "    <tr>\n",
       "      <th>max</th>\n",
       "      <td>1.000000</td>\n",
       "      <td>20.315000</td>\n",
       "      <td>10.376800</td>\n",
       "      <td>19.353000</td>\n",
       "      <td>13.188300</td>\n",
       "      <td>16.671400</td>\n",
       "      <td>17.251600</td>\n",
       "      <td>8.447700</td>\n",
       "      <td>27.691800</td>\n",
       "      <td>10.151300</td>\n",
       "      <td>...</td>\n",
       "      <td>18.440900</td>\n",
       "      <td>16.716500</td>\n",
       "      <td>8.402400</td>\n",
       "      <td>18.281800</td>\n",
       "      <td>27.928800</td>\n",
       "      <td>4.272900</td>\n",
       "      <td>18.321500</td>\n",
       "      <td>12.000400</td>\n",
       "      <td>26.079100</td>\n",
       "      <td>28.500700</td>\n",
       "    </tr>\n",
       "  </tbody>\n",
       "</table>\n",
       "<p>8 rows × 201 columns</p>\n",
       "</div>"
      ],
      "text/plain": [
       "              target          var_0          var_1          var_2  \\\n",
       "count  200000.000000  200000.000000  200000.000000  200000.000000   \n",
       "mean        0.100490      10.679914      -1.627622      10.715192   \n",
       "std         0.300653       3.040051       4.050044       2.640894   \n",
       "min         0.000000       0.408400     -15.043400       2.117100   \n",
       "25%         0.000000       8.453850      -4.740025       8.722475   \n",
       "50%         0.000000      10.524750      -1.608050      10.580000   \n",
       "75%         0.000000      12.758200       1.358625      12.516700   \n",
       "max         1.000000      20.315000      10.376800      19.353000   \n",
       "\n",
       "               var_3          var_4          var_5          var_6  \\\n",
       "count  200000.000000  200000.000000  200000.000000  200000.000000   \n",
       "mean        6.796529      11.078333      -5.065317       5.408949   \n",
       "std         2.043319       1.623150       7.863267       0.866607   \n",
       "min        -0.040200       5.074800     -32.562600       2.347300   \n",
       "25%         5.254075       9.883175     -11.200350       4.767700   \n",
       "50%         6.825000      11.108250      -4.833150       5.385100   \n",
       "75%         8.324100      12.261125       0.924800       6.003000   \n",
       "max        13.188300      16.671400      17.251600       8.447700   \n",
       "\n",
       "               var_7          var_8      ...              var_190  \\\n",
       "count  200000.000000  200000.000000      ...        200000.000000   \n",
       "mean       16.545850       0.284162      ...             3.234440   \n",
       "std         3.418076       3.332634      ...             4.559922   \n",
       "min         5.349700     -10.505500      ...           -14.093300   \n",
       "25%        13.943800      -2.317800      ...            -0.058825   \n",
       "50%        16.456800       0.393700      ...             3.203600   \n",
       "75%        19.102900       2.937900      ...             6.406200   \n",
       "max        27.691800      10.151300      ...            18.440900   \n",
       "\n",
       "             var_191        var_192        var_193        var_194  \\\n",
       "count  200000.000000  200000.000000  200000.000000  200000.000000   \n",
       "mean        7.438408       1.927839       3.331774      17.993784   \n",
       "std         3.023272       1.478423       3.992030       3.135162   \n",
       "min        -2.691700      -3.814500     -11.783400       8.694400   \n",
       "25%         5.157400       0.889775       0.584600      15.629800   \n",
       "50%         7.347750       1.901300       3.396350      17.957950   \n",
       "75%         9.512525       2.949500       6.205800      20.396525   \n",
       "max        16.716500       8.402400      18.281800      27.928800   \n",
       "\n",
       "             var_195        var_196        var_197        var_198  \\\n",
       "count  200000.000000  200000.000000  200000.000000  200000.000000   \n",
       "mean       -0.142088       2.303335       8.908158      15.870720   \n",
       "std         1.429372       5.454369       0.921625       3.010945   \n",
       "min        -5.261000     -14.209600       5.960600       6.299300   \n",
       "25%        -1.170700      -1.946925       8.252800      13.829700   \n",
       "50%        -0.172700       2.408900       8.888200      15.934050   \n",
       "75%         0.829600       6.556725       9.593300      18.064725   \n",
       "max         4.272900      18.321500      12.000400      26.079100   \n",
       "\n",
       "             var_199  \n",
       "count  200000.000000  \n",
       "mean       -3.326537  \n",
       "std        10.438015  \n",
       "min       -38.852800  \n",
       "25%       -11.208475  \n",
       "50%        -2.819550  \n",
       "75%         4.836800  \n",
       "max        28.500700  \n",
       "\n",
       "[8 rows x 201 columns]"
      ]
     },
     "execution_count": 7,
     "metadata": {},
     "output_type": "execute_result"
    }
   ],
   "source": [
    "train_df.describe()"
   ]
  },
  {
   "cell_type": "code",
   "execution_count": 8,
   "metadata": {},
   "outputs": [],
   "source": [
    "min_max_scaler = MinMaxScaler()"
   ]
  },
  {
   "cell_type": "code",
   "execution_count": 9,
   "metadata": {},
   "outputs": [],
   "source": [
    "standart_scaler = StandardScaler()"
   ]
  },
  {
   "cell_type": "code",
   "execution_count": 10,
   "metadata": {},
   "outputs": [],
   "source": [
    "robust_scaler = RobustScaler()"
   ]
  },
  {
   "cell_type": "code",
   "execution_count": 11,
   "metadata": {},
   "outputs": [],
   "source": [
    "#scaled_train_values = min_max_scaler.fit_transform(train_df[train_df.columns.drop(['ID_code', 'target'])])\n",
    "scaled_train_values = standart_scaler.fit_transform(train_df[train_df.columns.drop(['ID_code', 'target'])])\n",
    "#scaled_train_values = robust_scaler.fit_transform(train_df[train_df.columns.drop(['ID_code', 'target'])])"
   ]
  },
  {
   "cell_type": "code",
   "execution_count": 12,
   "metadata": {},
   "outputs": [],
   "source": [
    "target_values = train_df['target'].values"
   ]
  },
  {
   "cell_type": "code",
   "execution_count": 13,
   "metadata": {},
   "outputs": [],
   "source": [
    "train_values, holdout_test_values, train_target_values, holdout_test_target_values = train_test_split(\n",
    "    #scaled_train_values,\n",
    "    train_df[train_df.columns.drop(['ID_code', 'target'])].values,\n",
    "    target_values,\n",
    "    test_size=0.2,\n",
    "    random_state=0\n",
    ")"
   ]
  },
  {
   "cell_type": "code",
   "execution_count": 14,
   "metadata": {},
   "outputs": [
    {
     "name": "stdout",
     "output_type": "stream",
     "text": [
      "(160000, 200)\n",
      "(160000,)\n",
      "(40000, 200)\n",
      "(40000,)\n"
     ]
    }
   ],
   "source": [
    "print(train_values.shape)\n",
    "print(train_target_values.shape)\n",
    "print(holdout_test_values.shape)\n",
    "print(holdout_test_target_values.shape)"
   ]
  },
  {
   "cell_type": "code",
   "execution_count": 15,
   "metadata": {},
   "outputs": [],
   "source": [
    "#test_df.head()"
   ]
  },
  {
   "cell_type": "code",
   "execution_count": 16,
   "metadata": {},
   "outputs": [],
   "source": [
    "ID_code = test_df['ID_code'].values"
   ]
  },
  {
   "cell_type": "code",
   "execution_count": 17,
   "metadata": {},
   "outputs": [
    {
     "name": "stdout",
     "output_type": "stream",
     "text": [
      "['test_0' 'test_1' 'test_2' 'test_3' 'test_4' 'test_5' 'test_6' 'test_7'\n",
      " 'test_8' 'test_9']\n"
     ]
    }
   ],
   "source": [
    "print(ID_code[:10])"
   ]
  },
  {
   "cell_type": "code",
   "execution_count": 18,
   "metadata": {},
   "outputs": [],
   "source": [
    "#tf.py_func"
   ]
  },
  {
   "cell_type": "code",
   "execution_count": 19,
   "metadata": {},
   "outputs": [],
   "source": [
    "batch_size = 100"
   ]
  },
  {
   "cell_type": "code",
   "execution_count": 20,
   "metadata": {},
   "outputs": [],
   "source": [
    "def auc(y_true, y_pred):\n",
    "#def auc(y_pred, y_true):\n",
    "    #print(y_true[:5])\n",
    "    #print(y_pred[:5])  \n",
    "    return tf.py_func(roc_auc_score, (y_true, y_pred), tf.double)\n",
    "    #return tf.py_func(roc_auc_score, (y_true, y_pred), tf.int8)"
   ]
  },
  {
   "cell_type": "markdown",
   "metadata": {},
   "source": [
    "Провести mean_shift кластеризацию на множестве переменных (features)?"
   ]
  },
  {
   "cell_type": "code",
   "execution_count": 21,
   "metadata": {},
   "outputs": [],
   "source": [
    "#submission_predicts = sequential_nn_model.predict(test_df[test_df.columns.drop('ID_code')].values)"
   ]
  },
  {
   "cell_type": "code",
   "execution_count": 22,
   "metadata": {},
   "outputs": [],
   "source": [
    "#submission_predicts.shape"
   ]
  },
  {
   "cell_type": "code",
   "execution_count": 23,
   "metadata": {},
   "outputs": [],
   "source": [
    "#print(submission_predicts[:5])\n",
    "#submission_predicts_values = submission_predicts[:, 0]"
   ]
  },
  {
   "cell_type": "code",
   "execution_count": 24,
   "metadata": {},
   "outputs": [],
   "source": [
    "#submission_predicts_values.shape"
   ]
  },
  {
   "cell_type": "code",
   "execution_count": 25,
   "metadata": {},
   "outputs": [],
   "source": [
    "#np.all(submission_predicts_values == 0)"
   ]
  },
  {
   "cell_type": "code",
   "execution_count": 26,
   "metadata": {},
   "outputs": [],
   "source": [
    "#submission_df = pd.DataFrame({'ID_code': ID_code, 'target': submission_predicts_values.astype('float32')})"
   ]
  },
  {
   "cell_type": "code",
   "execution_count": 27,
   "metadata": {},
   "outputs": [],
   "source": [
    "#np.any(submission_predicts_values == 1)"
   ]
  },
  {
   "cell_type": "code",
   "execution_count": 28,
   "metadata": {},
   "outputs": [],
   "source": [
    "#np.all(submission_predicts_values > 0)"
   ]
  },
  {
   "cell_type": "code",
   "execution_count": 29,
   "metadata": {},
   "outputs": [],
   "source": [
    "#np.all(submission_predicts_values < 0)"
   ]
  },
  {
   "cell_type": "code",
   "execution_count": 30,
   "metadata": {},
   "outputs": [],
   "source": [
    "#np.any(submission_predicts_values > 0)"
   ]
  },
  {
   "cell_type": "code",
   "execution_count": 31,
   "metadata": {},
   "outputs": [],
   "source": [
    "#np.any(submission_predicts_values < 0)"
   ]
  },
  {
   "cell_type": "code",
   "execution_count": 32,
   "metadata": {},
   "outputs": [],
   "source": [
    "#submission_predicts_values[submission_predicts_values > 0].shape"
   ]
  },
  {
   "cell_type": "code",
   "execution_count": 33,
   "metadata": {},
   "outputs": [],
   "source": [
    "#submission_predicts_values.max()"
   ]
  },
  {
   "cell_type": "code",
   "execution_count": 34,
   "metadata": {},
   "outputs": [],
   "source": [
    "#submission_predicts_values.min()"
   ]
  },
  {
   "cell_type": "code",
   "execution_count": 35,
   "metadata": {},
   "outputs": [],
   "source": [
    "#submission_predicts_values[submission_predicts_values < 0.245].shape"
   ]
  },
  {
   "cell_type": "code",
   "execution_count": 36,
   "metadata": {},
   "outputs": [],
   "source": [
    "#submission_predicts_values[submission_predicts_values >= 0.245].shape"
   ]
  },
  {
   "cell_type": "code",
   "execution_count": 37,
   "metadata": {},
   "outputs": [],
   "source": [
    "#submission_predicts_values[submission_predicts_values < 0.245] = 0\n",
    "#submission_predicts_values[submission_predicts_values >= 0.245] = 1"
   ]
  },
  {
   "cell_type": "code",
   "execution_count": 38,
   "metadata": {},
   "outputs": [],
   "source": [
    "#submission_predicts_values[submission_predicts_values == 1].shape"
   ]
  },
  {
   "cell_type": "code",
   "execution_count": 39,
   "metadata": {},
   "outputs": [],
   "source": [
    "#submission_df = pd.DataFrame({'ID_code': ID_code, 'target': submission_predicts_values.astype('float32')})"
   ]
  },
  {
   "cell_type": "code",
   "execution_count": 40,
   "metadata": {},
   "outputs": [],
   "source": [
    "#submission_df.to_csv('submission_mlp_1.csv', index=False)"
   ]
  },
  {
   "cell_type": "code",
   "execution_count": 73,
   "metadata": {},
   "outputs": [],
   "source": [
    "def detect_threshold(classes_ratio, step_size, predicted_values):\n",
    "    threshold = predicted_values.min()\n",
    "    values_below_threshold = (predicted_values[predicted_values < threshold]).shape[0]\n",
    "    values_above_threshold = (predicted_values[predicted_values >= threshold]).shape[0]\n",
    "    #threshold_classes_ratio =  values_above_threshold / values_below_threshold\n",
    "    threshold_classes_ratio = 1\n",
    "    \n",
    "    while(threshold_classes_ratio > classes_ratio):\n",
    "        threshold += step_size        \n",
    "        values_below_threshold = (predicted_values[predicted_values < threshold]).shape[0]\n",
    "        values_above_threshold = (predicted_values[predicted_values >= threshold]).shape[0]\n",
    "        threshold_classes_ratio =  values_above_threshold / values_below_threshold\n",
    "    predicted_values[predicted_values < threshold] = 0\n",
    "    predicted_values[predicted_values >= threshold] = 1\n",
    "    return threshold, predicted_values"
   ]
  },
  {
   "cell_type": "code",
   "execution_count": 168,
   "metadata": {},
   "outputs": [],
   "source": [
    "sequential_nn_model = None\n",
    "#del sequential_nn_model\n",
    "if sequential_nn_model:\n",
    "    del sequential_nn_model\n",
    "sequential_nn_model = Sequential()\n",
    "sequential_nn_model.add(Dense(batch_size, input_dim=200, kernel_initializer='normal', activation='relu'))\n",
    "sequential_nn_model.add(Dropout(0.1))\n",
    "sequential_nn_model.add(Dense(batch_size, input_dim=100, kernel_initializer='normal', activation='sigmoid'))\n",
    "sequential_nn_model.add(Dropout(0.1))\n",
    "sequential_nn_model.add(Dense(batch_size, input_dim=100, kernel_initializer='normal', activation='relu'))\n",
    "#sequential_nn_model.add(Dense(batch_size, input_shape=(100, 200), kernel_initializer='normal', activation='sigmoid'))\n",
    "#sequential_nn_model.add(Dropout(0.76))\n",
    "sequential_nn_model.add(Dropout(0.24))\n",
    "sequential_nn_model.add(Dense(1, kernel_initializer='normal', activation='sigmoid'))"
   ]
  },
  {
   "cell_type": "code",
   "execution_count": 169,
   "metadata": {},
   "outputs": [],
   "source": [
    "#sequential_nn_model.compile(loss='binary_crossentropy', optimizer=Adam(lr=0.0005), metrics=['accuracy', auc])\n",
    "sequential_nn_model.compile(loss='binary_crossentropy', optimizer=Adam(lr=0.001), metrics=['accuracy', auc])"
   ]
  },
  {
   "cell_type": "code",
   "execution_count": 170,
   "metadata": {},
   "outputs": [
    {
     "name": "stdout",
     "output_type": "stream",
     "text": [
      "Train on 128000 samples, validate on 32000 samples\n",
      "Epoch 1/40\n",
      "128000/128000 [==============================] - 7s 54us/step - loss: 0.3061 - acc: 0.8976 - auc: 0.7435 - val_loss: 0.2556 - val_acc: 0.9062 - val_auc: 0.8128\n",
      "Epoch 2/40\n",
      "128000/128000 [==============================] - 6s 46us/step - loss: 0.2642 - acc: 0.9034 - auc: 0.8146 - val_loss: 0.2476 - val_acc: 0.9098 - val_auc: 0.8251\n",
      "Epoch 3/40\n",
      "128000/128000 [==============================] - 6s 46us/step - loss: 0.2593 - acc: 0.9051 - auc: 0.8239 - val_loss: 0.2521 - val_acc: 0.9068 - val_auc: 0.8316\n",
      "Epoch 4/40\n",
      "128000/128000 [==============================] - 6s 47us/step - loss: 0.2564 - acc: 0.9063 - auc: 0.8291 - val_loss: 0.2456 - val_acc: 0.9107 - val_auc: 0.8343\n",
      "Epoch 5/40\n",
      "128000/128000 [==============================] - 6s 47us/step - loss: 0.2544 - acc: 0.9066 - auc: 0.8322 - val_loss: 0.2415 - val_acc: 0.9130 - val_auc: 0.8346\n",
      "Epoch 6/40\n",
      "128000/128000 [==============================] - 6s 47us/step - loss: 0.2535 - acc: 0.9074 - auc: 0.8330 - val_loss: 0.2420 - val_acc: 0.9120 - val_auc: 0.8368\n",
      "Epoch 7/40\n",
      "128000/128000 [==============================] - 6s 47us/step - loss: 0.2516 - acc: 0.9080 - auc: 0.8359 - val_loss: 0.2439 - val_acc: 0.9103 - val_auc: 0.8355\n",
      "Epoch 8/40\n",
      "128000/128000 [==============================] - 6s 48us/step - loss: 0.2513 - acc: 0.9082 - auc: 0.8351 - val_loss: 0.2417 - val_acc: 0.9124 - val_auc: 0.8372\n",
      "Epoch 9/40\n",
      "128000/128000 [==============================] - 6s 46us/step - loss: 0.2509 - acc: 0.9080 - auc: 0.8386 - val_loss: 0.2395 - val_acc: 0.9122 - val_auc: 0.8393\n",
      "Epoch 10/40\n",
      "128000/128000 [==============================] - 6s 46us/step - loss: 0.2496 - acc: 0.9092 - auc: 0.8392 - val_loss: 0.2414 - val_acc: 0.9123 - val_auc: 0.8394\n",
      "Epoch 11/40\n",
      "128000/128000 [==============================] - 6s 46us/step - loss: 0.2494 - acc: 0.9092 - auc: 0.8410 - val_loss: 0.2426 - val_acc: 0.9134 - val_auc: 0.8399\n",
      "Epoch 12/40\n",
      "128000/128000 [==============================] - 6s 46us/step - loss: 0.2474 - acc: 0.9092 - auc: 0.8422 - val_loss: 0.2395 - val_acc: 0.9123 - val_auc: 0.8404\n",
      "Epoch 13/40\n",
      "128000/128000 [==============================] - 6s 47us/step - loss: 0.2471 - acc: 0.9094 - auc: 0.8413 - val_loss: 0.2403 - val_acc: 0.9112 - val_auc: 0.8404\n",
      "Epoch 14/40\n",
      "128000/128000 [==============================] - 6s 46us/step - loss: 0.2470 - acc: 0.9094 - auc: 0.8428 - val_loss: 0.2451 - val_acc: 0.9103 - val_auc: 0.8409\n",
      "Epoch 15/40\n",
      "128000/128000 [==============================] - 6s 47us/step - loss: 0.2463 - acc: 0.9097 - auc: 0.8431 - val_loss: 0.2380 - val_acc: 0.9127 - val_auc: 0.8416\n",
      "Epoch 16/40\n",
      "128000/128000 [==============================] - 6s 46us/step - loss: 0.2460 - acc: 0.9098 - auc: 0.8446 - val_loss: 0.2386 - val_acc: 0.9125 - val_auc: 0.8423\n",
      "Epoch 17/40\n",
      "128000/128000 [==============================] - 6s 47us/step - loss: 0.2456 - acc: 0.9098 - auc: 0.8452 - val_loss: 0.2399 - val_acc: 0.9108 - val_auc: 0.8407\n",
      "Epoch 18/40\n",
      "128000/128000 [==============================] - 6s 47us/step - loss: 0.2452 - acc: 0.9098 - auc: 0.8448 - val_loss: 0.2411 - val_acc: 0.9106 - val_auc: 0.8397\n",
      "Epoch 19/40\n",
      "128000/128000 [==============================] - 6s 47us/step - loss: 0.2453 - acc: 0.9095 - auc: 0.8449 - val_loss: 0.2420 - val_acc: 0.9129 - val_auc: 0.8419\n",
      "Epoch 20/40\n",
      "128000/128000 [==============================] - 6s 46us/step - loss: 0.2444 - acc: 0.9104 - auc: 0.8464 - val_loss: 0.2399 - val_acc: 0.9117 - val_auc: 0.8419\n",
      "Epoch 21/40\n",
      "128000/128000 [==============================] - 6s 46us/step - loss: 0.2439 - acc: 0.9102 - auc: 0.8471 - val_loss: 0.2441 - val_acc: 0.9123 - val_auc: 0.8427\n",
      "Epoch 22/40\n",
      "128000/128000 [==============================] - 6s 46us/step - loss: 0.2436 - acc: 0.9105 - auc: 0.8473 - val_loss: 0.2374 - val_acc: 0.9125 - val_auc: 0.8428\n",
      "Epoch 23/40\n",
      "128000/128000 [==============================] - 6s 47us/step - loss: 0.2435 - acc: 0.9103 - auc: 0.8486 - val_loss: 0.2390 - val_acc: 0.9120 - val_auc: 0.8417\n",
      "Epoch 24/40\n",
      "128000/128000 [==============================] - 6s 46us/step - loss: 0.2427 - acc: 0.9107 - auc: 0.8493 - val_loss: 0.2402 - val_acc: 0.9108 - val_auc: 0.8395\n",
      "Epoch 25/40\n",
      "128000/128000 [==============================] - 6s 46us/step - loss: 0.2429 - acc: 0.9116 - auc: 0.8469 - val_loss: 0.2400 - val_acc: 0.9128 - val_auc: 0.8434\n",
      "Epoch 26/40\n",
      "128000/128000 [==============================] - 6s 47us/step - loss: 0.2430 - acc: 0.9108 - auc: 0.8481 - val_loss: 0.2378 - val_acc: 0.9122 - val_auc: 0.8430\n",
      "Epoch 27/40\n",
      "128000/128000 [==============================] - 6s 47us/step - loss: 0.2431 - acc: 0.9105 - auc: 0.8492 - val_loss: 0.2365 - val_acc: 0.9130 - val_auc: 0.8440\n",
      "Epoch 28/40\n",
      "128000/128000 [==============================] - 6s 48us/step - loss: 0.2428 - acc: 0.9108 - auc: 0.8496 - val_loss: 0.2384 - val_acc: 0.9120 - val_auc: 0.8424\n",
      "Epoch 29/40\n",
      "128000/128000 [==============================] - 6s 47us/step - loss: 0.2422 - acc: 0.9116 - auc: 0.8494 - val_loss: 0.2400 - val_acc: 0.9122 - val_auc: 0.8428\n",
      "Epoch 30/40\n",
      "128000/128000 [==============================] - 6s 47us/step - loss: 0.2416 - acc: 0.9113 - auc: 0.8506 - val_loss: 0.2374 - val_acc: 0.9131 - val_auc: 0.8435\n",
      "Epoch 31/40\n",
      "128000/128000 [==============================] - 6s 47us/step - loss: 0.2419 - acc: 0.9112 - auc: 0.8494 - val_loss: 0.2459 - val_acc: 0.9120 - val_auc: 0.8427\n",
      "Epoch 32/40\n",
      "128000/128000 [==============================] - 6s 47us/step - loss: 0.2416 - acc: 0.9112 - auc: 0.8480 - val_loss: 0.2402 - val_acc: 0.9133 - val_auc: 0.8439\n",
      "Epoch 33/40\n",
      "128000/128000 [==============================] - 6s 46us/step - loss: 0.2414 - acc: 0.9114 - auc: 0.8498 - val_loss: 0.2451 - val_acc: 0.9124 - val_auc: 0.8432\n",
      "Epoch 34/40\n",
      "128000/128000 [==============================] - 6s 46us/step - loss: 0.2414 - acc: 0.9122 - auc: 0.8500 - val_loss: 0.2372 - val_acc: 0.9124 - val_auc: 0.8431\n",
      "Epoch 35/40\n",
      "128000/128000 [==============================] - 6s 45us/step - loss: 0.2412 - acc: 0.9113 - auc: 0.8504 - val_loss: 0.2387 - val_acc: 0.9123 - val_auc: 0.8450\n",
      "Epoch 36/40\n",
      "128000/128000 [==============================] - 6s 45us/step - loss: 0.2409 - acc: 0.9116 - auc: 0.8507 - val_loss: 0.2393 - val_acc: 0.9119 - val_auc: 0.8429\n",
      "Epoch 37/40\n",
      "128000/128000 [==============================] - 6s 46us/step - loss: 0.2403 - acc: 0.9119 - auc: 0.8516 - val_loss: 0.2384 - val_acc: 0.9127 - val_auc: 0.8430\n",
      "Epoch 38/40\n",
      "128000/128000 [==============================] - 6s 46us/step - loss: 0.2414 - acc: 0.9110 - auc: 0.8523 - val_loss: 0.2371 - val_acc: 0.9131 - val_auc: 0.8445\n",
      "Epoch 39/40\n",
      "128000/128000 [==============================] - 6s 45us/step - loss: 0.2409 - acc: 0.9115 - auc: 0.8522 - val_loss: 0.2395 - val_acc: 0.9115 - val_auc: 0.8419\n",
      "Epoch 40/40\n",
      "128000/128000 [==============================] - 6s 46us/step - loss: 0.2408 - acc: 0.9115 - auc: 0.8502 - val_loss: 0.2372 - val_acc: 0.9125 - val_auc: 0.8446\n",
      "Run time 3.986013650894165 min\n"
     ]
    }
   ],
   "source": [
    "start_time = time.time()\n",
    "sequential_nn_model.fit(train_values, train_target_values, batch_size=100, epochs=40, verbose=1, validation_split=0.2)\n",
    "print(\"Run time {} min\".format((time.time() - start_time) / 60))"
   ]
  },
  {
   "cell_type": "code",
   "execution_count": 171,
   "metadata": {},
   "outputs": [
    {
     "name": "stdout",
     "output_type": "stream",
     "text": [
      "40000/40000 [==============================] - 1s 21us/step\n"
     ]
    }
   ],
   "source": [
    "loss_and_metrics = sequential_nn_model.evaluate(holdout_test_values, holdout_test_target_values, batch_size=100)"
   ]
  },
  {
   "cell_type": "code",
   "execution_count": 172,
   "metadata": {},
   "outputs": [
    {
     "data": {
      "text/plain": [
       "[0.24494799628853797, 0.9102000007033348, 0.839084512352511]"
      ]
     },
     "execution_count": 172,
     "metadata": {},
     "output_type": "execute_result"
    }
   ],
   "source": [
    "loss_and_metrics\n",
    "# [0.25161404045298696, 0.9094000032544136, 0.8320361980522218] [0.2493363002128899, 0.9096750013530255, 0.8369347876192563]\n",
    "# [0.24582509476691483, 0.9101250021159649, 0.8396344886385845] [0.24802235754206778, 0.9094000029563903, 0.8385308386618173]\n",
    "# [0.24494799628853797, 0.9102000007033348, 0.839084512352511]"
   ]
  },
  {
   "cell_type": "code",
   "execution_count": 173,
   "metadata": {},
   "outputs": [],
   "source": [
    "model_json = sequential_nn_model.to_json()\n",
    "with open(\"sequential_nn_model_relu_droput024_lr001_sigmoid_40_epochs_2019-03-30-1.json\", \"w\") as json_file:\n",
    "    json_file.write(model_json)"
   ]
  },
  {
   "cell_type": "code",
   "execution_count": 174,
   "metadata": {},
   "outputs": [],
   "source": [
    "sequential_nn_model.save(\"sequential_nn_model_relu_dropout024_lr001_sigmoid_40_epochs_2019-03-30-1.h5\")"
   ]
  },
  {
   "cell_type": "code",
   "execution_count": 175,
   "metadata": {},
   "outputs": [],
   "source": [
    "sequential_nn_model.save_weights(\"sequential_nn_model_weights_relu_dropout024_lr001_sigmoid_40_epochs_2019-03-30-1.h5\")"
   ]
  },
  {
   "cell_type": "code",
   "execution_count": 176,
   "metadata": {},
   "outputs": [],
   "source": [
    "submission_predict_values = sequential_nn_model.predict(test_df[test_df.columns.drop('ID_code')].values)[:, 0]"
   ]
  },
  {
   "cell_type": "code",
   "execution_count": 55,
   "metadata": {},
   "outputs": [],
   "source": [
    "classes_ratio = train_df[train_df['target'] == 1].shape[0] / train_df[train_df['target'] == 0].shape[0]"
   ]
  },
  {
   "cell_type": "code",
   "execution_count": 56,
   "metadata": {},
   "outputs": [
    {
     "data": {
      "text/plain": [
       "0.1117163789174106"
      ]
     },
     "execution_count": 56,
     "metadata": {},
     "output_type": "execute_result"
    }
   ],
   "source": [
    "classes_ratio"
   ]
  },
  {
   "cell_type": "code",
   "execution_count": 177,
   "metadata": {},
   "outputs": [],
   "source": [
    "threshold, submission_predicts = detect_threshold(classes_ratio, 0.01, submission_predict_values)"
   ]
  },
  {
   "cell_type": "code",
   "execution_count": 178,
   "metadata": {},
   "outputs": [
    {
     "data": {
      "text/plain": [
       "0.27001717647865014"
      ]
     },
     "execution_count": 178,
     "metadata": {},
     "output_type": "execute_result"
    }
   ],
   "source": [
    "threshold"
   ]
  },
  {
   "cell_type": "code",
   "execution_count": 179,
   "metadata": {},
   "outputs": [
    {
     "data": {
      "text/plain": [
       "(180136,)"
      ]
     },
     "execution_count": 179,
     "metadata": {},
     "output_type": "execute_result"
    }
   ],
   "source": [
    "submission_predicts[submission_predicts == 0].shape"
   ]
  },
  {
   "cell_type": "code",
   "execution_count": 180,
   "metadata": {},
   "outputs": [
    {
     "data": {
      "text/plain": [
       "(19864,)"
      ]
     },
     "execution_count": 180,
     "metadata": {},
     "output_type": "execute_result"
    }
   ],
   "source": [
    "submission_predicts[submission_predicts == 1].shape"
   ]
  },
  {
   "cell_type": "code",
   "execution_count": 181,
   "metadata": {},
   "outputs": [],
   "source": [
    "submission_df = pd.DataFrame({'ID_code': ID_code, 'target': submission_predicts.astype('float32')})"
   ]
  },
  {
   "cell_type": "code",
   "execution_count": 182,
   "metadata": {},
   "outputs": [],
   "source": [
    "submission_df.to_csv('submission_mlp_3.csv', index=False)"
   ]
  },
  {
   "cell_type": "code",
   "execution_count": null,
   "metadata": {},
   "outputs": [],
   "source": []
  }
 ],
 "metadata": {
  "kernelspec": {
   "display_name": "Python 3",
   "language": "python",
   "name": "python3"
  },
  "language_info": {
   "codemirror_mode": {
    "name": "ipython",
    "version": 3
   },
   "file_extension": ".py",
   "mimetype": "text/x-python",
   "name": "python",
   "nbconvert_exporter": "python",
   "pygments_lexer": "ipython3",
   "version": "3.6.6"
  }
 },
 "nbformat": 4,
 "nbformat_minor": 2
}
