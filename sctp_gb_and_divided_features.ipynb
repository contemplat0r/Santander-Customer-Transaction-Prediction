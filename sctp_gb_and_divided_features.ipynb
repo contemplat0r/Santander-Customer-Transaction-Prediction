{
 "cells": [
  {
   "cell_type": "code",
   "execution_count": 1,
   "metadata": {},
   "outputs": [],
   "source": [
    "import os\n",
    "import gc\n",
    "import logging\n",
    "import time\n",
    "\n",
    "import numpy as np\n",
    "import pandas as pd\n",
    "import matplotlib.pyplot as plt\n",
    "import seaborn as sns\n",
    "import lightgbm as lgb\n",
    "from sklearn.metrics import mean_squared_error, roc_auc_score, roc_curve, accuracy_score, auc\n",
    "from sklearn.model_selection import StratifiedKFold\n",
    "from sklearn.preprocessing import MinMaxScaler, StandardScaler, PolynomialFeatures\n",
    "from sklearn.linear_model import LogisticRegression, LogisticRegressionCV\n",
    "from sklearn import svm\n",
    "from sklearn.model_selection import cross_val_score, train_test_split\n",
    "from sklearn.base import clone\n",
    "\n",
    "from sklearn.feature_selection import SelectKBest\n",
    "from sklearn.feature_selection import chi2\n",
    "from sklearn import cluster"
   ]
  },
  {
   "cell_type": "code",
   "execution_count": 2,
   "metadata": {},
   "outputs": [],
   "source": [
    "%matplotlib inline"
   ]
  },
  {
   "cell_type": "code",
   "execution_count": 3,
   "metadata": {},
   "outputs": [],
   "source": [
    "start_time = time.time()"
   ]
  },
  {
   "cell_type": "code",
   "execution_count": 4,
   "metadata": {},
   "outputs": [],
   "source": [
    "def reduce_mem_usage(df, verbose=True):\n",
    "    numerics = ['int16', 'int32', 'int64', 'float16', 'float32', 'float64']\n",
    "    start_mem = df.memory_usage().sum() / (1024 ** 2)    \n",
    "    for col in df.columns:\n",
    "        col_type = df[col].dtypes\n",
    "        if col_type in numerics:\n",
    "            c_min = df[col].min()\n",
    "            c_max = df[col].max()\n",
    "            if str(col_type)[:3] == 'int':\n",
    "                if c_min > np.iinfo(np.int8).min and c_max < np.iinfo(np.int8).max:\n",
    "                    df[col] = df[col].astype(np.int8)\n",
    "                elif c_min > np.iinfo(np.int16).min and c_max < np.iinfo(np.int16).max:\n",
    "                    df[col] = df[col].astype(np.int16)\n",
    "                elif c_min > np.iinfo(np.int32).min and c_max < np.iinfo(np.int32).max:\n",
    "                    df[col] = df[col].astype(np.int32)\n",
    "                elif c_min > np.iinfo(np.int64).min and c_max < np.iinfo(np.int64).max:\n",
    "                    df[col] = df[col].astype(np.int64)  \n",
    "            else:\n",
    "                if c_min > np.finfo(np.float16).min and c_max < np.finfo(np.float16).max:\n",
    "                    df[col] = df[col].astype(np.float16)\n",
    "                elif c_min > np.finfo(np.float32).min and c_max < np.finfo(np.float32).max:\n",
    "                    df[col] = df[col].astype(np.float32)\n",
    "                else:\n",
    "                    df[col] = df[col].astype(np.float64)    \n",
    "    end_mem = df.memory_usage().sum() / (1024 ** 2)\n",
    "    if verbose: print('Mem. usage decreased to {:5.2f} Mb ({:.1f}% reduction)'.format(end_mem, 100 * (start_mem - end_mem) / start_mem))\n",
    "    return df"
   ]
  },
  {
   "cell_type": "code",
   "execution_count": 5,
   "metadata": {},
   "outputs": [],
   "source": [
    "train_df = pd.read_csv('../input/train.csv')"
   ]
  },
  {
   "cell_type": "code",
   "execution_count": 6,
   "metadata": {},
   "outputs": [],
   "source": [
    "test_df = pd.read_csv('../input/test.csv')"
   ]
  },
  {
   "cell_type": "code",
   "execution_count": 7,
   "metadata": {},
   "outputs": [
    {
     "name": "stdout",
     "output_type": "stream",
     "text": [
      "<class 'pandas.core.frame.DataFrame'>\n",
      "RangeIndex: 200000 entries, 0 to 199999\n",
      "Columns: 202 entries, ID_code to var_199\n",
      "dtypes: float64(200), int64(1), object(1)\n",
      "memory usage: 308.2+ MB\n"
     ]
    }
   ],
   "source": [
    "train_df.info()"
   ]
  },
  {
   "cell_type": "code",
   "execution_count": 8,
   "metadata": {},
   "outputs": [
    {
     "data": {
      "text/html": [
       "<div>\n",
       "<style scoped>\n",
       "    .dataframe tbody tr th:only-of-type {\n",
       "        vertical-align: middle;\n",
       "    }\n",
       "\n",
       "    .dataframe tbody tr th {\n",
       "        vertical-align: top;\n",
       "    }\n",
       "\n",
       "    .dataframe thead th {\n",
       "        text-align: right;\n",
       "    }\n",
       "</style>\n",
       "<table border=\"1\" class=\"dataframe\">\n",
       "  <thead>\n",
       "    <tr style=\"text-align: right;\">\n",
       "      <th></th>\n",
       "      <th>target</th>\n",
       "      <th>var_0</th>\n",
       "      <th>var_1</th>\n",
       "      <th>var_2</th>\n",
       "      <th>var_3</th>\n",
       "      <th>var_4</th>\n",
       "      <th>var_5</th>\n",
       "      <th>var_6</th>\n",
       "      <th>var_7</th>\n",
       "      <th>var_8</th>\n",
       "      <th>...</th>\n",
       "      <th>var_190</th>\n",
       "      <th>var_191</th>\n",
       "      <th>var_192</th>\n",
       "      <th>var_193</th>\n",
       "      <th>var_194</th>\n",
       "      <th>var_195</th>\n",
       "      <th>var_196</th>\n",
       "      <th>var_197</th>\n",
       "      <th>var_198</th>\n",
       "      <th>var_199</th>\n",
       "    </tr>\n",
       "  </thead>\n",
       "  <tbody>\n",
       "    <tr>\n",
       "      <th>count</th>\n",
       "      <td>200000.000000</td>\n",
       "      <td>200000.000000</td>\n",
       "      <td>200000.000000</td>\n",
       "      <td>200000.000000</td>\n",
       "      <td>200000.000000</td>\n",
       "      <td>200000.000000</td>\n",
       "      <td>200000.000000</td>\n",
       "      <td>200000.000000</td>\n",
       "      <td>200000.000000</td>\n",
       "      <td>200000.000000</td>\n",
       "      <td>...</td>\n",
       "      <td>200000.000000</td>\n",
       "      <td>200000.000000</td>\n",
       "      <td>200000.000000</td>\n",
       "      <td>200000.000000</td>\n",
       "      <td>200000.000000</td>\n",
       "      <td>200000.000000</td>\n",
       "      <td>200000.000000</td>\n",
       "      <td>200000.000000</td>\n",
       "      <td>200000.000000</td>\n",
       "      <td>200000.000000</td>\n",
       "    </tr>\n",
       "    <tr>\n",
       "      <th>mean</th>\n",
       "      <td>0.100490</td>\n",
       "      <td>10.679914</td>\n",
       "      <td>-1.627622</td>\n",
       "      <td>10.715192</td>\n",
       "      <td>6.796529</td>\n",
       "      <td>11.078333</td>\n",
       "      <td>-5.065317</td>\n",
       "      <td>5.408949</td>\n",
       "      <td>16.545850</td>\n",
       "      <td>0.284162</td>\n",
       "      <td>...</td>\n",
       "      <td>3.234440</td>\n",
       "      <td>7.438408</td>\n",
       "      <td>1.927839</td>\n",
       "      <td>3.331774</td>\n",
       "      <td>17.993784</td>\n",
       "      <td>-0.142088</td>\n",
       "      <td>2.303335</td>\n",
       "      <td>8.908158</td>\n",
       "      <td>15.870720</td>\n",
       "      <td>-3.326537</td>\n",
       "    </tr>\n",
       "    <tr>\n",
       "      <th>std</th>\n",
       "      <td>0.300653</td>\n",
       "      <td>3.040051</td>\n",
       "      <td>4.050044</td>\n",
       "      <td>2.640894</td>\n",
       "      <td>2.043319</td>\n",
       "      <td>1.623150</td>\n",
       "      <td>7.863267</td>\n",
       "      <td>0.866607</td>\n",
       "      <td>3.418076</td>\n",
       "      <td>3.332634</td>\n",
       "      <td>...</td>\n",
       "      <td>4.559922</td>\n",
       "      <td>3.023272</td>\n",
       "      <td>1.478423</td>\n",
       "      <td>3.992030</td>\n",
       "      <td>3.135162</td>\n",
       "      <td>1.429372</td>\n",
       "      <td>5.454369</td>\n",
       "      <td>0.921625</td>\n",
       "      <td>3.010945</td>\n",
       "      <td>10.438015</td>\n",
       "    </tr>\n",
       "    <tr>\n",
       "      <th>min</th>\n",
       "      <td>0.000000</td>\n",
       "      <td>0.408400</td>\n",
       "      <td>-15.043400</td>\n",
       "      <td>2.117100</td>\n",
       "      <td>-0.040200</td>\n",
       "      <td>5.074800</td>\n",
       "      <td>-32.562600</td>\n",
       "      <td>2.347300</td>\n",
       "      <td>5.349700</td>\n",
       "      <td>-10.505500</td>\n",
       "      <td>...</td>\n",
       "      <td>-14.093300</td>\n",
       "      <td>-2.691700</td>\n",
       "      <td>-3.814500</td>\n",
       "      <td>-11.783400</td>\n",
       "      <td>8.694400</td>\n",
       "      <td>-5.261000</td>\n",
       "      <td>-14.209600</td>\n",
       "      <td>5.960600</td>\n",
       "      <td>6.299300</td>\n",
       "      <td>-38.852800</td>\n",
       "    </tr>\n",
       "    <tr>\n",
       "      <th>25%</th>\n",
       "      <td>0.000000</td>\n",
       "      <td>8.453850</td>\n",
       "      <td>-4.740025</td>\n",
       "      <td>8.722475</td>\n",
       "      <td>5.254075</td>\n",
       "      <td>9.883175</td>\n",
       "      <td>-11.200350</td>\n",
       "      <td>4.767700</td>\n",
       "      <td>13.943800</td>\n",
       "      <td>-2.317800</td>\n",
       "      <td>...</td>\n",
       "      <td>-0.058825</td>\n",
       "      <td>5.157400</td>\n",
       "      <td>0.889775</td>\n",
       "      <td>0.584600</td>\n",
       "      <td>15.629800</td>\n",
       "      <td>-1.170700</td>\n",
       "      <td>-1.946925</td>\n",
       "      <td>8.252800</td>\n",
       "      <td>13.829700</td>\n",
       "      <td>-11.208475</td>\n",
       "    </tr>\n",
       "    <tr>\n",
       "      <th>50%</th>\n",
       "      <td>0.000000</td>\n",
       "      <td>10.524750</td>\n",
       "      <td>-1.608050</td>\n",
       "      <td>10.580000</td>\n",
       "      <td>6.825000</td>\n",
       "      <td>11.108250</td>\n",
       "      <td>-4.833150</td>\n",
       "      <td>5.385100</td>\n",
       "      <td>16.456800</td>\n",
       "      <td>0.393700</td>\n",
       "      <td>...</td>\n",
       "      <td>3.203600</td>\n",
       "      <td>7.347750</td>\n",
       "      <td>1.901300</td>\n",
       "      <td>3.396350</td>\n",
       "      <td>17.957950</td>\n",
       "      <td>-0.172700</td>\n",
       "      <td>2.408900</td>\n",
       "      <td>8.888200</td>\n",
       "      <td>15.934050</td>\n",
       "      <td>-2.819550</td>\n",
       "    </tr>\n",
       "    <tr>\n",
       "      <th>75%</th>\n",
       "      <td>0.000000</td>\n",
       "      <td>12.758200</td>\n",
       "      <td>1.358625</td>\n",
       "      <td>12.516700</td>\n",
       "      <td>8.324100</td>\n",
       "      <td>12.261125</td>\n",
       "      <td>0.924800</td>\n",
       "      <td>6.003000</td>\n",
       "      <td>19.102900</td>\n",
       "      <td>2.937900</td>\n",
       "      <td>...</td>\n",
       "      <td>6.406200</td>\n",
       "      <td>9.512525</td>\n",
       "      <td>2.949500</td>\n",
       "      <td>6.205800</td>\n",
       "      <td>20.396525</td>\n",
       "      <td>0.829600</td>\n",
       "      <td>6.556725</td>\n",
       "      <td>9.593300</td>\n",
       "      <td>18.064725</td>\n",
       "      <td>4.836800</td>\n",
       "    </tr>\n",
       "    <tr>\n",
       "      <th>max</th>\n",
       "      <td>1.000000</td>\n",
       "      <td>20.315000</td>\n",
       "      <td>10.376800</td>\n",
       "      <td>19.353000</td>\n",
       "      <td>13.188300</td>\n",
       "      <td>16.671400</td>\n",
       "      <td>17.251600</td>\n",
       "      <td>8.447700</td>\n",
       "      <td>27.691800</td>\n",
       "      <td>10.151300</td>\n",
       "      <td>...</td>\n",
       "      <td>18.440900</td>\n",
       "      <td>16.716500</td>\n",
       "      <td>8.402400</td>\n",
       "      <td>18.281800</td>\n",
       "      <td>27.928800</td>\n",
       "      <td>4.272900</td>\n",
       "      <td>18.321500</td>\n",
       "      <td>12.000400</td>\n",
       "      <td>26.079100</td>\n",
       "      <td>28.500700</td>\n",
       "    </tr>\n",
       "  </tbody>\n",
       "</table>\n",
       "<p>8 rows × 201 columns</p>\n",
       "</div>"
      ],
      "text/plain": [
       "              target          var_0          var_1          var_2  \\\n",
       "count  200000.000000  200000.000000  200000.000000  200000.000000   \n",
       "mean        0.100490      10.679914      -1.627622      10.715192   \n",
       "std         0.300653       3.040051       4.050044       2.640894   \n",
       "min         0.000000       0.408400     -15.043400       2.117100   \n",
       "25%         0.000000       8.453850      -4.740025       8.722475   \n",
       "50%         0.000000      10.524750      -1.608050      10.580000   \n",
       "75%         0.000000      12.758200       1.358625      12.516700   \n",
       "max         1.000000      20.315000      10.376800      19.353000   \n",
       "\n",
       "               var_3          var_4          var_5          var_6  \\\n",
       "count  200000.000000  200000.000000  200000.000000  200000.000000   \n",
       "mean        6.796529      11.078333      -5.065317       5.408949   \n",
       "std         2.043319       1.623150       7.863267       0.866607   \n",
       "min        -0.040200       5.074800     -32.562600       2.347300   \n",
       "25%         5.254075       9.883175     -11.200350       4.767700   \n",
       "50%         6.825000      11.108250      -4.833150       5.385100   \n",
       "75%         8.324100      12.261125       0.924800       6.003000   \n",
       "max        13.188300      16.671400      17.251600       8.447700   \n",
       "\n",
       "               var_7          var_8      ...              var_190  \\\n",
       "count  200000.000000  200000.000000      ...        200000.000000   \n",
       "mean       16.545850       0.284162      ...             3.234440   \n",
       "std         3.418076       3.332634      ...             4.559922   \n",
       "min         5.349700     -10.505500      ...           -14.093300   \n",
       "25%        13.943800      -2.317800      ...            -0.058825   \n",
       "50%        16.456800       0.393700      ...             3.203600   \n",
       "75%        19.102900       2.937900      ...             6.406200   \n",
       "max        27.691800      10.151300      ...            18.440900   \n",
       "\n",
       "             var_191        var_192        var_193        var_194  \\\n",
       "count  200000.000000  200000.000000  200000.000000  200000.000000   \n",
       "mean        7.438408       1.927839       3.331774      17.993784   \n",
       "std         3.023272       1.478423       3.992030       3.135162   \n",
       "min        -2.691700      -3.814500     -11.783400       8.694400   \n",
       "25%         5.157400       0.889775       0.584600      15.629800   \n",
       "50%         7.347750       1.901300       3.396350      17.957950   \n",
       "75%         9.512525       2.949500       6.205800      20.396525   \n",
       "max        16.716500       8.402400      18.281800      27.928800   \n",
       "\n",
       "             var_195        var_196        var_197        var_198  \\\n",
       "count  200000.000000  200000.000000  200000.000000  200000.000000   \n",
       "mean       -0.142088       2.303335       8.908158      15.870720   \n",
       "std         1.429372       5.454369       0.921625       3.010945   \n",
       "min        -5.261000     -14.209600       5.960600       6.299300   \n",
       "25%        -1.170700      -1.946925       8.252800      13.829700   \n",
       "50%        -0.172700       2.408900       8.888200      15.934050   \n",
       "75%         0.829600       6.556725       9.593300      18.064725   \n",
       "max         4.272900      18.321500      12.000400      26.079100   \n",
       "\n",
       "             var_199  \n",
       "count  200000.000000  \n",
       "mean       -3.326537  \n",
       "std        10.438015  \n",
       "min       -38.852800  \n",
       "25%       -11.208475  \n",
       "50%        -2.819550  \n",
       "75%         4.836800  \n",
       "max        28.500700  \n",
       "\n",
       "[8 rows x 201 columns]"
      ]
     },
     "execution_count": 8,
     "metadata": {},
     "output_type": "execute_result"
    }
   ],
   "source": [
    "train_df.describe()"
   ]
  },
  {
   "cell_type": "code",
   "execution_count": 9,
   "metadata": {},
   "outputs": [
    {
     "data": {
      "text/plain": [
       "(200000, 202)"
      ]
     },
     "execution_count": 9,
     "metadata": {},
     "output_type": "execute_result"
    }
   ],
   "source": [
    "train_df.shape"
   ]
  },
  {
   "cell_type": "code",
   "execution_count": 10,
   "metadata": {},
   "outputs": [
    {
     "data": {
      "text/html": [
       "<div>\n",
       "<style scoped>\n",
       "    .dataframe tbody tr th:only-of-type {\n",
       "        vertical-align: middle;\n",
       "    }\n",
       "\n",
       "    .dataframe tbody tr th {\n",
       "        vertical-align: top;\n",
       "    }\n",
       "\n",
       "    .dataframe thead th {\n",
       "        text-align: right;\n",
       "    }\n",
       "</style>\n",
       "<table border=\"1\" class=\"dataframe\">\n",
       "  <thead>\n",
       "    <tr style=\"text-align: right;\">\n",
       "      <th></th>\n",
       "      <th>ID_code</th>\n",
       "      <th>target</th>\n",
       "      <th>var_0</th>\n",
       "      <th>var_1</th>\n",
       "      <th>var_2</th>\n",
       "      <th>var_3</th>\n",
       "      <th>var_4</th>\n",
       "      <th>var_5</th>\n",
       "      <th>var_6</th>\n",
       "      <th>var_7</th>\n",
       "      <th>...</th>\n",
       "      <th>var_190</th>\n",
       "      <th>var_191</th>\n",
       "      <th>var_192</th>\n",
       "      <th>var_193</th>\n",
       "      <th>var_194</th>\n",
       "      <th>var_195</th>\n",
       "      <th>var_196</th>\n",
       "      <th>var_197</th>\n",
       "      <th>var_198</th>\n",
       "      <th>var_199</th>\n",
       "    </tr>\n",
       "  </thead>\n",
       "  <tbody>\n",
       "    <tr>\n",
       "      <th>0</th>\n",
       "      <td>train_0</td>\n",
       "      <td>0</td>\n",
       "      <td>8.9255</td>\n",
       "      <td>-6.7863</td>\n",
       "      <td>11.9081</td>\n",
       "      <td>5.0930</td>\n",
       "      <td>11.4607</td>\n",
       "      <td>-9.2834</td>\n",
       "      <td>5.1187</td>\n",
       "      <td>18.6266</td>\n",
       "      <td>...</td>\n",
       "      <td>4.4354</td>\n",
       "      <td>3.9642</td>\n",
       "      <td>3.1364</td>\n",
       "      <td>1.6910</td>\n",
       "      <td>18.5227</td>\n",
       "      <td>-2.3978</td>\n",
       "      <td>7.8784</td>\n",
       "      <td>8.5635</td>\n",
       "      <td>12.7803</td>\n",
       "      <td>-1.0914</td>\n",
       "    </tr>\n",
       "    <tr>\n",
       "      <th>1</th>\n",
       "      <td>train_1</td>\n",
       "      <td>0</td>\n",
       "      <td>11.5006</td>\n",
       "      <td>-4.1473</td>\n",
       "      <td>13.8588</td>\n",
       "      <td>5.3890</td>\n",
       "      <td>12.3622</td>\n",
       "      <td>7.0433</td>\n",
       "      <td>5.6208</td>\n",
       "      <td>16.5338</td>\n",
       "      <td>...</td>\n",
       "      <td>7.6421</td>\n",
       "      <td>7.7214</td>\n",
       "      <td>2.5837</td>\n",
       "      <td>10.9516</td>\n",
       "      <td>15.4305</td>\n",
       "      <td>2.0339</td>\n",
       "      <td>8.1267</td>\n",
       "      <td>8.7889</td>\n",
       "      <td>18.3560</td>\n",
       "      <td>1.9518</td>\n",
       "    </tr>\n",
       "    <tr>\n",
       "      <th>2</th>\n",
       "      <td>train_2</td>\n",
       "      <td>0</td>\n",
       "      <td>8.6093</td>\n",
       "      <td>-2.7457</td>\n",
       "      <td>12.0805</td>\n",
       "      <td>7.8928</td>\n",
       "      <td>10.5825</td>\n",
       "      <td>-9.0837</td>\n",
       "      <td>6.9427</td>\n",
       "      <td>14.6155</td>\n",
       "      <td>...</td>\n",
       "      <td>2.9057</td>\n",
       "      <td>9.7905</td>\n",
       "      <td>1.6704</td>\n",
       "      <td>1.6858</td>\n",
       "      <td>21.6042</td>\n",
       "      <td>3.1417</td>\n",
       "      <td>-6.5213</td>\n",
       "      <td>8.2675</td>\n",
       "      <td>14.7222</td>\n",
       "      <td>0.3965</td>\n",
       "    </tr>\n",
       "    <tr>\n",
       "      <th>3</th>\n",
       "      <td>train_3</td>\n",
       "      <td>0</td>\n",
       "      <td>11.0604</td>\n",
       "      <td>-2.1518</td>\n",
       "      <td>8.9522</td>\n",
       "      <td>7.1957</td>\n",
       "      <td>12.5846</td>\n",
       "      <td>-1.8361</td>\n",
       "      <td>5.8428</td>\n",
       "      <td>14.9250</td>\n",
       "      <td>...</td>\n",
       "      <td>4.4666</td>\n",
       "      <td>4.7433</td>\n",
       "      <td>0.7178</td>\n",
       "      <td>1.4214</td>\n",
       "      <td>23.0347</td>\n",
       "      <td>-1.2706</td>\n",
       "      <td>-2.9275</td>\n",
       "      <td>10.2922</td>\n",
       "      <td>17.9697</td>\n",
       "      <td>-8.9996</td>\n",
       "    </tr>\n",
       "    <tr>\n",
       "      <th>4</th>\n",
       "      <td>train_4</td>\n",
       "      <td>0</td>\n",
       "      <td>9.8369</td>\n",
       "      <td>-1.4834</td>\n",
       "      <td>12.8746</td>\n",
       "      <td>6.6375</td>\n",
       "      <td>12.2772</td>\n",
       "      <td>2.4486</td>\n",
       "      <td>5.9405</td>\n",
       "      <td>19.2514</td>\n",
       "      <td>...</td>\n",
       "      <td>-1.4905</td>\n",
       "      <td>9.5214</td>\n",
       "      <td>-0.1508</td>\n",
       "      <td>9.1942</td>\n",
       "      <td>13.2876</td>\n",
       "      <td>-1.5121</td>\n",
       "      <td>3.9267</td>\n",
       "      <td>9.5031</td>\n",
       "      <td>17.9974</td>\n",
       "      <td>-8.8104</td>\n",
       "    </tr>\n",
       "  </tbody>\n",
       "</table>\n",
       "<p>5 rows × 202 columns</p>\n",
       "</div>"
      ],
      "text/plain": [
       "   ID_code  target    var_0   var_1    var_2   var_3    var_4   var_5   var_6  \\\n",
       "0  train_0       0   8.9255 -6.7863  11.9081  5.0930  11.4607 -9.2834  5.1187   \n",
       "1  train_1       0  11.5006 -4.1473  13.8588  5.3890  12.3622  7.0433  5.6208   \n",
       "2  train_2       0   8.6093 -2.7457  12.0805  7.8928  10.5825 -9.0837  6.9427   \n",
       "3  train_3       0  11.0604 -2.1518   8.9522  7.1957  12.5846 -1.8361  5.8428   \n",
       "4  train_4       0   9.8369 -1.4834  12.8746  6.6375  12.2772  2.4486  5.9405   \n",
       "\n",
       "     var_7   ...     var_190  var_191  var_192  var_193  var_194  var_195  \\\n",
       "0  18.6266   ...      4.4354   3.9642   3.1364   1.6910  18.5227  -2.3978   \n",
       "1  16.5338   ...      7.6421   7.7214   2.5837  10.9516  15.4305   2.0339   \n",
       "2  14.6155   ...      2.9057   9.7905   1.6704   1.6858  21.6042   3.1417   \n",
       "3  14.9250   ...      4.4666   4.7433   0.7178   1.4214  23.0347  -1.2706   \n",
       "4  19.2514   ...     -1.4905   9.5214  -0.1508   9.1942  13.2876  -1.5121   \n",
       "\n",
       "   var_196  var_197  var_198  var_199  \n",
       "0   7.8784   8.5635  12.7803  -1.0914  \n",
       "1   8.1267   8.7889  18.3560   1.9518  \n",
       "2  -6.5213   8.2675  14.7222   0.3965  \n",
       "3  -2.9275  10.2922  17.9697  -8.9996  \n",
       "4   3.9267   9.5031  17.9974  -8.8104  \n",
       "\n",
       "[5 rows x 202 columns]"
      ]
     },
     "execution_count": 10,
     "metadata": {},
     "output_type": "execute_result"
    }
   ],
   "source": [
    "train_df.head()"
   ]
  },
  {
   "cell_type": "code",
   "execution_count": 11,
   "metadata": {},
   "outputs": [],
   "source": [
    "train_df_id_droped = train_df[train_df.columns.drop('ID_code')]"
   ]
  },
  {
   "cell_type": "code",
   "execution_count": 12,
   "metadata": {},
   "outputs": [
    {
     "data": {
      "text/plain": [
       "(94672,)"
      ]
     },
     "execution_count": 12,
     "metadata": {},
     "output_type": "execute_result"
    }
   ],
   "source": [
    "train_df['var_0'].unique().shape"
   ]
  },
  {
   "cell_type": "code",
   "execution_count": 13,
   "metadata": {},
   "outputs": [],
   "source": [
    "#train_df.apply(pd.unique, axis=0)"
   ]
  },
  {
   "cell_type": "code",
   "execution_count": 14,
   "metadata": {},
   "outputs": [],
   "source": [
    "uniques_dict = {column_name: train_df_id_droped[column_name].unique() for column_name in train_df_id_droped.columns.drop('target').tolist()}"
   ]
  },
  {
   "cell_type": "code",
   "execution_count": 15,
   "metadata": {},
   "outputs": [],
   "source": [
    "uniques_dict_counts = {column_name: uniques.shape[0] for column_name, uniques in uniques_dict.items()}"
   ]
  },
  {
   "cell_type": "code",
   "execution_count": 16,
   "metadata": {},
   "outputs": [],
   "source": [
    "uniques_counts_series = pd.Series(uniques_dict_counts)"
   ]
  },
  {
   "cell_type": "code",
   "execution_count": 17,
   "metadata": {},
   "outputs": [
    {
     "data": {
      "text/plain": [
       "var_0     94672\n",
       "var_1    108932\n",
       "var_2     86555\n",
       "var_3     74597\n",
       "var_4     63515\n",
       "dtype: int64"
      ]
     },
     "execution_count": 17,
     "metadata": {},
     "output_type": "execute_result"
    }
   ],
   "source": [
    "uniques_counts_series[:5]"
   ]
  },
  {
   "cell_type": "code",
   "execution_count": 18,
   "metadata": {},
   "outputs": [
    {
     "data": {
      "text/plain": [
       "(200,)"
      ]
     },
     "execution_count": 18,
     "metadata": {},
     "output_type": "execute_result"
    }
   ],
   "source": [
    "uniques_counts_series.unique().shape"
   ]
  },
  {
   "cell_type": "code",
   "execution_count": 19,
   "metadata": {},
   "outputs": [
    {
     "data": {
      "text/plain": [
       "169968"
      ]
     },
     "execution_count": 19,
     "metadata": {},
     "output_type": "execute_result"
    }
   ],
   "source": [
    "uniques_counts_series.max()"
   ]
  },
  {
   "cell_type": "code",
   "execution_count": 20,
   "metadata": {},
   "outputs": [
    {
     "data": {
      "text/plain": [
       "451"
      ]
     },
     "execution_count": 20,
     "metadata": {},
     "output_type": "execute_result"
    }
   ],
   "source": [
    "uniques_counts_series.min()"
   ]
  },
  {
   "cell_type": "code",
   "execution_count": 21,
   "metadata": {},
   "outputs": [
    {
     "data": {
      "text/plain": [
       "\"\\nfig = plt.figure(figsize=(24, 18))\\nax = fig.add_subplot(111)\\nax.bar(np.arange(200), uniques_counts_series.values.astype(np.int64))\\n#ax.bar(uniques_counts_series)\\nax.set_title('Features uniques values num')\\nplt.show()\\n\""
      ]
     },
     "execution_count": 21,
     "metadata": {},
     "output_type": "execute_result"
    }
   ],
   "source": [
    "'''\n",
    "fig = plt.figure(figsize=(24, 18))\n",
    "ax = fig.add_subplot(111)\n",
    "ax.bar(np.arange(200), uniques_counts_series.values.astype(np.int64))\n",
    "#ax.bar(uniques_counts_series)\n",
    "ax.set_title('Features uniques values num')\n",
    "plt.show()\n",
    "'''"
   ]
  },
  {
   "cell_type": "code",
   "execution_count": 22,
   "metadata": {},
   "outputs": [
    {
     "name": "stdout",
     "output_type": "stream",
     "text": [
      "all cells execution time: 0.33239564498265584 min\n"
     ]
    }
   ],
   "source": [
    "all_cells_execution_time = time.time() - start_time\n",
    "print(\"all cells execution time: {} min\".format(all_cells_execution_time / 60))"
   ]
  },
  {
   "cell_type": "code",
   "execution_count": 23,
   "metadata": {},
   "outputs": [
    {
     "data": {
      "text/plain": [
       "(200000, 201)"
      ]
     },
     "execution_count": 23,
     "metadata": {},
     "output_type": "execute_result"
    }
   ],
   "source": [
    "train_df_id_droped.shape"
   ]
  },
  {
   "cell_type": "code",
   "execution_count": 24,
   "metadata": {},
   "outputs": [
    {
     "data": {
      "text/plain": [
       "'\\nplt.figure(figsize=(24, 18))\\nplt.title(\"Distributon of unqie values per column in the train dataset\")\\n#sns.distplot(train_df_id_droped[train_df_id_droped.columns.drop(\\'target\\').tolist()].unique(), color=\\'green\\', kde=True, bins=200, label=\"train\")\\nsns.distplot(uniques_counts_series.values.astype(np.int64), color=\\'green\\', kde=True, bins=200, label=\"train\")\\nplt.legend()\\nplt.show()\\n'"
      ]
     },
     "execution_count": 24,
     "metadata": {},
     "output_type": "execute_result"
    }
   ],
   "source": [
    "'''\n",
    "plt.figure(figsize=(24, 18))\n",
    "plt.title(\"Distributon of unqie values per column in the train dataset\")\n",
    "#sns.distplot(train_df_id_droped[train_df_id_droped.columns.drop('target').tolist()].unique(), color='green', kde=True, bins=200, label=\"train\")\n",
    "sns.distplot(uniques_counts_series.values.astype(np.int64), color='green', kde=True, bins=200, label=\"train\")\n",
    "plt.legend()\n",
    "plt.show()\n",
    "'''"
   ]
  },
  {
   "cell_type": "code",
   "execution_count": 25,
   "metadata": {},
   "outputs": [
    {
     "data": {
      "text/plain": [
       "'\\nfeatures = train_df.columns.values[2:202]\\nplt.figure(figsize=(24, 18))\\nplt.title(\"Distribution of mean values per column in the train and test set\")\\nsns.distplot(train_df[features].mean(axis=0), color=\"magenta\", kde=True,bins=120, label=\\'train\\')\\n#sns.distplot(test_df[features].mean(axis=0),color=\"darkblue\", kde=True,bins=120, label=\\'test\\')\\nplt.legend()\\nplt.show()\\n'"
      ]
     },
     "execution_count": 25,
     "metadata": {},
     "output_type": "execute_result"
    }
   ],
   "source": [
    "'''\n",
    "features = train_df.columns.values[2:202]\n",
    "plt.figure(figsize=(24, 18))\n",
    "plt.title(\"Distribution of mean values per column in the train and test set\")\n",
    "sns.distplot(train_df[features].mean(axis=0), color=\"magenta\", kde=True,bins=120, label='train')\n",
    "#sns.distplot(test_df[features].mean(axis=0),color=\"darkblue\", kde=True,bins=120, label='test')\n",
    "plt.legend()\n",
    "plt.show()\n",
    "'''"
   ]
  },
  {
   "cell_type": "code",
   "execution_count": 26,
   "metadata": {},
   "outputs": [
    {
     "data": {
      "text/plain": [
       "'\\nplt.figure(figsize=(24, 18))\\nfeatures = train_df.columns.values[2:202]\\n#plt.title(\"Distribution of mean values per row in the train and test set\")\\nplt.title(\"Distribution of mean values per row in the train set\")\\nsns.distplot(train_df[features].mean(axis=1), color=\"blue\", kde=True, bins=120, label=\\'train\\')\\n#sns.distplot(test_df[features].mean(axis=1),color=\"blue\", kde=True,bins=120, label=\\'test\\')\\nplt.legend()\\nplt.show()\\n'"
      ]
     },
     "execution_count": 26,
     "metadata": {},
     "output_type": "execute_result"
    }
   ],
   "source": [
    "'''\n",
    "plt.figure(figsize=(24, 18))\n",
    "features = train_df.columns.values[2:202]\n",
    "#plt.title(\"Distribution of mean values per row in the train and test set\")\n",
    "plt.title(\"Distribution of mean values per row in the train set\")\n",
    "sns.distplot(train_df[features].mean(axis=1), color=\"blue\", kde=True, bins=120, label='train')\n",
    "#sns.distplot(test_df[features].mean(axis=1),color=\"blue\", kde=True,bins=120, label='test')\n",
    "plt.legend()\n",
    "plt.show()\n",
    "'''"
   ]
  },
  {
   "cell_type": "code",
   "execution_count": 27,
   "metadata": {},
   "outputs": [],
   "source": [
    "features = [c for c in train_df.columns if c not in ['ID_code', 'target']]\n",
    "target = train_df['target']"
   ]
  },
  {
   "cell_type": "code",
   "execution_count": 28,
   "metadata": {},
   "outputs": [],
   "source": [
    "param = {\n",
    "    'bagging_freq': 5,\n",
    "    'bagging_fraction': 0.4,\n",
    "    'boost_from_average':'false',\n",
    "    'boost': 'gbdt',\n",
    "    'feature_fraction': 0.05,\n",
    "    'learning_rate': 0.01,\n",
    "    'max_depth': -1,  \n",
    "    'metric':'auc',\n",
    "    'min_data_in_leaf': 80,\n",
    "    'min_sum_hessian_in_leaf': 10.0,\n",
    "    'num_leaves': 13,\n",
    "    'num_threads': 8,\n",
    "    'tree_learner': 'serial',\n",
    "    'objective': 'binary', \n",
    "    'verbosity': 1\n",
    "}"
   ]
  },
  {
   "cell_type": "code",
   "execution_count": 29,
   "metadata": {},
   "outputs": [
    {
     "data": {
      "text/plain": [
       "'\\nfolds = StratifiedKFold(n_splits=10, shuffle=False, random_state=44000)\\noof = np.zeros(len(train_df))\\npredictions = np.zeros(len(test_df))\\nfeature_importance_df = pd.DataFrame()\\nfor fold_, (trn_idx, val_idx) in enumerate(folds.split(train_df.values, target.values)):\\n    print(\"Fold {}\".format(fold_))\\n    trn_data = lgb.Dataset(train_df.iloc[trn_idx][features], label=target.iloc[trn_idx])\\n    val_data = lgb.Dataset(train_df.iloc[val_idx][features], label=target.iloc[val_idx])\\n    num_round = 1000000\\n    clf = lgb.train(param, trn_data, num_round, valid_sets=[trn_data, val_data], verbose_eval=1000, early_stopping_rounds=3000)\\n    oof[val_idx] = clf.predict(train_df.iloc[val_idx][features], num_iteration=clf.best_iteration)\\n    fold_importance_df = pd.DataFrame()\\n    fold_importance_df[\\'Feature\\'] = features\\n    fold_importance_df[\\'importance\\'] = clf.feature_importance()\\n    fold_importance_df[\\'fold\\'] = fold_ + 1\\n    feature_importance_df = pd.concat([feature_importance_df, fold_importance_df], axis=0)\\n    predictions += clf.predict(test_df[features], num_iteration=clf.best_iteration) / folds.n_splits\\nprint(\"CV score: {:<8.5f}\".format(roc_auc_score(target, oof)))\\n'"
      ]
     },
     "execution_count": 29,
     "metadata": {},
     "output_type": "execute_result"
    }
   ],
   "source": [
    "'''\n",
    "folds = StratifiedKFold(n_splits=10, shuffle=False, random_state=44000)\n",
    "oof = np.zeros(len(train_df))\n",
    "predictions = np.zeros(len(test_df))\n",
    "feature_importance_df = pd.DataFrame()\n",
    "for fold_, (trn_idx, val_idx) in enumerate(folds.split(train_df.values, target.values)):\n",
    "    print(\"Fold {}\".format(fold_))\n",
    "    trn_data = lgb.Dataset(train_df.iloc[trn_idx][features], label=target.iloc[trn_idx])\n",
    "    val_data = lgb.Dataset(train_df.iloc[val_idx][features], label=target.iloc[val_idx])\n",
    "    num_round = 1000000\n",
    "    clf = lgb.train(param, trn_data, num_round, valid_sets=[trn_data, val_data], verbose_eval=1000, early_stopping_rounds=3000)\n",
    "    oof[val_idx] = clf.predict(train_df.iloc[val_idx][features], num_iteration=clf.best_iteration)\n",
    "    fold_importance_df = pd.DataFrame()\n",
    "    fold_importance_df['Feature'] = features\n",
    "    fold_importance_df['importance'] = clf.feature_importance()\n",
    "    fold_importance_df['fold'] = fold_ + 1\n",
    "    feature_importance_df = pd.concat([feature_importance_df, fold_importance_df], axis=0)\n",
    "    predictions += clf.predict(test_df[features], num_iteration=clf.best_iteration) / folds.n_splits\n",
    "print(\"CV score: {:<8.5f}\".format(roc_auc_score(target, oof)))\n",
    "'''"
   ]
  },
  {
   "cell_type": "code",
   "execution_count": 30,
   "metadata": {},
   "outputs": [
    {
     "data": {
      "text/plain": [
       "'\\ncols = (feature_importance_df[[\"Feature\", \"importance\"]]\\n        .groupby(\"Feature\")\\n        .mean()\\n        .sort_values(by=\"importance\", ascending=False)[:150].index)\\nbest_features = feature_importance_df.loc[feature_importance_df.Feature.isin(cols)]\\n\\nplt.figure(figsize=(14,28))\\nsns.barplot(x=\"importance\", y=\"Feature\", data=best_features.sort_values(by=\"importance\",ascending=False))\\nplt.title(\\'Features importance (averaged/folds)\\')\\nplt.tight_layout()\\nplt.savefig(\\'FI.png\\')\\n'"
      ]
     },
     "execution_count": 30,
     "metadata": {},
     "output_type": "execute_result"
    }
   ],
   "source": [
    "'''\n",
    "cols = (feature_importance_df[[\"Feature\", \"importance\"]]\n",
    "        .groupby(\"Feature\")\n",
    "        .mean()\n",
    "        .sort_values(by=\"importance\", ascending=False)[:150].index)\n",
    "best_features = feature_importance_df.loc[feature_importance_df.Feature.isin(cols)]\n",
    "\n",
    "plt.figure(figsize=(14,28))\n",
    "sns.barplot(x=\"importance\", y=\"Feature\", data=best_features.sort_values(by=\"importance\",ascending=False))\n",
    "plt.title('Features importance (averaged/folds)')\n",
    "plt.tight_layout()\n",
    "plt.savefig('FI.png')\n",
    "'''"
   ]
  },
  {
   "cell_type": "code",
   "execution_count": 31,
   "metadata": {},
   "outputs": [],
   "source": [
    "min_max_scaler = MinMaxScaler()"
   ]
  },
  {
   "cell_type": "code",
   "execution_count": 32,
   "metadata": {},
   "outputs": [],
   "source": [
    "train_df_rows_count = train_df.shape[0]"
   ]
  },
  {
   "cell_type": "code",
   "execution_count": 33,
   "metadata": {},
   "outputs": [
    {
     "data": {
      "text/plain": [
       "200000"
      ]
     },
     "execution_count": 33,
     "metadata": {},
     "output_type": "execute_result"
    }
   ],
   "source": [
    "train_df_rows_count"
   ]
  },
  {
   "cell_type": "code",
   "execution_count": 34,
   "metadata": {},
   "outputs": [],
   "source": [
    "uniques_count_more_1_2 = uniques_counts_series[uniques_counts_series > train_df_rows_count / 2]"
   ]
  },
  {
   "cell_type": "code",
   "execution_count": 35,
   "metadata": {},
   "outputs": [
    {
     "data": {
      "text/plain": [
       "(110,)"
      ]
     },
     "execution_count": 35,
     "metadata": {},
     "output_type": "execute_result"
    }
   ],
   "source": [
    "uniques_count_more_1_2.shape"
   ]
  },
  {
   "cell_type": "code",
   "execution_count": 36,
   "metadata": {},
   "outputs": [],
   "source": [
    "uniques_count_more_1_4_less_1_2 = uniques_counts_series[uniques_counts_series < train_df_rows_count / 2]"
   ]
  },
  {
   "cell_type": "code",
   "execution_count": 37,
   "metadata": {},
   "outputs": [],
   "source": [
    "#uniques_count_less_1_2_more_1_4 = uniques_counts_series[\n",
    "#    ((uniques_counts_series < train_df_rows_count / 2).bool() and (uniques_counts_series > train_df_rows_count / 4).bool()).bool()\n",
    "#]"
   ]
  },
  {
   "cell_type": "code",
   "execution_count": 38,
   "metadata": {},
   "outputs": [],
   "source": [
    "uniques_count_less_1_2_more_1_4 = uniques_count_more_1_4_less_1_2[uniques_count_more_1_4_less_1_2 > train_df_rows_count / 4]"
   ]
  },
  {
   "cell_type": "code",
   "execution_count": 39,
   "metadata": {},
   "outputs": [
    {
     "data": {
      "text/plain": [
       "(90,)"
      ]
     },
     "execution_count": 39,
     "metadata": {},
     "output_type": "execute_result"
    }
   ],
   "source": [
    "uniques_count_more_1_4_less_1_2.shape"
   ]
  },
  {
   "cell_type": "code",
   "execution_count": 40,
   "metadata": {},
   "outputs": [],
   "source": [
    "uniques_count_less_1_4 = uniques_counts_series[uniques_counts_series < train_df_rows_count / 4]"
   ]
  },
  {
   "cell_type": "code",
   "execution_count": 41,
   "metadata": {},
   "outputs": [
    {
     "data": {
      "text/plain": [
       "(39,)"
      ]
     },
     "execution_count": 41,
     "metadata": {},
     "output_type": "execute_result"
    }
   ],
   "source": [
    "uniques_count_less_1_4.shape"
   ]
  },
  {
   "cell_type": "code",
   "execution_count": 42,
   "metadata": {},
   "outputs": [
    {
     "data": {
      "text/plain": [
       "var_6     38599\n",
       "var_9     49417\n",
       "var_12     9561\n",
       "var_15    19810\n",
       "var_23    24913\n",
       "dtype: int64"
      ]
     },
     "execution_count": 42,
     "metadata": {},
     "output_type": "execute_result"
    }
   ],
   "source": [
    "uniques_count_less_1_4.head()"
   ]
  },
  {
   "cell_type": "code",
   "execution_count": 43,
   "metadata": {},
   "outputs": [],
   "source": [
    "#uniques_count_less_1_4.index.tolist()"
   ]
  },
  {
   "cell_type": "code",
   "execution_count": 44,
   "metadata": {},
   "outputs": [],
   "source": [
    "def train(train_df, test_df, target, features, param, num_round=1000000):\n",
    "    start_time = time.time()\n",
    "    folds = StratifiedKFold(n_splits=10, shuffle=False, random_state=44000)\n",
    "    oof = np.zeros(len(train_df))\n",
    "    predictions = np.zeros(len(test_df))\n",
    "    feature_importance_df = pd.DataFrame()\n",
    "    lgb_classifier = None\n",
    "    for fold_, (trn_idx, val_idx) in enumerate(folds.split(train_df.values, target.values)):\n",
    "        print(\"Fold {}\".format(fold_))\n",
    "        trn_data = lgb.Dataset(train_df.iloc[trn_idx][features], label=target.iloc[trn_idx])\n",
    "        val_data = lgb.Dataset(train_df.iloc[val_idx][features], label=target.iloc[val_idx])\n",
    "        num_round = num_round\n",
    "        clf = lgb.train(\n",
    "            param,\n",
    "            trn_data,\n",
    "            num_round,\n",
    "            valid_sets=[trn_data, val_data],\n",
    "            verbose_eval=1000,\n",
    "            early_stopping_rounds=3000\n",
    "        )\n",
    "        lgb_classifier = clf\n",
    "        oof[val_idx] = clf.predict(train_df.iloc[val_idx][features], num_iteration=clf.best_iteration)\n",
    "        fold_importance_df = pd.DataFrame()\n",
    "        fold_importance_df['Feature'] = features\n",
    "        fold_importance_df['importance'] = clf.feature_importance()\n",
    "        fold_importance_df['fold'] = fold_ + 1\n",
    "        feature_importance_df = pd.concat([feature_importance_df, fold_importance_df], axis=0)\n",
    "        predictions += clf.predict(test_df[features], num_iteration=clf.best_iteration) / folds.n_splits\n",
    "    print(\"Total run time {} min:\".format((time.time() - start_time) / 60))\n",
    "    print(\"CV score: {:<8.5f}\".format(roc_auc_score(target, oof)))\n",
    "    return oof, predictions, feature_importance_df, clf"
   ]
  },
  {
   "cell_type": "code",
   "execution_count": 97,
   "metadata": {},
   "outputs": [
    {
     "name": "stdout",
     "output_type": "stream",
     "text": [
      "Fold 0\n",
      "Training until validation scores don't improve for 3000 rounds.\n",
      "[1000]\ttraining's auc: 0.836449\tvalid_1's auc: 0.819362\n",
      "[2000]\ttraining's auc: 0.845447\tvalid_1's auc: 0.823533\n",
      "[3000]\ttraining's auc: 0.852066\tvalid_1's auc: 0.82583\n",
      "[4000]\ttraining's auc: 0.858253\tvalid_1's auc: 0.826207\n",
      "[5000]\ttraining's auc: 0.864232\tvalid_1's auc: 0.826657\n",
      "[6000]\ttraining's auc: 0.869822\tvalid_1's auc: 0.826773\n",
      "[7000]\ttraining's auc: 0.875256\tvalid_1's auc: 0.826797\n",
      "[8000]\ttraining's auc: 0.880766\tvalid_1's auc: 0.826868\n",
      "[9000]\ttraining's auc: 0.886046\tvalid_1's auc: 0.826551\n",
      "[10000]\ttraining's auc: 0.89129\tvalid_1's auc: 0.826084\n",
      "Early stopping, best iteration is:\n",
      "[7789]\ttraining's auc: 0.879598\tvalid_1's auc: 0.826957\n",
      "Fold 1\n",
      "Training until validation scores don't improve for 3000 rounds.\n",
      "[1000]\ttraining's auc: 0.837076\tvalid_1's auc: 0.81285\n",
      "[2000]\ttraining's auc: 0.845801\tvalid_1's auc: 0.817226\n",
      "[3000]\ttraining's auc: 0.852524\tvalid_1's auc: 0.819153\n",
      "[4000]\ttraining's auc: 0.858646\tvalid_1's auc: 0.820293\n",
      "[5000]\ttraining's auc: 0.86449\tvalid_1's auc: 0.820602\n",
      "[6000]\ttraining's auc: 0.870205\tvalid_1's auc: 0.820765\n",
      "[7000]\ttraining's auc: 0.875586\tvalid_1's auc: 0.821063\n",
      "[8000]\ttraining's auc: 0.881104\tvalid_1's auc: 0.820872\n",
      "[9000]\ttraining's auc: 0.886385\tvalid_1's auc: 0.82061\n",
      "[10000]\ttraining's auc: 0.89155\tvalid_1's auc: 0.820347\n",
      "Early stopping, best iteration is:\n",
      "[7150]\ttraining's auc: 0.876402\tvalid_1's auc: 0.821213\n",
      "Fold 2\n",
      "Training until validation scores don't improve for 3000 rounds.\n",
      "[1000]\ttraining's auc: 0.838141\tvalid_1's auc: 0.807929\n",
      "[2000]\ttraining's auc: 0.846529\tvalid_1's auc: 0.811863\n",
      "[3000]\ttraining's auc: 0.853191\tvalid_1's auc: 0.813311\n",
      "[4000]\ttraining's auc: 0.859342\tvalid_1's auc: 0.814044\n",
      "[5000]\ttraining's auc: 0.865203\tvalid_1's auc: 0.814173\n",
      "[6000]\ttraining's auc: 0.870852\tvalid_1's auc: 0.813993\n",
      "[7000]\ttraining's auc: 0.876352\tvalid_1's auc: 0.813619\n",
      "[8000]\ttraining's auc: 0.881739\tvalid_1's auc: 0.813524\n",
      "Early stopping, best iteration is:\n",
      "[5294]\ttraining's auc: 0.866862\tvalid_1's auc: 0.814361\n",
      "Fold 3\n",
      "Training until validation scores don't improve for 3000 rounds.\n",
      "[1000]\ttraining's auc: 0.83737\tvalid_1's auc: 0.814511\n",
      "[2000]\ttraining's auc: 0.84593\tvalid_1's auc: 0.818681\n",
      "[3000]\ttraining's auc: 0.852735\tvalid_1's auc: 0.820327\n",
      "[4000]\ttraining's auc: 0.858933\tvalid_1's auc: 0.821008\n",
      "[5000]\ttraining's auc: 0.864774\tvalid_1's auc: 0.821135\n",
      "[6000]\ttraining's auc: 0.870494\tvalid_1's auc: 0.82112\n",
      "[7000]\ttraining's auc: 0.875947\tvalid_1's auc: 0.821159\n",
      "[8000]\ttraining's auc: 0.881307\tvalid_1's auc: 0.820649\n",
      "[9000]\ttraining's auc: 0.886576\tvalid_1's auc: 0.820463\n",
      "Early stopping, best iteration is:\n",
      "[6494]\ttraining's auc: 0.873253\tvalid_1's auc: 0.821365\n",
      "Fold 4\n",
      "Training until validation scores don't improve for 3000 rounds.\n",
      "[1000]\ttraining's auc: 0.837201\tvalid_1's auc: 0.815883\n",
      "[2000]\ttraining's auc: 0.845801\tvalid_1's auc: 0.818807\n",
      "[3000]\ttraining's auc: 0.852523\tvalid_1's auc: 0.82041\n",
      "[4000]\ttraining's auc: 0.858805\tvalid_1's auc: 0.820887\n",
      "[5000]\ttraining's auc: 0.864648\tvalid_1's auc: 0.820858\n",
      "[6000]\ttraining's auc: 0.870328\tvalid_1's auc: 0.820962\n",
      "[7000]\ttraining's auc: 0.875798\tvalid_1's auc: 0.820743\n",
      "Early stopping, best iteration is:\n",
      "[4169]\ttraining's auc: 0.859817\tvalid_1's auc: 0.821108\n",
      "Fold 5\n",
      "Training until validation scores don't improve for 3000 rounds.\n",
      "[1000]\ttraining's auc: 0.836614\tvalid_1's auc: 0.816979\n",
      "[2000]\ttraining's auc: 0.845298\tvalid_1's auc: 0.8223\n",
      "[3000]\ttraining's auc: 0.852074\tvalid_1's auc: 0.823567\n",
      "[4000]\ttraining's auc: 0.85838\tvalid_1's auc: 0.824654\n",
      "[5000]\ttraining's auc: 0.864291\tvalid_1's auc: 0.825168\n",
      "[6000]\ttraining's auc: 0.870026\tvalid_1's auc: 0.825245\n",
      "[7000]\ttraining's auc: 0.875607\tvalid_1's auc: 0.824881\n",
      "[8000]\ttraining's auc: 0.880936\tvalid_1's auc: 0.824322\n",
      "Early stopping, best iteration is:\n",
      "[5646]\ttraining's auc: 0.868012\tvalid_1's auc: 0.825416\n",
      "Fold 6\n",
      "Training until validation scores don't improve for 3000 rounds.\n",
      "[1000]\ttraining's auc: 0.837153\tvalid_1's auc: 0.816308\n",
      "[2000]\ttraining's auc: 0.845773\tvalid_1's auc: 0.819828\n",
      "[3000]\ttraining's auc: 0.852615\tvalid_1's auc: 0.821906\n",
      "[4000]\ttraining's auc: 0.858637\tvalid_1's auc: 0.822926\n",
      "[5000]\ttraining's auc: 0.8646\tvalid_1's auc: 0.82323\n",
      "[6000]\ttraining's auc: 0.87036\tvalid_1's auc: 0.823403\n",
      "[7000]\ttraining's auc: 0.875825\tvalid_1's auc: 0.823228\n",
      "[8000]\ttraining's auc: 0.881214\tvalid_1's auc: 0.823043\n",
      "Early stopping, best iteration is:\n",
      "[5996]\ttraining's auc: 0.870341\tvalid_1's auc: 0.823436\n",
      "Fold 7\n",
      "Training until validation scores don't improve for 3000 rounds.\n",
      "[1000]\ttraining's auc: 0.837297\tvalid_1's auc: 0.814775\n",
      "[2000]\ttraining's auc: 0.845852\tvalid_1's auc: 0.818869\n",
      "[3000]\ttraining's auc: 0.852618\tvalid_1's auc: 0.820686\n",
      "[4000]\ttraining's auc: 0.858746\tvalid_1's auc: 0.820824\n",
      "[5000]\ttraining's auc: 0.864679\tvalid_1's auc: 0.82129\n",
      "[6000]\ttraining's auc: 0.870403\tvalid_1's auc: 0.821242\n",
      "[7000]\ttraining's auc: 0.875887\tvalid_1's auc: 0.821146\n",
      "[8000]\ttraining's auc: 0.881266\tvalid_1's auc: 0.821139\n",
      "Early stopping, best iteration is:\n",
      "[5110]\ttraining's auc: 0.865289\tvalid_1's auc: 0.821403\n",
      "Fold 8\n",
      "Training until validation scores don't improve for 3000 rounds.\n",
      "[1000]\ttraining's auc: 0.837407\tvalid_1's auc: 0.818679\n",
      "[2000]\ttraining's auc: 0.845927\tvalid_1's auc: 0.822556\n",
      "[3000]\ttraining's auc: 0.852328\tvalid_1's auc: 0.823827\n",
      "[4000]\ttraining's auc: 0.858727\tvalid_1's auc: 0.824384\n",
      "[5000]\ttraining's auc: 0.864571\tvalid_1's auc: 0.824331\n",
      "[6000]\ttraining's auc: 0.870117\tvalid_1's auc: 0.824362\n",
      "[7000]\ttraining's auc: 0.875658\tvalid_1's auc: 0.824355\n",
      "Early stopping, best iteration is:\n",
      "[4415]\ttraining's auc: 0.861206\tvalid_1's auc: 0.824684\n",
      "Fold 9\n",
      "Training until validation scores don't improve for 3000 rounds.\n",
      "[1000]\ttraining's auc: 0.837504\tvalid_1's auc: 0.81507\n",
      "[2000]\ttraining's auc: 0.846349\tvalid_1's auc: 0.818156\n",
      "[3000]\ttraining's auc: 0.852866\tvalid_1's auc: 0.819337\n",
      "[4000]\ttraining's auc: 0.859122\tvalid_1's auc: 0.819734\n",
      "[5000]\ttraining's auc: 0.864944\tvalid_1's auc: 0.820142\n",
      "[6000]\ttraining's auc: 0.870478\tvalid_1's auc: 0.819976\n",
      "[7000]\ttraining's auc: 0.876074\tvalid_1's auc: 0.819546\n",
      "[8000]\ttraining's auc: 0.881559\tvalid_1's auc: 0.819124\n",
      "Early stopping, best iteration is:\n",
      "[5267]\ttraining's auc: 0.866477\tvalid_1's auc: 0.820232\n",
      "Total run time 18.519540925820667 min:\n",
      "CV score: 0.82181 \n"
     ]
    }
   ],
   "source": [
    "train_results_more_1_2 = train(train_df, test_df, target, uniques_count_more_1_2.index.tolist(), param)"
   ]
  },
  {
   "cell_type": "code",
   "execution_count": 126,
   "metadata": {},
   "outputs": [
    {
     "name": "stdout",
     "output_type": "stream",
     "text": [
      "Fold 0\n",
      "Training until validation scores don't improve for 3000 rounds.\n",
      "[1000]\ttraining's auc: 0.772379\tvalid_1's auc: 0.741305\n",
      "[2000]\ttraining's auc: 0.778907\tvalid_1's auc: 0.742285\n",
      "[3000]\ttraining's auc: 0.78477\tvalid_1's auc: 0.742419\n",
      "[4000]\ttraining's auc: 0.790565\tvalid_1's auc: 0.742499\n",
      "[5000]\ttraining's auc: 0.796234\tvalid_1's auc: 0.742592\n",
      "Early stopping, best iteration is:\n",
      "[2500]\ttraining's auc: 0.782039\tvalid_1's auc: 0.742856\n",
      "Fold 1\n",
      "Training until validation scores don't improve for 3000 rounds.\n",
      "[1000]\ttraining's auc: 0.771593\tvalid_1's auc: 0.748627\n",
      "[2000]\ttraining's auc: 0.778487\tvalid_1's auc: 0.749908\n",
      "[3000]\ttraining's auc: 0.784376\tvalid_1's auc: 0.749326\n",
      "[4000]\ttraining's auc: 0.790141\tvalid_1's auc: 0.74907\n",
      "[5000]\ttraining's auc: 0.795899\tvalid_1's auc: 0.749057\n",
      "Early stopping, best iteration is:\n",
      "[2227]\ttraining's auc: 0.779966\tvalid_1's auc: 0.750254\n",
      "Fold 2\n",
      "Training until validation scores don't improve for 3000 rounds.\n",
      "[1000]\ttraining's auc: 0.772997\tvalid_1's auc: 0.737963\n",
      "[2000]\ttraining's auc: 0.779626\tvalid_1's auc: 0.739392\n",
      "[3000]\ttraining's auc: 0.785579\tvalid_1's auc: 0.73971\n",
      "[4000]\ttraining's auc: 0.791248\tvalid_1's auc: 0.73936\n",
      "[5000]\ttraining's auc: 0.796893\tvalid_1's auc: 0.739274\n",
      "[6000]\ttraining's auc: 0.80269\tvalid_1's auc: 0.739035\n",
      "Early stopping, best iteration is:\n",
      "[3161]\ttraining's auc: 0.786431\tvalid_1's auc: 0.739781\n",
      "Fold 3\n",
      "Training until validation scores don't improve for 3000 rounds.\n",
      "[1000]\ttraining's auc: 0.771872\tvalid_1's auc: 0.747499\n",
      "[2000]\ttraining's auc: 0.778401\tvalid_1's auc: 0.748093\n",
      "[3000]\ttraining's auc: 0.784342\tvalid_1's auc: 0.74764\n",
      "[4000]\ttraining's auc: 0.790019\tvalid_1's auc: 0.74776\n",
      "Early stopping, best iteration is:\n",
      "[1744]\ttraining's auc: 0.776637\tvalid_1's auc: 0.748236\n",
      "Fold 4\n",
      "Training until validation scores don't improve for 3000 rounds.\n",
      "[1000]\ttraining's auc: 0.771952\tvalid_1's auc: 0.74676\n",
      "[2000]\ttraining's auc: 0.778441\tvalid_1's auc: 0.748555\n",
      "[3000]\ttraining's auc: 0.784194\tvalid_1's auc: 0.749124\n",
      "[4000]\ttraining's auc: 0.790029\tvalid_1's auc: 0.749077\n",
      "[5000]\ttraining's auc: 0.795629\tvalid_1's auc: 0.749408\n",
      "[6000]\ttraining's auc: 0.801543\tvalid_1's auc: 0.749246\n",
      "[7000]\ttraining's auc: 0.807335\tvalid_1's auc: 0.74886\n",
      "[8000]\ttraining's auc: 0.812987\tvalid_1's auc: 0.748721\n",
      "Early stopping, best iteration is:\n",
      "[5634]\ttraining's auc: 0.799409\tvalid_1's auc: 0.749554\n",
      "Fold 5\n",
      "Training until validation scores don't improve for 3000 rounds.\n",
      "[1000]\ttraining's auc: 0.771907\tvalid_1's auc: 0.748371\n",
      "[2000]\ttraining's auc: 0.778453\tvalid_1's auc: 0.749848\n",
      "[3000]\ttraining's auc: 0.784327\tvalid_1's auc: 0.749354\n",
      "[4000]\ttraining's auc: 0.790126\tvalid_1's auc: 0.748775\n",
      "Early stopping, best iteration is:\n",
      "[1722]\ttraining's auc: 0.776629\tvalid_1's auc: 0.750204\n",
      "Fold 6\n",
      "Training until validation scores don't improve for 3000 rounds.\n",
      "[1000]\ttraining's auc: 0.772484\tvalid_1's auc: 0.741211\n",
      "[2000]\ttraining's auc: 0.778999\tvalid_1's auc: 0.74236\n",
      "[3000]\ttraining's auc: 0.784811\tvalid_1's auc: 0.742919\n",
      "[4000]\ttraining's auc: 0.790679\tvalid_1's auc: 0.742781\n",
      "[5000]\ttraining's auc: 0.796364\tvalid_1's auc: 0.74281\n",
      "[6000]\ttraining's auc: 0.802233\tvalid_1's auc: 0.74233\n",
      "Early stopping, best iteration is:\n",
      "[3573]\ttraining's auc: 0.788257\tvalid_1's auc: 0.743142\n",
      "Fold 7\n",
      "Training until validation scores don't improve for 3000 rounds.\n",
      "[1000]\ttraining's auc: 0.772164\tvalid_1's auc: 0.74432\n",
      "[2000]\ttraining's auc: 0.77872\tvalid_1's auc: 0.744878\n",
      "[3000]\ttraining's auc: 0.784661\tvalid_1's auc: 0.744347\n",
      "[4000]\ttraining's auc: 0.790484\tvalid_1's auc: 0.743797\n",
      "Early stopping, best iteration is:\n",
      "[1746]\ttraining's auc: 0.777203\tvalid_1's auc: 0.745094\n",
      "Fold 8\n",
      "Training until validation scores don't improve for 3000 rounds.\n",
      "[1000]\ttraining's auc: 0.771936\tvalid_1's auc: 0.750562\n",
      "[2000]\ttraining's auc: 0.778404\tvalid_1's auc: 0.7509\n",
      "[3000]\ttraining's auc: 0.784202\tvalid_1's auc: 0.751218\n",
      "[4000]\ttraining's auc: 0.789994\tvalid_1's auc: 0.750821\n",
      "[5000]\ttraining's auc: 0.795768\tvalid_1's auc: 0.750642\n",
      "[6000]\ttraining's auc: 0.801562\tvalid_1's auc: 0.749857\n",
      "Early stopping, best iteration is:\n",
      "[3051]\ttraining's auc: 0.784434\tvalid_1's auc: 0.751275\n",
      "Fold 9\n",
      "Training until validation scores don't improve for 3000 rounds.\n",
      "[1000]\ttraining's auc: 0.772258\tvalid_1's auc: 0.747536\n",
      "[2000]\ttraining's auc: 0.778676\tvalid_1's auc: 0.748527\n",
      "[3000]\ttraining's auc: 0.78447\tvalid_1's auc: 0.748814\n",
      "[4000]\ttraining's auc: 0.79024\tvalid_1's auc: 0.74886\n",
      "[5000]\ttraining's auc: 0.795989\tvalid_1's auc: 0.748595\n",
      "Early stopping, best iteration is:\n",
      "[2636]\ttraining's auc: 0.782482\tvalid_1's auc: 0.749035\n",
      "Total run time 11.460956879456837 min:\n",
      "CV score: 0.74490 \n"
     ]
    }
   ],
   "source": [
    "train_results_less_1_2_more_1_4 = train(train_df, test_df, target, uniques_count_less_1_2_more_1_4.index.tolist(), param)"
   ]
  },
  {
   "cell_type": "code",
   "execution_count": 161,
   "metadata": {},
   "outputs": [
    {
     "name": "stdout",
     "output_type": "stream",
     "text": [
      "Fold 0\n",
      "Training until validation scores don't improve for 3000 rounds.\n",
      "[1000]\ttraining's auc: 0.744883\tvalid_1's auc: 0.710591\n",
      "[2000]\ttraining's auc: 0.750561\tvalid_1's auc: 0.712807\n",
      "[3000]\ttraining's auc: 0.753888\tvalid_1's auc: 0.713001\n",
      "[4000]\ttraining's auc: 0.75647\tvalid_1's auc: 0.712625\n",
      "Early stopping, best iteration is:\n",
      "[1837]\ttraining's auc: 0.750068\tvalid_1's auc: 0.713563\n",
      "Fold 1\n",
      "Training until validation scores don't improve for 3000 rounds.\n",
      "[1000]\ttraining's auc: 0.744471\tvalid_1's auc: 0.712185\n",
      "[2000]\ttraining's auc: 0.749998\tvalid_1's auc: 0.715383\n",
      "[3000]\ttraining's auc: 0.75323\tvalid_1's auc: 0.716157\n",
      "[4000]\ttraining's auc: 0.755847\tvalid_1's auc: 0.715947\n",
      "[5000]\ttraining's auc: 0.758416\tvalid_1's auc: 0.715308\n",
      "[6000]\ttraining's auc: 0.760556\tvalid_1's auc: 0.714514\n",
      "Early stopping, best iteration is:\n",
      "[3082]\ttraining's auc: 0.753392\tvalid_1's auc: 0.71638\n",
      "Fold 2\n",
      "Training until validation scores don't improve for 3000 rounds.\n",
      "[1000]\ttraining's auc: 0.744833\tvalid_1's auc: 0.71363\n",
      "[2000]\ttraining's auc: 0.750203\tvalid_1's auc: 0.715187\n",
      "[3000]\ttraining's auc: 0.753513\tvalid_1's auc: 0.715357\n",
      "[4000]\ttraining's auc: 0.756268\tvalid_1's auc: 0.714718\n",
      "Early stopping, best iteration is:\n",
      "[1803]\ttraining's auc: 0.749507\tvalid_1's auc: 0.716002\n",
      "Fold 3\n",
      "Training until validation scores don't improve for 3000 rounds.\n",
      "[1000]\ttraining's auc: 0.745151\tvalid_1's auc: 0.714864\n",
      "[2000]\ttraining's auc: 0.750299\tvalid_1's auc: 0.716888\n",
      "[3000]\ttraining's auc: 0.753618\tvalid_1's auc: 0.71749\n",
      "[4000]\ttraining's auc: 0.756363\tvalid_1's auc: 0.716579\n",
      "[5000]\ttraining's auc: 0.758952\tvalid_1's auc: 0.715651\n",
      "[6000]\ttraining's auc: 0.76138\tvalid_1's auc: 0.714836\n",
      "Early stopping, best iteration is:\n",
      "[3251]\ttraining's auc: 0.754277\tvalid_1's auc: 0.717792\n",
      "Fold 4\n",
      "Training until validation scores don't improve for 3000 rounds.\n",
      "[1000]\ttraining's auc: 0.744609\tvalid_1's auc: 0.719996\n",
      "[2000]\ttraining's auc: 0.749666\tvalid_1's auc: 0.720711\n",
      "[3000]\ttraining's auc: 0.752933\tvalid_1's auc: 0.720733\n",
      "[4000]\ttraining's auc: 0.755554\tvalid_1's auc: 0.720477\n",
      "Early stopping, best iteration is:\n",
      "[1618]\ttraining's auc: 0.748468\tvalid_1's auc: 0.721845\n",
      "Fold 5\n",
      "Training until validation scores don't improve for 3000 rounds.\n",
      "[1000]\ttraining's auc: 0.744326\tvalid_1's auc: 0.719381\n",
      "[2000]\ttraining's auc: 0.749394\tvalid_1's auc: 0.721236\n",
      "[3000]\ttraining's auc: 0.752783\tvalid_1's auc: 0.72188\n",
      "[4000]\ttraining's auc: 0.755488\tvalid_1's auc: 0.721261\n",
      "[5000]\ttraining's auc: 0.758121\tvalid_1's auc: 0.720766\n",
      "Early stopping, best iteration is:\n",
      "[2191]\ttraining's auc: 0.750008\tvalid_1's auc: 0.722064\n",
      "Fold 6\n",
      "Training until validation scores don't improve for 3000 rounds.\n",
      "[1000]\ttraining's auc: 0.745271\tvalid_1's auc: 0.714455\n",
      "[2000]\ttraining's auc: 0.75028\tvalid_1's auc: 0.716878\n",
      "[3000]\ttraining's auc: 0.75365\tvalid_1's auc: 0.717483\n",
      "[4000]\ttraining's auc: 0.756258\tvalid_1's auc: 0.716911\n",
      "[5000]\ttraining's auc: 0.758948\tvalid_1's auc: 0.716131\n",
      "Early stopping, best iteration is:\n",
      "[2513]\ttraining's auc: 0.751983\tvalid_1's auc: 0.717691\n",
      "Fold 7\n",
      "Training until validation scores don't improve for 3000 rounds.\n",
      "[1000]\ttraining's auc: 0.744869\tvalid_1's auc: 0.71634\n",
      "[2000]\ttraining's auc: 0.749753\tvalid_1's auc: 0.717663\n",
      "[3000]\ttraining's auc: 0.752987\tvalid_1's auc: 0.716878\n",
      "[4000]\ttraining's auc: 0.755709\tvalid_1's auc: 0.716438\n",
      "[5000]\ttraining's auc: 0.758333\tvalid_1's auc: 0.71611\n",
      "Early stopping, best iteration is:\n",
      "[2025]\ttraining's auc: 0.749834\tvalid_1's auc: 0.71783\n",
      "Fold 8\n",
      "Training until validation scores don't improve for 3000 rounds.\n",
      "[1000]\ttraining's auc: 0.744513\tvalid_1's auc: 0.721857\n",
      "[2000]\ttraining's auc: 0.750086\tvalid_1's auc: 0.723495\n",
      "[3000]\ttraining's auc: 0.753296\tvalid_1's auc: 0.722767\n",
      "[4000]\ttraining's auc: 0.755936\tvalid_1's auc: 0.721734\n",
      "[5000]\ttraining's auc: 0.758412\tvalid_1's auc: 0.720454\n",
      "Early stopping, best iteration is:\n",
      "[2360]\ttraining's auc: 0.751117\tvalid_1's auc: 0.723748\n",
      "Fold 9\n",
      "Training until validation scores don't improve for 3000 rounds.\n",
      "[1000]\ttraining's auc: 0.744753\tvalid_1's auc: 0.714829\n",
      "[2000]\ttraining's auc: 0.750212\tvalid_1's auc: 0.717169\n",
      "[3000]\ttraining's auc: 0.753564\tvalid_1's auc: 0.717526\n",
      "[4000]\ttraining's auc: 0.756157\tvalid_1's auc: 0.716683\n",
      "Early stopping, best iteration is:\n",
      "[1813]\ttraining's auc: 0.749579\tvalid_1's auc: 0.717868\n",
      "Total run time 10.562069928646087 min:\n",
      "CV score: 0.71718 \n"
     ]
    }
   ],
   "source": [
    "train_results_less_1_4 = train(train_df, test_df, target, uniques_count_less_1_4.index.tolist(), param)"
   ]
  },
  {
   "cell_type": "code",
   "execution_count": 48,
   "metadata": {},
   "outputs": [],
   "source": [
    "#oof_more_1_2, predictions_more_1_2, importance_df_more_1_2  = train_results_more_1_2"
   ]
  },
  {
   "cell_type": "code",
   "execution_count": 49,
   "metadata": {},
   "outputs": [],
   "source": [
    "#predictions_more_1_2.shape"
   ]
  },
  {
   "cell_type": "code",
   "execution_count": 50,
   "metadata": {},
   "outputs": [],
   "source": [
    "#predictions_more_1_2[:10]"
   ]
  },
  {
   "cell_type": "code",
   "execution_count": 51,
   "metadata": {},
   "outputs": [],
   "source": [
    "#predictions_more_1_2.max()"
   ]
  },
  {
   "cell_type": "code",
   "execution_count": 52,
   "metadata": {},
   "outputs": [],
   "source": [
    "#predictions_more_1_2.min()"
   ]
  },
  {
   "cell_type": "code",
   "execution_count": 53,
   "metadata": {},
   "outputs": [],
   "source": [
    "#df = pd.DataFrame({'var0': [1, 2], 'var1': [3, 4], 'var2': [5, 6], 'var3': [7, 8]})"
   ]
  },
  {
   "cell_type": "code",
   "execution_count": 54,
   "metadata": {},
   "outputs": [],
   "source": [
    "#df"
   ]
  },
  {
   "cell_type": "code",
   "execution_count": 55,
   "metadata": {},
   "outputs": [],
   "source": [
    "polinomial_features_maker = PolynomialFeatures(degree=2, interaction_only=False, include_bias=False)"
   ]
  },
  {
   "cell_type": "code",
   "execution_count": 56,
   "metadata": {},
   "outputs": [],
   "source": [
    "#new_features = polinomial_features_maker.fit_transform(df)"
   ]
  },
  {
   "cell_type": "code",
   "execution_count": 57,
   "metadata": {},
   "outputs": [],
   "source": [
    "#new_features"
   ]
  },
  {
   "cell_type": "code",
   "execution_count": 58,
   "metadata": {},
   "outputs": [],
   "source": [
    "#new_features.shape"
   ]
  },
  {
   "cell_type": "code",
   "execution_count": 59,
   "metadata": {},
   "outputs": [],
   "source": [
    "#polinomial_features_maker.get_feature_names(['var0', 'var1', 'var2', 'var3'])"
   ]
  },
  {
   "cell_type": "code",
   "execution_count": 60,
   "metadata": {},
   "outputs": [],
   "source": [
    "def normalise_feature_name(feature_name):\n",
    "    if '^' in feature_name:\n",
    "        return '_'.join(feature_name.split('^'))\n",
    "    elif ' ' in feature_name:\n",
    "        return '_'.join(feature_name.split())\n",
    "    else:\n",
    "        return feature_name"
   ]
  },
  {
   "cell_type": "code",
   "execution_count": 61,
   "metadata": {},
   "outputs": [],
   "source": [
    "#normalised_feature_names = [normalise_feature_name(feature_name) for feature_name in polinomial_features_maker.get_feature_names(['var0', 'var1', 'var2', 'var3'])]"
   ]
  },
  {
   "cell_type": "code",
   "execution_count": 62,
   "metadata": {},
   "outputs": [],
   "source": [
    "#normalised_feature_names"
   ]
  },
  {
   "cell_type": "code",
   "execution_count": 63,
   "metadata": {},
   "outputs": [],
   "source": [
    "target_values = train_df['target'].values"
   ]
  },
  {
   "cell_type": "code",
   "execution_count": 64,
   "metadata": {},
   "outputs": [
    {
     "data": {
      "text/plain": [
       "\"\\ntrain_values, holdout_test_values, train_target_values, holdout_test_target_values = train_test_split(\\n    #scaled_train_values,\\n    train_df[train_df.columns.drop(['ID_code', 'target'])].values,\\n    target_values,\\n    test_size=0.2,\\n    random_state=0\\n)\\n\""
      ]
     },
     "execution_count": 64,
     "metadata": {},
     "output_type": "execute_result"
    }
   ],
   "source": [
    "'''\n",
    "train_values, holdout_test_values, train_target_values, holdout_test_target_values = train_test_split(\n",
    "    #scaled_train_values,\n",
    "    train_df[train_df.columns.drop(['ID_code', 'target'])].values,\n",
    "    target_values,\n",
    "    test_size=0.2,\n",
    "    random_state=0\n",
    ")\n",
    "'''"
   ]
  },
  {
   "cell_type": "code",
   "execution_count": 65,
   "metadata": {},
   "outputs": [],
   "source": [
    "#feature_names = train_df.columns.drop(['ID_code', 'target']).tolist()"
   ]
  },
  {
   "cell_type": "code",
   "execution_count": 66,
   "metadata": {},
   "outputs": [],
   "source": [
    "#polinomial_train_values = polinomial_features_maker.fit_transform(train_values)"
   ]
  },
  {
   "cell_type": "code",
   "execution_count": 67,
   "metadata": {},
   "outputs": [],
   "source": [
    "#polinomial_holdout_test_values = polinomial_features_maker.fit_transform(holdout_test_values)"
   ]
  },
  {
   "cell_type": "code",
   "execution_count": 68,
   "metadata": {},
   "outputs": [],
   "source": [
    "#polinomial_features_names = [normalise_feature_name(feature_name) for feature_name in polinomial_features_maker.get_feature_names(feature_names)]"
   ]
  },
  {
   "cell_type": "code",
   "execution_count": 69,
   "metadata": {},
   "outputs": [],
   "source": [
    "train_df_uniques_count_more_1_2 = train_df[uniques_count_more_1_2.index].astype(np.float32)"
   ]
  },
  {
   "cell_type": "code",
   "execution_count": 70,
   "metadata": {},
   "outputs": [],
   "source": [
    "train_df_uniques_count_more_1_4_less_1_2 = train_df[uniques_count_more_1_4_less_1_2.index].astype(np.float32)"
   ]
  },
  {
   "cell_type": "code",
   "execution_count": 71,
   "metadata": {},
   "outputs": [],
   "source": [
    "train_df_uniques_count_less_1_4 = train_df[uniques_count_less_1_4.index].astype(np.float32)"
   ]
  },
  {
   "cell_type": "code",
   "execution_count": 72,
   "metadata": {},
   "outputs": [
    {
     "data": {
      "text/plain": [
       "False"
      ]
     },
     "execution_count": 72,
     "metadata": {},
     "output_type": "execute_result"
    }
   ],
   "source": [
    "'target' in train_df_uniques_count_less_1_4.columns.tolist()"
   ]
  },
  {
   "cell_type": "code",
   "execution_count": 73,
   "metadata": {},
   "outputs": [],
   "source": [
    "polinomial_values_uniques_count_more_1_2 = polinomial_features_maker.fit_transform(train_df_uniques_count_more_1_2).astype(np.float32)"
   ]
  },
  {
   "cell_type": "code",
   "execution_count": 74,
   "metadata": {},
   "outputs": [],
   "source": [
    "#del polinomial_values_uniques_count_more_1_2"
   ]
  },
  {
   "cell_type": "code",
   "execution_count": 75,
   "metadata": {},
   "outputs": [],
   "source": [
    "#gc.collect()"
   ]
  },
  {
   "cell_type": "code",
   "execution_count": 76,
   "metadata": {},
   "outputs": [],
   "source": [
    "polinomial_feature_names_uniques_count_more_1_2 = [\n",
    "    normalise_feature_name(feature_name) for feature_name in polinomial_features_maker.get_feature_names(train_df_uniques_count_more_1_2.columns.tolist())\n",
    "]"
   ]
  },
  {
   "cell_type": "code",
   "execution_count": 77,
   "metadata": {},
   "outputs": [
    {
     "data": {
      "text/plain": [
       "6215"
      ]
     },
     "execution_count": 77,
     "metadata": {},
     "output_type": "execute_result"
    }
   ],
   "source": [
    "len(polinomial_feature_names_uniques_count_more_1_2)"
   ]
  },
  {
   "cell_type": "code",
   "execution_count": 78,
   "metadata": {},
   "outputs": [],
   "source": [
    "train_polinomial_values_ucm_1_2, holdout_test_polinomial_values_ucm_1_2, train_target_values_ucm_1_2, holdout_test_target_values_ucm_1_2 = train_test_split(\n",
    "    #scaled_train_values,\n",
    "    polinomial_values_uniques_count_more_1_2,\n",
    "    target_values,\n",
    "    test_size=0.2,\n",
    "    random_state=0\n",
    ")"
   ]
  },
  {
   "cell_type": "code",
   "execution_count": 79,
   "metadata": {},
   "outputs": [],
   "source": [
    "'''\n",
    "train_polinomial_df_ucm_1_2 = reduce_mem_usage(pd.DataFrame(\n",
    "    data=train_polinomial_values_ucm_1_2,\n",
    "    columns=polinomial_feature_names_uniques_count_more_1_2\n",
    "))\n",
    "'''\n",
    "train_polinomial_df_ucm_1_2 = pd.DataFrame(\n",
    "    data=train_polinomial_values_ucm_1_2,\n",
    "    columns=polinomial_feature_names_uniques_count_more_1_2,\n",
    "    dtype=np.float32\n",
    ")"
   ]
  },
  {
   "cell_type": "code",
   "execution_count": 80,
   "metadata": {},
   "outputs": [
    {
     "data": {
      "text/plain": [
       "18"
      ]
     },
     "execution_count": 80,
     "metadata": {},
     "output_type": "execute_result"
    }
   ],
   "source": [
    "del train_polinomial_values_ucm_1_2\n",
    "gc.collect()"
   ]
  },
  {
   "cell_type": "code",
   "execution_count": 81,
   "metadata": {},
   "outputs": [],
   "source": [
    "train_target_df_ucm_1_2 = pd.DataFrame(data=train_target_values_ucm_1_2, columns=['target'], dtype=np.float32)"
   ]
  },
  {
   "cell_type": "code",
   "execution_count": 82,
   "metadata": {},
   "outputs": [],
   "source": [
    "#del train_target_values_ucm_1_2\n",
    "#gc.collect()"
   ]
  },
  {
   "cell_type": "code",
   "execution_count": 83,
   "metadata": {},
   "outputs": [
    {
     "data": {
      "text/plain": [
       "(160000, 1)"
      ]
     },
     "execution_count": 83,
     "metadata": {},
     "output_type": "execute_result"
    }
   ],
   "source": [
    "train_target_df_ucm_1_2.shape"
   ]
  },
  {
   "cell_type": "code",
   "execution_count": 84,
   "metadata": {},
   "outputs": [],
   "source": [
    "train_target_df_ucm_1_2.values?"
   ]
  },
  {
   "cell_type": "code",
   "execution_count": 85,
   "metadata": {},
   "outputs": [],
   "source": [
    "train_target_series_ucm_1_2 = pd.Series(train_target_values_ucm_1_2, dtype=np.float32)"
   ]
  },
  {
   "cell_type": "code",
   "execution_count": 86,
   "metadata": {},
   "outputs": [
    {
     "data": {
      "text/plain": [
       "0"
      ]
     },
     "execution_count": 86,
     "metadata": {},
     "output_type": "execute_result"
    }
   ],
   "source": [
    "del train_target_values_ucm_1_2\n",
    "gc.collect()"
   ]
  },
  {
   "cell_type": "code",
   "execution_count": 87,
   "metadata": {},
   "outputs": [
    {
     "data": {
      "text/plain": [
       "(160000,)"
      ]
     },
     "execution_count": 87,
     "metadata": {},
     "output_type": "execute_result"
    }
   ],
   "source": [
    "train_target_series_ucm_1_2.shape"
   ]
  },
  {
   "cell_type": "code",
   "execution_count": 88,
   "metadata": {},
   "outputs": [
    {
     "data": {
      "text/plain": [
       "0    0.0\n",
       "1    1.0\n",
       "2    0.0\n",
       "3    0.0\n",
       "4    0.0\n",
       "dtype: float32"
      ]
     },
     "execution_count": 88,
     "metadata": {},
     "output_type": "execute_result"
    }
   ],
   "source": [
    "train_target_series_ucm_1_2.head()"
   ]
  },
  {
   "cell_type": "code",
   "execution_count": 89,
   "metadata": {},
   "outputs": [
    {
     "data": {
      "text/plain": [
       "(160000, 6215)"
      ]
     },
     "execution_count": 89,
     "metadata": {},
     "output_type": "execute_result"
    }
   ],
   "source": [
    "train_polinomial_df_ucm_1_2.shape"
   ]
  },
  {
   "cell_type": "code",
   "execution_count": 90,
   "metadata": {},
   "outputs": [
    {
     "data": {
      "text/html": [
       "<div>\n",
       "<style scoped>\n",
       "    .dataframe tbody tr th:only-of-type {\n",
       "        vertical-align: middle;\n",
       "    }\n",
       "\n",
       "    .dataframe tbody tr th {\n",
       "        vertical-align: top;\n",
       "    }\n",
       "\n",
       "    .dataframe thead th {\n",
       "        text-align: right;\n",
       "    }\n",
       "</style>\n",
       "<table border=\"1\" class=\"dataframe\">\n",
       "  <thead>\n",
       "    <tr style=\"text-align: right;\">\n",
       "      <th></th>\n",
       "      <th>var_1</th>\n",
       "      <th>var_5</th>\n",
       "      <th>var_7</th>\n",
       "      <th>var_10</th>\n",
       "      <th>var_11</th>\n",
       "      <th>var_13</th>\n",
       "      <th>var_17</th>\n",
       "      <th>var_18</th>\n",
       "      <th>var_19</th>\n",
       "      <th>var_20</th>\n",
       "      <th>...</th>\n",
       "      <th>var_190_2</th>\n",
       "      <th>var_190_var_193</th>\n",
       "      <th>var_190_var_196</th>\n",
       "      <th>var_190_var_199</th>\n",
       "      <th>var_193_2</th>\n",
       "      <th>var_193_var_196</th>\n",
       "      <th>var_193_var_199</th>\n",
       "      <th>var_196_2</th>\n",
       "      <th>var_196_var_199</th>\n",
       "      <th>var_199_2</th>\n",
       "    </tr>\n",
       "  </thead>\n",
       "  <tbody>\n",
       "    <tr>\n",
       "      <th>0</th>\n",
       "      <td>-1.4003</td>\n",
       "      <td>-15.1480</td>\n",
       "      <td>23.001101</td>\n",
       "      <td>-12.8277</td>\n",
       "      <td>-11.9705</td>\n",
       "      <td>0.9585</td>\n",
       "      <td>-13.7352</td>\n",
       "      <td>8.9064</td>\n",
       "      <td>0.698000</td>\n",
       "      <td>2.9975</td>\n",
       "      <td>...</td>\n",
       "      <td>97.253128</td>\n",
       "      <td>103.938377</td>\n",
       "      <td>63.965946</td>\n",
       "      <td>-21.822956</td>\n",
       "      <td>111.083176</td>\n",
       "      <td>68.363007</td>\n",
       "      <td>-23.323080</td>\n",
       "      <td>42.072086</td>\n",
       "      <td>-14.353533</td>\n",
       "      <td>4.896926</td>\n",
       "    </tr>\n",
       "    <tr>\n",
       "      <th>1</th>\n",
       "      <td>-2.3055</td>\n",
       "      <td>-3.9362</td>\n",
       "      <td>20.108700</td>\n",
       "      <td>-2.1613</td>\n",
       "      <td>2.0213</td>\n",
       "      <td>12.1363</td>\n",
       "      <td>-11.3936</td>\n",
       "      <td>2.4146</td>\n",
       "      <td>12.208200</td>\n",
       "      <td>18.9734</td>\n",
       "      <td>...</td>\n",
       "      <td>0.180540</td>\n",
       "      <td>-1.965333</td>\n",
       "      <td>-0.716424</td>\n",
       "      <td>7.052490</td>\n",
       "      <td>21.394325</td>\n",
       "      <td>7.798887</td>\n",
       "      <td>-76.772385</td>\n",
       "      <td>2.842933</td>\n",
       "      <td>-27.985888</td>\n",
       "      <td>275.493591</td>\n",
       "    </tr>\n",
       "    <tr>\n",
       "      <th>2</th>\n",
       "      <td>2.0901</td>\n",
       "      <td>-19.5462</td>\n",
       "      <td>16.896999</td>\n",
       "      <td>-9.5860</td>\n",
       "      <td>-2.1832</td>\n",
       "      <td>8.4016</td>\n",
       "      <td>-3.2487</td>\n",
       "      <td>11.4263</td>\n",
       "      <td>13.995400</td>\n",
       "      <td>15.6798</td>\n",
       "      <td>...</td>\n",
       "      <td>1.587348</td>\n",
       "      <td>8.172215</td>\n",
       "      <td>-1.094097</td>\n",
       "      <td>13.587013</td>\n",
       "      <td>42.073387</td>\n",
       "      <td>-5.632790</td>\n",
       "      <td>69.950638</td>\n",
       "      <td>0.754119</td>\n",
       "      <td>-9.364999</td>\n",
       "      <td>116.298965</td>\n",
       "    </tr>\n",
       "    <tr>\n",
       "      <th>3</th>\n",
       "      <td>1.8913</td>\n",
       "      <td>-14.9898</td>\n",
       "      <td>21.246300</td>\n",
       "      <td>7.0288</td>\n",
       "      <td>2.4824</td>\n",
       "      <td>-0.0570</td>\n",
       "      <td>-5.4731</td>\n",
       "      <td>7.6422</td>\n",
       "      <td>12.221700</td>\n",
       "      <td>4.5632</td>\n",
       "      <td>...</td>\n",
       "      <td>138.525833</td>\n",
       "      <td>105.143440</td>\n",
       "      <td>-12.135738</td>\n",
       "      <td>70.626442</td>\n",
       "      <td>79.805641</td>\n",
       "      <td>-9.211229</td>\n",
       "      <td>53.606655</td>\n",
       "      <td>1.063167</td>\n",
       "      <td>-6.187322</td>\n",
       "      <td>36.008400</td>\n",
       "    </tr>\n",
       "    <tr>\n",
       "      <th>4</th>\n",
       "      <td>2.1761</td>\n",
       "      <td>-17.0776</td>\n",
       "      <td>16.811001</td>\n",
       "      <td>4.6831</td>\n",
       "      <td>-2.1157</td>\n",
       "      <td>16.5910</td>\n",
       "      <td>-8.8183</td>\n",
       "      <td>23.8480</td>\n",
       "      <td>23.709801</td>\n",
       "      <td>15.3342</td>\n",
       "      <td>...</td>\n",
       "      <td>16.612961</td>\n",
       "      <td>36.816788</td>\n",
       "      <td>20.045683</td>\n",
       "      <td>-83.176071</td>\n",
       "      <td>81.591469</td>\n",
       "      <td>44.424210</td>\n",
       "      <td>-184.330536</td>\n",
       "      <td>24.187706</td>\n",
       "      <td>-100.362679</td>\n",
       "      <td>416.437469</td>\n",
       "    </tr>\n",
       "  </tbody>\n",
       "</table>\n",
       "<p>5 rows × 6215 columns</p>\n",
       "</div>"
      ],
      "text/plain": [
       "    var_1    var_5      var_7   var_10   var_11   var_13   var_17   var_18  \\\n",
       "0 -1.4003 -15.1480  23.001101 -12.8277 -11.9705   0.9585 -13.7352   8.9064   \n",
       "1 -2.3055  -3.9362  20.108700  -2.1613   2.0213  12.1363 -11.3936   2.4146   \n",
       "2  2.0901 -19.5462  16.896999  -9.5860  -2.1832   8.4016  -3.2487  11.4263   \n",
       "3  1.8913 -14.9898  21.246300   7.0288   2.4824  -0.0570  -5.4731   7.6422   \n",
       "4  2.1761 -17.0776  16.811001   4.6831  -2.1157  16.5910  -8.8183  23.8480   \n",
       "\n",
       "      var_19   var_20     ...       var_190_2  var_190_var_193  \\\n",
       "0   0.698000   2.9975     ...       97.253128       103.938377   \n",
       "1  12.208200  18.9734     ...        0.180540        -1.965333   \n",
       "2  13.995400  15.6798     ...        1.587348         8.172215   \n",
       "3  12.221700   4.5632     ...      138.525833       105.143440   \n",
       "4  23.709801  15.3342     ...       16.612961        36.816788   \n",
       "\n",
       "   var_190_var_196  var_190_var_199   var_193_2  var_193_var_196  \\\n",
       "0        63.965946       -21.822956  111.083176        68.363007   \n",
       "1        -0.716424         7.052490   21.394325         7.798887   \n",
       "2        -1.094097        13.587013   42.073387        -5.632790   \n",
       "3       -12.135738        70.626442   79.805641        -9.211229   \n",
       "4        20.045683       -83.176071   81.591469        44.424210   \n",
       "\n",
       "   var_193_var_199  var_196_2  var_196_var_199   var_199_2  \n",
       "0       -23.323080  42.072086       -14.353533    4.896926  \n",
       "1       -76.772385   2.842933       -27.985888  275.493591  \n",
       "2        69.950638   0.754119        -9.364999  116.298965  \n",
       "3        53.606655   1.063167        -6.187322   36.008400  \n",
       "4      -184.330536  24.187706      -100.362679  416.437469  \n",
       "\n",
       "[5 rows x 6215 columns]"
      ]
     },
     "execution_count": 90,
     "metadata": {},
     "output_type": "execute_result"
    }
   ],
   "source": [
    "train_polinomial_df_ucm_1_2.head()"
   ]
  },
  {
   "cell_type": "code",
   "execution_count": 91,
   "metadata": {},
   "outputs": [],
   "source": [
    "test_values_ucm_1_2 = polinomial_features_maker.fit_transform(test_df[uniques_count_more_1_2.index]).astype(np.float32)"
   ]
  },
  {
   "cell_type": "code",
   "execution_count": 92,
   "metadata": {},
   "outputs": [],
   "source": [
    "test_polinomial_df_ucm_1_2 = pd.DataFrame(\n",
    "    data=test_values_ucm_1_2,\n",
    "    columns=polinomial_feature_names_uniques_count_more_1_2,\n",
    "    dtype=np.float32\n",
    ")"
   ]
  },
  {
   "cell_type": "code",
   "execution_count": 93,
   "metadata": {},
   "outputs": [
    {
     "data": {
      "text/plain": [
       "7"
      ]
     },
     "execution_count": 93,
     "metadata": {},
     "output_type": "execute_result"
    }
   ],
   "source": [
    "del test_values_ucm_1_2\n",
    "gc.collect()"
   ]
  },
  {
   "cell_type": "code",
   "execution_count": 94,
   "metadata": {},
   "outputs": [
    {
     "data": {
      "text/plain": [
       "0"
      ]
     },
     "execution_count": 94,
     "metadata": {},
     "output_type": "execute_result"
    }
   ],
   "source": [
    "del polinomial_values_uniques_count_more_1_2\n",
    "gc.collect()"
   ]
  },
  {
   "cell_type": "code",
   "execution_count": 95,
   "metadata": {},
   "outputs": [
    {
     "name": "stdout",
     "output_type": "stream",
     "text": [
      "Fold 0\n",
      "Training until validation scores don't improve for 3000 rounds.\n",
      "[1000]\ttraining's auc: 0.838762\tvalid_1's auc: 0.802518\n",
      "[2000]\ttraining's auc: 0.864215\tvalid_1's auc: 0.811186\n",
      "[3000]\ttraining's auc: 0.882027\tvalid_1's auc: 0.812682\n",
      "[4000]\ttraining's auc: 0.898256\tvalid_1's auc: 0.812993\n",
      "[5000]\ttraining's auc: 0.913146\tvalid_1's auc: 0.812344\n",
      "[6000]\ttraining's auc: 0.926696\tvalid_1's auc: 0.812159\n",
      "Early stopping, best iteration is:\n",
      "[3874]\ttraining's auc: 0.896196\tvalid_1's auc: 0.813274\n",
      "Fold 1\n",
      "Training until validation scores don't improve for 3000 rounds.\n",
      "[1000]\ttraining's auc: 0.838786\tvalid_1's auc: 0.802206\n",
      "[2000]\ttraining's auc: 0.863654\tvalid_1's auc: 0.812419\n",
      "[3000]\ttraining's auc: 0.881227\tvalid_1's auc: 0.815243\n",
      "[4000]\ttraining's auc: 0.897331\tvalid_1's auc: 0.816398\n",
      "[5000]\ttraining's auc: 0.912293\tvalid_1's auc: 0.816428\n",
      "[6000]\ttraining's auc: 0.925757\tvalid_1's auc: 0.816328\n",
      "[7000]\ttraining's auc: 0.938058\tvalid_1's auc: 0.81598\n",
      "Early stopping, best iteration is:\n",
      "[4563]\ttraining's auc: 0.905992\tvalid_1's auc: 0.816707\n",
      "Fold 2\n",
      "Training until validation scores don't improve for 3000 rounds.\n",
      "[1000]\ttraining's auc: 0.838071\tvalid_1's auc: 0.809383\n",
      "[2000]\ttraining's auc: 0.86336\tvalid_1's auc: 0.818606\n",
      "[3000]\ttraining's auc: 0.881368\tvalid_1's auc: 0.819967\n",
      "[4000]\ttraining's auc: 0.897395\tvalid_1's auc: 0.820065\n",
      "[5000]\ttraining's auc: 0.912531\tvalid_1's auc: 0.81987\n",
      "[6000]\ttraining's auc: 0.926124\tvalid_1's auc: 0.819698\n",
      "[7000]\ttraining's auc: 0.938423\tvalid_1's auc: 0.819576\n",
      "Early stopping, best iteration is:\n",
      "[4016]\ttraining's auc: 0.897645\tvalid_1's auc: 0.820173\n",
      "Fold 3\n",
      "Training until validation scores don't improve for 3000 rounds.\n",
      "[1000]\ttraining's auc: 0.83821\tvalid_1's auc: 0.809438\n",
      "[2000]\ttraining's auc: 0.86321\tvalid_1's auc: 0.819368\n",
      "[3000]\ttraining's auc: 0.881006\tvalid_1's auc: 0.821936\n",
      "[4000]\ttraining's auc: 0.897131\tvalid_1's auc: 0.822499\n",
      "[5000]\ttraining's auc: 0.911879\tvalid_1's auc: 0.82282\n",
      "[6000]\ttraining's auc: 0.92562\tvalid_1's auc: 0.823172\n",
      "[7000]\ttraining's auc: 0.937801\tvalid_1's auc: 0.822963\n",
      "[8000]\ttraining's auc: 0.948581\tvalid_1's auc: 0.822633\n",
      "[9000]\ttraining's auc: 0.957718\tvalid_1's auc: 0.821821\n",
      "Early stopping, best iteration is:\n",
      "[6007]\ttraining's auc: 0.925733\tvalid_1's auc: 0.823204\n",
      "Fold 4\n",
      "Training until validation scores don't improve for 3000 rounds.\n",
      "[1000]\ttraining's auc: 0.839185\tvalid_1's auc: 0.805585\n",
      "[2000]\ttraining's auc: 0.863926\tvalid_1's auc: 0.815801\n",
      "[3000]\ttraining's auc: 0.881486\tvalid_1's auc: 0.817704\n",
      "[4000]\ttraining's auc: 0.897704\tvalid_1's auc: 0.817464\n",
      "[5000]\ttraining's auc: 0.912498\tvalid_1's auc: 0.81786\n",
      "[6000]\ttraining's auc: 0.926144\tvalid_1's auc: 0.817553\n",
      "[7000]\ttraining's auc: 0.938247\tvalid_1's auc: 0.817042\n",
      "Early stopping, best iteration is:\n",
      "[4727]\ttraining's auc: 0.908605\tvalid_1's auc: 0.817979\n",
      "Fold 5\n",
      "Training until validation scores don't improve for 3000 rounds.\n",
      "[1000]\ttraining's auc: 0.83942\tvalid_1's auc: 0.797128\n",
      "[2000]\ttraining's auc: 0.864591\tvalid_1's auc: 0.806734\n",
      "[3000]\ttraining's auc: 0.882115\tvalid_1's auc: 0.809022\n",
      "[4000]\ttraining's auc: 0.898067\tvalid_1's auc: 0.809662\n",
      "[5000]\ttraining's auc: 0.912624\tvalid_1's auc: 0.80983\n",
      "[6000]\ttraining's auc: 0.92629\tvalid_1's auc: 0.809578\n",
      "[7000]\ttraining's auc: 0.938296\tvalid_1's auc: 0.809112\n",
      "[8000]\ttraining's auc: 0.94887\tvalid_1's auc: 0.809175\n",
      "Early stopping, best iteration is:\n",
      "[5433]\ttraining's auc: 0.918789\tvalid_1's auc: 0.809953\n",
      "Fold 6\n",
      "Training until validation scores don't improve for 3000 rounds.\n",
      "[1000]\ttraining's auc: 0.838826\tvalid_1's auc: 0.798452\n",
      "[2000]\ttraining's auc: 0.864251\tvalid_1's auc: 0.809565\n",
      "[3000]\ttraining's auc: 0.881883\tvalid_1's auc: 0.811075\n",
      "[4000]\ttraining's auc: 0.898102\tvalid_1's auc: 0.811875\n",
      "[5000]\ttraining's auc: 0.912852\tvalid_1's auc: 0.812476\n",
      "[6000]\ttraining's auc: 0.926231\tvalid_1's auc: 0.81229\n",
      "[7000]\ttraining's auc: 0.938218\tvalid_1's auc: 0.812081\n",
      "[8000]\ttraining's auc: 0.948838\tvalid_1's auc: 0.811973\n",
      "Early stopping, best iteration is:\n",
      "[5241]\ttraining's auc: 0.916196\tvalid_1's auc: 0.812793\n",
      "Fold 7\n",
      "Training until validation scores don't improve for 3000 rounds.\n",
      "[1000]\ttraining's auc: 0.838208\tvalid_1's auc: 0.80803\n",
      "[2000]\ttraining's auc: 0.863463\tvalid_1's auc: 0.817872\n",
      "[3000]\ttraining's auc: 0.88124\tvalid_1's auc: 0.819231\n",
      "[4000]\ttraining's auc: 0.897286\tvalid_1's auc: 0.819254\n",
      "[5000]\ttraining's auc: 0.912181\tvalid_1's auc: 0.819314\n",
      "[6000]\ttraining's auc: 0.925699\tvalid_1's auc: 0.818978\n",
      "[7000]\ttraining's auc: 0.937965\tvalid_1's auc: 0.818554\n",
      "Early stopping, best iteration is:\n",
      "[4392]\ttraining's auc: 0.903324\tvalid_1's auc: 0.819676\n",
      "Fold 8\n",
      "Training until validation scores don't improve for 3000 rounds.\n",
      "[1000]\ttraining's auc: 0.838555\tvalid_1's auc: 0.812231\n",
      "[2000]\ttraining's auc: 0.863825\tvalid_1's auc: 0.820539\n",
      "[3000]\ttraining's auc: 0.881444\tvalid_1's auc: 0.821546\n",
      "[4000]\ttraining's auc: 0.897503\tvalid_1's auc: 0.821649\n",
      "[5000]\ttraining's auc: 0.91227\tvalid_1's auc: 0.821277\n",
      "[6000]\ttraining's auc: 0.92582\tvalid_1's auc: 0.820819\n",
      "Early stopping, best iteration is:\n",
      "[3757]\ttraining's auc: 0.89367\tvalid_1's auc: 0.821993\n",
      "Fold 9\n",
      "Training until validation scores don't improve for 3000 rounds.\n",
      "[1000]\ttraining's auc: 0.838625\tvalid_1's auc: 0.805455\n",
      "[2000]\ttraining's auc: 0.864076\tvalid_1's auc: 0.814822\n",
      "[3000]\ttraining's auc: 0.881819\tvalid_1's auc: 0.816536\n",
      "[4000]\ttraining's auc: 0.897938\tvalid_1's auc: 0.816276\n",
      "[5000]\ttraining's auc: 0.912877\tvalid_1's auc: 0.815507\n",
      "[6000]\ttraining's auc: 0.926537\tvalid_1's auc: 0.8154\n",
      "Early stopping, best iteration is:\n",
      "[3254]\ttraining's auc: 0.885929\tvalid_1's auc: 0.816673\n",
      "Total run time 84.49654633204142 min:\n",
      "CV score: 0.81718 \n"
     ]
    }
   ],
   "source": [
    "train_results_polinomial_ucm_1_2 = train(\n",
    "    train_polinomial_df_ucm_1_2,\n",
    "    test_polinomial_df_ucm_1_2,\n",
    "    #train_target_df_ucm_1_2,\n",
    "    train_target_series_ucm_1_2,\n",
    "    train_polinomial_df_ucm_1_2.columns.tolist(),\n",
    "    param\n",
    ")"
   ]
  },
  {
   "cell_type": "code",
   "execution_count": 100,
   "metadata": {},
   "outputs": [],
   "source": [
    "oof, predictions, feature_importance_df, clf = train_results_polinomial_ucm_1_2"
   ]
  },
  {
   "cell_type": "code",
   "execution_count": 103,
   "metadata": {},
   "outputs": [],
   "source": [
    "#type(predictions)\n",
    "predictions_df = pd.DataFrame(data=predictions, columns=['target'])"
   ]
  },
  {
   "cell_type": "code",
   "execution_count": 104,
   "metadata": {},
   "outputs": [],
   "source": [
    "predictions_df.to_csv('predictions_ucm_1_2.csv', index=False)"
   ]
  },
  {
   "cell_type": "code",
   "execution_count": 107,
   "metadata": {},
   "outputs": [],
   "source": [
    "train_polinomial_df_ucm_1_2.to_csv('train_polinomial_data_ucm_1_2.csv', index=False)"
   ]
  },
  {
   "cell_type": "code",
   "execution_count": 108,
   "metadata": {},
   "outputs": [],
   "source": [
    "test_polinomial_df_ucm_1_2.to_csv('test_polinomial_data_ucm_1_2.csv', index=False)"
   ]
  },
  {
   "cell_type": "code",
   "execution_count": 109,
   "metadata": {},
   "outputs": [],
   "source": [
    "train_target_series_ucm_1_2.to_csv('train_target_ucm_1_2.csv', index=False)"
   ]
  },
  {
   "cell_type": "code",
   "execution_count": 110,
   "metadata": {},
   "outputs": [
    {
     "data": {
      "text/plain": [
       "346"
      ]
     },
     "execution_count": 110,
     "metadata": {},
     "output_type": "execute_result"
    }
   ],
   "source": [
    "del train_polinomial_df_ucm_1_2\n",
    "del test_polinomial_df_ucm_1_2\n",
    "del train_target_series_ucm_1_2\n",
    "gc.collect()"
   ]
  },
  {
   "cell_type": "code",
   "execution_count": 105,
   "metadata": {},
   "outputs": [],
   "source": [
    "clf.save_model('lgbm_ucf_1_2.txt')"
   ]
  },
  {
   "cell_type": "code",
   "execution_count": null,
   "metadata": {},
   "outputs": [],
   "source": []
  },
  {
   "cell_type": "code",
   "execution_count": 111,
   "metadata": {},
   "outputs": [],
   "source": [
    "polinomial_values_uniques_count_more_1_4_less_1_2 = polinomial_features_maker.fit_transform(train_df_uniques_count_more_1_4_less_1_2).astype(np.float32)"
   ]
  },
  {
   "cell_type": "code",
   "execution_count": 112,
   "metadata": {},
   "outputs": [
    {
     "data": {
      "text/plain": [
       "200000"
      ]
     },
     "execution_count": 112,
     "metadata": {},
     "output_type": "execute_result"
    }
   ],
   "source": [
    "len(polinomial_values_uniques_count_more_1_4_less_1_2)"
   ]
  },
  {
   "cell_type": "code",
   "execution_count": 113,
   "metadata": {},
   "outputs": [],
   "source": [
    "polinomial_feature_names_uniques_count_more_1_4_less_1_2 = [normalise_feature_name(feature_name) for feature_name in polinomial_features_maker.get_feature_names(train_df_uniques_count_more_1_4_less_1_2.columns.tolist())]"
   ]
  },
  {
   "cell_type": "code",
   "execution_count": 114,
   "metadata": {},
   "outputs": [],
   "source": [
    "train_polinomial_values_ucm_1_4_1_2, holdout_test_polinomial_values_ucm_1_4_1_2, train_target_values_ucm_1_4_1_2, holdout_test_target_values_ucm_1_4_1_2 = train_test_split(\n",
    "    #scaled_train_values,\n",
    "    polinomial_values_uniques_count_more_1_4_less_1_2,\n",
    "    target_values,\n",
    "    test_size=0.2,\n",
    "    random_state=0\n",
    ")"
   ]
  },
  {
   "cell_type": "code",
   "execution_count": 115,
   "metadata": {},
   "outputs": [],
   "source": [
    "train_polinomial_df_ucm_1_4_1_2 = pd.DataFrame(\n",
    "    data=train_polinomial_values_ucm_1_4_1_2,\n",
    "    columns=polinomial_feature_names_uniques_count_more_1_4_less_1_2,\n",
    "    dtype=np.float32\n",
    ")"
   ]
  },
  {
   "cell_type": "code",
   "execution_count": 116,
   "metadata": {},
   "outputs": [],
   "source": [
    "train_target_series_ucm_1_4_1_2 = pd.Series(train_target_values_ucm_1_4_1_2)"
   ]
  },
  {
   "cell_type": "code",
   "execution_count": 118,
   "metadata": {},
   "outputs": [
    {
     "data": {
      "text/plain": [
       "(160000,)"
      ]
     },
     "execution_count": 118,
     "metadata": {},
     "output_type": "execute_result"
    }
   ],
   "source": [
    "train_target_series_ucm_1_4_1_2.shape"
   ]
  },
  {
   "cell_type": "code",
   "execution_count": 120,
   "metadata": {},
   "outputs": [
    {
     "data": {
      "text/plain": [
       "0    0\n",
       "1    1\n",
       "2    0\n",
       "3    0\n",
       "4    0\n",
       "dtype: int64"
      ]
     },
     "execution_count": 120,
     "metadata": {},
     "output_type": "execute_result"
    }
   ],
   "source": [
    "train_target_series_ucm_1_4_1_2.head()"
   ]
  },
  {
   "cell_type": "code",
   "execution_count": 121,
   "metadata": {},
   "outputs": [],
   "source": [
    "test_polinomial_values_ucm_1_4_1_2 = polinomial_features_maker.fit_transform(test_df[uniques_count_more_1_4_less_1_2.index]).astype(np.float32)"
   ]
  },
  {
   "cell_type": "code",
   "execution_count": 122,
   "metadata": {},
   "outputs": [],
   "source": [
    "test_polinomial_df_ucm_1_4_1_2 = pd.DataFrame(\n",
    "    data=test_polinomial_values_ucm_1_4_1_2,\n",
    "    columns=polinomial_feature_names_uniques_count_more_1_4_less_1_2,\n",
    "    dtype=np.float32\n",
    ")"
   ]
  },
  {
   "cell_type": "code",
   "execution_count": 123,
   "metadata": {},
   "outputs": [
    {
     "data": {
      "text/plain": [
       "108"
      ]
     },
     "execution_count": 123,
     "metadata": {},
     "output_type": "execute_result"
    }
   ],
   "source": [
    "del polinomial_values_uniques_count_more_1_4_less_1_2\n",
    "del train_polinomial_values_ucm_1_4_1_2\n",
    "del test_polinomial_values_ucm_1_4_1_2\n",
    "del train_target_values_ucm_1_4_1_2\n",
    "gc.collect()"
   ]
  },
  {
   "cell_type": "code",
   "execution_count": 124,
   "metadata": {},
   "outputs": [
    {
     "name": "stdout",
     "output_type": "stream",
     "text": [
      "Fold 0\n",
      "Training until validation scores don't improve for 3000 rounds.\n",
      "[1000]\ttraining's auc: 0.83246\tvalid_1's auc: 0.801038\n",
      "[2000]\ttraining's auc: 0.854414\tvalid_1's auc: 0.805477\n",
      "[3000]\ttraining's auc: 0.871523\tvalid_1's auc: 0.806123\n",
      "[4000]\ttraining's auc: 0.887375\tvalid_1's auc: 0.805903\n",
      "[5000]\ttraining's auc: 0.902057\tvalid_1's auc: 0.806144\n",
      "Early stopping, best iteration is:\n",
      "[2842]\ttraining's auc: 0.868851\tvalid_1's auc: 0.80622\n",
      "Fold 1\n",
      "Training until validation scores don't improve for 3000 rounds.\n",
      "[1000]\ttraining's auc: 0.831354\tvalid_1's auc: 0.807533\n",
      "[2000]\ttraining's auc: 0.853586\tvalid_1's auc: 0.814413\n",
      "[3000]\ttraining's auc: 0.871036\tvalid_1's auc: 0.815046\n",
      "[4000]\ttraining's auc: 0.887196\tvalid_1's auc: 0.814766\n",
      "[5000]\ttraining's auc: 0.90206\tvalid_1's auc: 0.814434\n",
      "[6000]\ttraining's auc: 0.915315\tvalid_1's auc: 0.814192\n",
      "Early stopping, best iteration is:\n",
      "[3584]\ttraining's auc: 0.880639\tvalid_1's auc: 0.815199\n",
      "Fold 2\n",
      "Training until validation scores don't improve for 3000 rounds.\n",
      "[1000]\ttraining's auc: 0.832987\tvalid_1's auc: 0.787713\n",
      "[2000]\ttraining's auc: 0.854887\tvalid_1's auc: 0.796167\n",
      "[3000]\ttraining's auc: 0.871821\tvalid_1's auc: 0.798036\n",
      "[4000]\ttraining's auc: 0.887704\tvalid_1's auc: 0.797854\n",
      "[5000]\ttraining's auc: 0.902365\tvalid_1's auc: 0.797431\n",
      "[6000]\ttraining's auc: 0.915516\tvalid_1's auc: 0.796584\n",
      "Early stopping, best iteration is:\n",
      "[3588]\ttraining's auc: 0.88123\tvalid_1's auc: 0.798177\n",
      "Fold 3\n",
      "Training until validation scores don't improve for 3000 rounds.\n",
      "[1000]\ttraining's auc: 0.83157\tvalid_1's auc: 0.804276\n",
      "[2000]\ttraining's auc: 0.853535\tvalid_1's auc: 0.812183\n",
      "[3000]\ttraining's auc: 0.870667\tvalid_1's auc: 0.813517\n",
      "[4000]\ttraining's auc: 0.886516\tvalid_1's auc: 0.81351\n",
      "[5000]\ttraining's auc: 0.901362\tvalid_1's auc: 0.813701\n",
      "[6000]\ttraining's auc: 0.914925\tvalid_1's auc: 0.812733\n",
      "[7000]\ttraining's auc: 0.92705\tvalid_1's auc: 0.81272\n",
      "Early stopping, best iteration is:\n",
      "[4670]\ttraining's auc: 0.896781\tvalid_1's auc: 0.813876\n",
      "Fold 4\n",
      "Training until validation scores don't improve for 3000 rounds.\n",
      "[1000]\ttraining's auc: 0.832125\tvalid_1's auc: 0.799563\n",
      "[2000]\ttraining's auc: 0.853766\tvalid_1's auc: 0.806429\n",
      "[3000]\ttraining's auc: 0.870873\tvalid_1's auc: 0.807988\n",
      "[4000]\ttraining's auc: 0.886879\tvalid_1's auc: 0.808158\n",
      "[5000]\ttraining's auc: 0.90159\tvalid_1's auc: 0.807828\n",
      "[6000]\ttraining's auc: 0.915042\tvalid_1's auc: 0.80758\n",
      "Early stopping, best iteration is:\n",
      "[3935]\ttraining's auc: 0.88583\tvalid_1's auc: 0.808242\n",
      "Fold 5\n",
      "Training until validation scores don't improve for 3000 rounds.\n",
      "[1000]\ttraining's auc: 0.831351\tvalid_1's auc: 0.811016\n",
      "[2000]\ttraining's auc: 0.853406\tvalid_1's auc: 0.818441\n",
      "[3000]\ttraining's auc: 0.870881\tvalid_1's auc: 0.819958\n",
      "[4000]\ttraining's auc: 0.886907\tvalid_1's auc: 0.820278\n",
      "[5000]\ttraining's auc: 0.901431\tvalid_1's auc: 0.819977\n",
      "[6000]\ttraining's auc: 0.915073\tvalid_1's auc: 0.819888\n",
      "[7000]\ttraining's auc: 0.927059\tvalid_1's auc: 0.819745\n",
      "Early stopping, best iteration is:\n",
      "[4146]\ttraining's auc: 0.889148\tvalid_1's auc: 0.820399\n",
      "Fold 6\n",
      "Training until validation scores don't improve for 3000 rounds.\n",
      "[1000]\ttraining's auc: 0.832273\tvalid_1's auc: 0.798405\n",
      "[2000]\ttraining's auc: 0.8543\tvalid_1's auc: 0.806109\n",
      "[3000]\ttraining's auc: 0.871403\tvalid_1's auc: 0.80715\n",
      "[4000]\ttraining's auc: 0.887216\tvalid_1's auc: 0.807956\n",
      "[5000]\ttraining's auc: 0.901963\tvalid_1's auc: 0.807674\n",
      "[6000]\ttraining's auc: 0.915062\tvalid_1's auc: 0.807656\n",
      "[7000]\ttraining's auc: 0.927253\tvalid_1's auc: 0.807556\n",
      "[8000]\ttraining's auc: 0.938083\tvalid_1's auc: 0.806961\n",
      "[9000]\ttraining's auc: 0.947545\tvalid_1's auc: 0.806782\n",
      "Early stopping, best iteration is:\n",
      "[6221]\ttraining's auc: 0.918006\tvalid_1's auc: 0.807967\n",
      "Fold 7\n",
      "Training until validation scores don't improve for 3000 rounds.\n",
      "[1000]\ttraining's auc: 0.832335\tvalid_1's auc: 0.79963\n",
      "[2000]\ttraining's auc: 0.854273\tvalid_1's auc: 0.80552\n",
      "[3000]\ttraining's auc: 0.871351\tvalid_1's auc: 0.806012\n",
      "[4000]\ttraining's auc: 0.887247\tvalid_1's auc: 0.805516\n",
      "[5000]\ttraining's auc: 0.901805\tvalid_1's auc: 0.805131\n",
      "Early stopping, best iteration is:\n",
      "[2897]\ttraining's auc: 0.869676\tvalid_1's auc: 0.806269\n",
      "Fold 8\n",
      "Training until validation scores don't improve for 3000 rounds.\n",
      "[1000]\ttraining's auc: 0.831371\tvalid_1's auc: 0.807862\n",
      "[2000]\ttraining's auc: 0.85343\tvalid_1's auc: 0.812993\n",
      "[3000]\ttraining's auc: 0.870821\tvalid_1's auc: 0.813938\n",
      "[4000]\ttraining's auc: 0.886624\tvalid_1's auc: 0.81392\n",
      "[5000]\ttraining's auc: 0.901593\tvalid_1's auc: 0.813434\n",
      "[6000]\ttraining's auc: 0.91483\tvalid_1's auc: 0.813018\n",
      "Early stopping, best iteration is:\n",
      "[3335]\ttraining's auc: 0.876231\tvalid_1's auc: 0.814166\n",
      "Fold 9\n",
      "Training until validation scores don't improve for 3000 rounds.\n",
      "[1000]\ttraining's auc: 0.831903\tvalid_1's auc: 0.801807\n",
      "[2000]\ttraining's auc: 0.853965\tvalid_1's auc: 0.80871\n",
      "[3000]\ttraining's auc: 0.871177\tvalid_1's auc: 0.809762\n",
      "[4000]\ttraining's auc: 0.887158\tvalid_1's auc: 0.809797\n",
      "[5000]\ttraining's auc: 0.901809\tvalid_1's auc: 0.809146\n",
      "[6000]\ttraining's auc: 0.915162\tvalid_1's auc: 0.809073\n",
      "Early stopping, best iteration is:\n",
      "[3338]\ttraining's auc: 0.876738\tvalid_1's auc: 0.810069\n",
      "Total run time 56.124856078624724 min:\n",
      "CV score: 0.80998 \n"
     ]
    }
   ],
   "source": [
    "train_results_polinomial_ucm_1_4_1_2 = train(\n",
    "    train_polinomial_df_ucm_1_4_1_2,\n",
    "    test_polinomial_df_ucm_1_4_1_2,\n",
    "    train_target_series_ucm_1_4_1_2,\n",
    "    train_polinomial_df_ucm_1_4_1_2.columns.tolist(),\n",
    "    param\n",
    ")"
   ]
  },
  {
   "cell_type": "code",
   "execution_count": 127,
   "metadata": {},
   "outputs": [],
   "source": [
    "oof_ucm_1_4_1_2, predictions_ucm_1_4_1_2, feature_importance_df_ucm_1_4_1_2, clf_ucm_1_4_1_2 = train_results_polinomial_ucm_1_4_1_2"
   ]
  },
  {
   "cell_type": "code",
   "execution_count": 129,
   "metadata": {},
   "outputs": [],
   "source": [
    "#type(oof_ucm_1_4_1_2)\n",
    "predictions_df_ucm_1_4_1_2 = pd.DataFrame(data=predictions_ucm_1_4_1_2, columns=['target'])"
   ]
  },
  {
   "cell_type": "code",
   "execution_count": 130,
   "metadata": {},
   "outputs": [],
   "source": [
    "predictions_df_ucm_1_4_1_2.to_csv('predictions_ucm_1_4_1_2.csv', index=False)"
   ]
  },
  {
   "cell_type": "code",
   "execution_count": 131,
   "metadata": {},
   "outputs": [],
   "source": [
    "train_polinomial_df_ucm_1_4_1_2.to_csv('train_polinomial_data_ucm_1_4_1_2.csv', index=False)"
   ]
  },
  {
   "cell_type": "code",
   "execution_count": 132,
   "metadata": {},
   "outputs": [],
   "source": [
    "test_polinomial_df_ucm_1_4_1_2.to_csv('test_polinomial_data_ucm_1_4_1_2.csv', index=False)"
   ]
  },
  {
   "cell_type": "code",
   "execution_count": 134,
   "metadata": {},
   "outputs": [],
   "source": [
    "train_target_series_ucm_1_4_1_2.to_csv('train_target_ucm_1_4_1_2.csv', index=False)"
   ]
  },
  {
   "cell_type": "code",
   "execution_count": 136,
   "metadata": {},
   "outputs": [
    {
     "data": {
      "text/plain": [
       "168"
      ]
     },
     "execution_count": 136,
     "metadata": {},
     "output_type": "execute_result"
    }
   ],
   "source": [
    "del train_polinomial_df_ucm_1_4_1_2\n",
    "del test_polinomial_df_ucm_1_4_1_2\n",
    "del train_target_series_ucm_1_4_1_2\n",
    "gc.collect()"
   ]
  },
  {
   "cell_type": "code",
   "execution_count": 135,
   "metadata": {},
   "outputs": [],
   "source": [
    "clf_ucm_1_4_1_2.save_model('lgbm_ucm_1_4_1_2.txt')"
   ]
  },
  {
   "cell_type": "code",
   "execution_count": null,
   "metadata": {},
   "outputs": [],
   "source": []
  },
  {
   "cell_type": "code",
   "execution_count": 137,
   "metadata": {},
   "outputs": [],
   "source": [
    "polinomial_values_uniques_count_less_1_4 = polinomial_features_maker.fit_transform(train_df_uniques_count_less_1_4).astype(np.float32)"
   ]
  },
  {
   "cell_type": "code",
   "execution_count": 142,
   "metadata": {},
   "outputs": [
    {
     "data": {
      "text/plain": [
       "(200000, 819)"
      ]
     },
     "execution_count": 142,
     "metadata": {},
     "output_type": "execute_result"
    }
   ],
   "source": [
    "len(polinomial_values_uniques_count_less_1_4)\n",
    "polinomial_values_uniques_count_less_1_4.shape"
   ]
  },
  {
   "cell_type": "code",
   "execution_count": 145,
   "metadata": {},
   "outputs": [],
   "source": [
    "polinomial_feature_names_uniques_count_less_1_4 = [normalise_feature_name(feature_name) for feature_name in polinomial_features_maker.get_feature_names(train_df_uniques_count_less_1_4.columns.tolist())]"
   ]
  },
  {
   "cell_type": "code",
   "execution_count": 143,
   "metadata": {},
   "outputs": [],
   "source": [
    "train_polinomial_values_ucm_1_4, holdout_test_polinomial_values_ucm_1_4, train_target_values_ucm_1_4, holdout_test_target_values_ucm_1_4 = train_test_split(\n",
    "    #scaled_train_values,\n",
    "    polinomial_values_uniques_count_less_1_4,\n",
    "    target_values,\n",
    "    test_size=0.2,\n",
    "    random_state=0\n",
    ")"
   ]
  },
  {
   "cell_type": "code",
   "execution_count": 146,
   "metadata": {},
   "outputs": [],
   "source": [
    "train_polinomial_df_ucm_1_4 = pd.DataFrame(\n",
    "    data=train_polinomial_values_ucm_1_4,\n",
    "    columns=polinomial_feature_names_uniques_count_less_1_4,\n",
    "    dtype=np.float32\n",
    ")"
   ]
  },
  {
   "cell_type": "code",
   "execution_count": 153,
   "metadata": {},
   "outputs": [],
   "source": [
    "train_target_series_ucm_1_4 = pd.Series(train_target_values_ucm_1_4)"
   ]
  },
  {
   "cell_type": "code",
   "execution_count": 154,
   "metadata": {},
   "outputs": [
    {
     "data": {
      "text/plain": [
       "(160000,)"
      ]
     },
     "execution_count": 154,
     "metadata": {},
     "output_type": "execute_result"
    }
   ],
   "source": [
    "train_target_series_ucm_1_4.shape"
   ]
  },
  {
   "cell_type": "code",
   "execution_count": 156,
   "metadata": {},
   "outputs": [],
   "source": [
    "test_polinomial_values_ucm_1_4 = polinomial_features_maker.fit_transform(test_df[uniques_count_less_1_4.index]).astype(np.float32)"
   ]
  },
  {
   "cell_type": "code",
   "execution_count": 152,
   "metadata": {},
   "outputs": [],
   "source": [
    "test_polinomial_df_ucm_1_4 = pd.DataFrame(\n",
    "    data=test_values_ucm_1_4,\n",
    "    columns=polinomial_feature_names_uniques_count_less_1_4,\n",
    "    dtype=np.float32\n",
    ")"
   ]
  },
  {
   "cell_type": "code",
   "execution_count": 159,
   "metadata": {},
   "outputs": [
    {
     "data": {
      "text/plain": [
       "505"
      ]
     },
     "execution_count": 159,
     "metadata": {},
     "output_type": "execute_result"
    }
   ],
   "source": [
    "#del polinomial_values_uniques_count_less_1_4\n",
    "#del train_polinomial_values_ucm_1_4\n",
    "del test_polinomial_values_ucm_1_4\n",
    "del train_target_values_ucm_1_4\n",
    "gc.collect()"
   ]
  },
  {
   "cell_type": "code",
   "execution_count": 160,
   "metadata": {},
   "outputs": [
    {
     "name": "stdout",
     "output_type": "stream",
     "text": [
      "Fold 0\n",
      "Training until validation scores don't improve for 3000 rounds.\n",
      "[1000]\ttraining's auc: 0.750146\tvalid_1's auc: 0.706936\n",
      "[2000]\ttraining's auc: 0.773966\tvalid_1's auc: 0.707595\n",
      "[3000]\ttraining's auc: 0.796843\tvalid_1's auc: 0.706173\n",
      "[4000]\ttraining's auc: 0.817903\tvalid_1's auc: 0.705203\n",
      "Early stopping, best iteration is:\n",
      "[1548]\ttraining's auc: 0.763514\tvalid_1's auc: 0.70773\n",
      "Fold 1\n",
      "Training until validation scores don't improve for 3000 rounds.\n",
      "[1000]\ttraining's auc: 0.748817\tvalid_1's auc: 0.719931\n",
      "[2000]\ttraining's auc: 0.773467\tvalid_1's auc: 0.720096\n",
      "[3000]\ttraining's auc: 0.7964\tvalid_1's auc: 0.718983\n",
      "[4000]\ttraining's auc: 0.816975\tvalid_1's auc: 0.718124\n",
      "Early stopping, best iteration is:\n",
      "[1220]\ttraining's auc: 0.754455\tvalid_1's auc: 0.721226\n",
      "Fold 2\n",
      "Training until validation scores don't improve for 3000 rounds.\n",
      "[1000]\ttraining's auc: 0.749849\tvalid_1's auc: 0.706014\n",
      "[2000]\ttraining's auc: 0.773877\tvalid_1's auc: 0.708997\n",
      "[3000]\ttraining's auc: 0.796516\tvalid_1's auc: 0.70895\n",
      "[4000]\ttraining's auc: 0.81705\tvalid_1's auc: 0.708867\n",
      "[5000]\ttraining's auc: 0.836355\tvalid_1's auc: 0.708074\n",
      "[6000]\ttraining's auc: 0.853892\tvalid_1's auc: 0.706934\n",
      "Early stopping, best iteration is:\n",
      "[3242]\ttraining's auc: 0.801658\tvalid_1's auc: 0.709186\n",
      "Fold 3\n",
      "Training until validation scores don't improve for 3000 rounds.\n",
      "[1000]\ttraining's auc: 0.748514\tvalid_1's auc: 0.719323\n",
      "[2000]\ttraining's auc: 0.773032\tvalid_1's auc: 0.720864\n",
      "[3000]\ttraining's auc: 0.796123\tvalid_1's auc: 0.720432\n",
      "[4000]\ttraining's auc: 0.816791\tvalid_1's auc: 0.71999\n",
      "Early stopping, best iteration is:\n",
      "[1815]\ttraining's auc: 0.768745\tvalid_1's auc: 0.721344\n",
      "Fold 4\n",
      "Training until validation scores don't improve for 3000 rounds.\n",
      "[1000]\ttraining's auc: 0.747734\tvalid_1's auc: 0.730777\n",
      "[2000]\ttraining's auc: 0.772388\tvalid_1's auc: 0.731844\n",
      "[3000]\ttraining's auc: 0.795545\tvalid_1's auc: 0.731315\n",
      "[4000]\ttraining's auc: 0.816848\tvalid_1's auc: 0.730588\n",
      "Early stopping, best iteration is:\n",
      "[1730]\ttraining's auc: 0.765903\tvalid_1's auc: 0.732473\n",
      "Fold 5\n",
      "Training until validation scores don't improve for 3000 rounds.\n",
      "[1000]\ttraining's auc: 0.748986\tvalid_1's auc: 0.719056\n",
      "[2000]\ttraining's auc: 0.773019\tvalid_1's auc: 0.721977\n",
      "[3000]\ttraining's auc: 0.796138\tvalid_1's auc: 0.721909\n",
      "[4000]\ttraining's auc: 0.817114\tvalid_1's auc: 0.721614\n",
      "[5000]\ttraining's auc: 0.83643\tvalid_1's auc: 0.720305\n",
      "Early stopping, best iteration is:\n",
      "[2402]\ttraining's auc: 0.782434\tvalid_1's auc: 0.7223\n",
      "Fold 6\n",
      "Training until validation scores don't improve for 3000 rounds.\n",
      "[1000]\ttraining's auc: 0.748927\tvalid_1's auc: 0.725424\n",
      "[2000]\ttraining's auc: 0.772999\tvalid_1's auc: 0.72615\n",
      "[3000]\ttraining's auc: 0.795584\tvalid_1's auc: 0.725309\n",
      "[4000]\ttraining's auc: 0.816672\tvalid_1's auc: 0.724426\n",
      "Early stopping, best iteration is:\n",
      "[1397]\ttraining's auc: 0.758519\tvalid_1's auc: 0.726685\n",
      "Fold 7\n",
      "Training until validation scores don't improve for 3000 rounds.\n",
      "[1000]\ttraining's auc: 0.749575\tvalid_1's auc: 0.712295\n",
      "[2000]\ttraining's auc: 0.773407\tvalid_1's auc: 0.713449\n",
      "[3000]\ttraining's auc: 0.796533\tvalid_1's auc: 0.713512\n",
      "[4000]\ttraining's auc: 0.817448\tvalid_1's auc: 0.713536\n",
      "[5000]\ttraining's auc: 0.836752\tvalid_1's auc: 0.712608\n",
      "[6000]\ttraining's auc: 0.85448\tvalid_1's auc: 0.711863\n",
      "[7000]\ttraining's auc: 0.870511\tvalid_1's auc: 0.711157\n",
      "Early stopping, best iteration is:\n",
      "[4060]\ttraining's auc: 0.818768\tvalid_1's auc: 0.713807\n",
      "Fold 8\n",
      "Training until validation scores don't improve for 3000 rounds.\n",
      "[1000]\ttraining's auc: 0.748423\tvalid_1's auc: 0.728226\n",
      "[2000]\ttraining's auc: 0.772738\tvalid_1's auc: 0.728536\n",
      "[3000]\ttraining's auc: 0.795657\tvalid_1's auc: 0.727199\n",
      "[4000]\ttraining's auc: 0.816851\tvalid_1's auc: 0.726828\n",
      "Early stopping, best iteration is:\n",
      "[1352]\ttraining's auc: 0.757013\tvalid_1's auc: 0.729147\n",
      "Fold 9\n",
      "Training until validation scores don't improve for 3000 rounds.\n",
      "[1000]\ttraining's auc: 0.749738\tvalid_1's auc: 0.715395\n",
      "[2000]\ttraining's auc: 0.77371\tvalid_1's auc: 0.716612\n",
      "[3000]\ttraining's auc: 0.796409\tvalid_1's auc: 0.71626\n",
      "[4000]\ttraining's auc: 0.817618\tvalid_1's auc: 0.715617\n",
      "[5000]\ttraining's auc: 0.836863\tvalid_1's auc: 0.715057\n",
      "Early stopping, best iteration is:\n",
      "[2348]\ttraining's auc: 0.781765\tvalid_1's auc: 0.716939\n",
      "Total run time 15.038687678178151 min:\n",
      "CV score: 0.71978 \n"
     ]
    }
   ],
   "source": [
    "train_results_polinomial_ucm_1_4 = train(\n",
    "    train_polinomial_df_ucm_1_4,\n",
    "    test_polinomial_df_ucm_1_4,\n",
    "    train_target_series_ucm_1_4,\n",
    "    train_polinomial_df_ucm_1_4.columns.tolist(),\n",
    "    param\n",
    ")"
   ]
  },
  {
   "cell_type": "code",
   "execution_count": 162,
   "metadata": {},
   "outputs": [],
   "source": [
    "oof_ucm_1_4, predictions_ucm_1_4, feature_importance_df_ucm_1_4, clf_ucm_1_4 = train_results_polinomial_ucm_1_4"
   ]
  },
  {
   "cell_type": "code",
   "execution_count": 163,
   "metadata": {},
   "outputs": [],
   "source": [
    "predictions_df_ucm_1_4 = pd.DataFrame(data=predictions_ucm_1_4, columns=['target'])"
   ]
  },
  {
   "cell_type": "code",
   "execution_count": 164,
   "metadata": {},
   "outputs": [],
   "source": [
    "predictions_df_ucm_1_4.to_csv('predictions_ucm_1_4.csv', index=False)"
   ]
  },
  {
   "cell_type": "code",
   "execution_count": 165,
   "metadata": {},
   "outputs": [],
   "source": [
    "train_polinomial_df_ucm_1_4.to_csv('train_polinomial_data_ucm_1_4.csv', index=False)"
   ]
  },
  {
   "cell_type": "code",
   "execution_count": 166,
   "metadata": {},
   "outputs": [],
   "source": [
    "test_polinomial_df_ucm_1_4.to_csv('test_polinomial_data_ucm_1_4.csv', index=False)"
   ]
  },
  {
   "cell_type": "code",
   "execution_count": 167,
   "metadata": {},
   "outputs": [],
   "source": [
    "train_target_series_ucm_1_4.to_csv('train_target_ucm_1_4.csv', index=False)"
   ]
  },
  {
   "cell_type": "code",
   "execution_count": 168,
   "metadata": {},
   "outputs": [
    {
     "data": {
      "text/plain": [
       "276"
      ]
     },
     "execution_count": 168,
     "metadata": {},
     "output_type": "execute_result"
    }
   ],
   "source": [
    "del train_polinomial_df_ucm_1_4\n",
    "del test_polinomial_df_ucm_1_4\n",
    "del train_target_series_ucm_1_4\n",
    "gc.collect()"
   ]
  },
  {
   "cell_type": "code",
   "execution_count": 169,
   "metadata": {},
   "outputs": [],
   "source": [
    "clf_ucm_1_4.save_model('lgbm_ucm_1_4.txt')"
   ]
  },
  {
   "cell_type": "code",
   "execution_count": 170,
   "metadata": {},
   "outputs": [
    {
     "data": {
      "text/html": [
       "<div>\n",
       "<style scoped>\n",
       "    .dataframe tbody tr th:only-of-type {\n",
       "        vertical-align: middle;\n",
       "    }\n",
       "\n",
       "    .dataframe tbody tr th {\n",
       "        vertical-align: top;\n",
       "    }\n",
       "\n",
       "    .dataframe thead th {\n",
       "        text-align: right;\n",
       "    }\n",
       "</style>\n",
       "<table border=\"1\" class=\"dataframe\">\n",
       "  <thead>\n",
       "    <tr style=\"text-align: right;\">\n",
       "      <th></th>\n",
       "      <th>target</th>\n",
       "    </tr>\n",
       "  </thead>\n",
       "  <tbody>\n",
       "    <tr>\n",
       "      <th>0</th>\n",
       "      <td>0.113475</td>\n",
       "    </tr>\n",
       "    <tr>\n",
       "      <th>1</th>\n",
       "      <td>0.325539</td>\n",
       "    </tr>\n",
       "    <tr>\n",
       "      <th>2</th>\n",
       "      <td>0.218762</td>\n",
       "    </tr>\n",
       "    <tr>\n",
       "      <th>3</th>\n",
       "      <td>0.247634</td>\n",
       "    </tr>\n",
       "    <tr>\n",
       "      <th>4</th>\n",
       "      <td>0.060212</td>\n",
       "    </tr>\n",
       "  </tbody>\n",
       "</table>\n",
       "</div>"
      ],
      "text/plain": [
       "     target\n",
       "0  0.113475\n",
       "1  0.325539\n",
       "2  0.218762\n",
       "3  0.247634\n",
       "4  0.060212"
      ]
     },
     "execution_count": 170,
     "metadata": {},
     "output_type": "execute_result"
    }
   ],
   "source": [
    "predictions_df.head()"
   ]
  },
  {
   "cell_type": "code",
   "execution_count": null,
   "metadata": {},
   "outputs": [],
   "source": []
  }
 ],
 "metadata": {
  "kernelspec": {
   "display_name": "Python 3",
   "language": "python",
   "name": "python3"
  },
  "language_info": {
   "codemirror_mode": {
    "name": "ipython",
    "version": 3
   },
   "file_extension": ".py",
   "mimetype": "text/x-python",
   "name": "python",
   "nbconvert_exporter": "python",
   "pygments_lexer": "ipython3",
   "version": "3.6.6"
  }
 },
 "nbformat": 4,
 "nbformat_minor": 2
}
